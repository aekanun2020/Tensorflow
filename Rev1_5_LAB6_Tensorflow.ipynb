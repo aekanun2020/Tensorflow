{
  "nbformat": 4,
  "nbformat_minor": 0,
  "metadata": {
    "colab": {
      "name": "Rev1.5-LAB6-Tensorflow.ipynb",
      "provenance": [],
      "collapsed_sections": []
    },
    "kernelspec": {
      "name": "python3",
      "display_name": "Python 3"
    },
    "language_info": {
      "name": "python"
    }
  },
  "cells": [
    {
      "cell_type": "code",
      "metadata": {
        "id": "D8qPF7NyqwgW",
        "colab": {
          "base_uri": "https://localhost:8080/"
        },
        "outputId": "77e17964-990f-49f3-907d-77742e42f046"
      },
      "source": [
        "!pip install seaborn\n",
        "\n",
        "from __future__ import absolute_import, division, print_function, unicode_literals\n",
        "\n",
        "import pathlib\n",
        "\n",
        "import matplotlib.pyplot as plt\n",
        "import numpy as np\n",
        "import pandas as pd\n",
        "import seaborn as sns\n"
      ],
      "execution_count": 1,
      "outputs": [
        {
          "output_type": "stream",
          "name": "stdout",
          "text": [
            "Requirement already satisfied: seaborn in /usr/local/lib/python3.7/dist-packages (0.11.2)\n",
            "Requirement already satisfied: scipy>=1.0 in /usr/local/lib/python3.7/dist-packages (from seaborn) (1.4.1)\n",
            "Requirement already satisfied: matplotlib>=2.2 in /usr/local/lib/python3.7/dist-packages (from seaborn) (3.2.2)\n",
            "Requirement already satisfied: numpy>=1.15 in /usr/local/lib/python3.7/dist-packages (from seaborn) (1.19.5)\n",
            "Requirement already satisfied: pandas>=0.23 in /usr/local/lib/python3.7/dist-packages (from seaborn) (1.1.5)\n",
            "Requirement already satisfied: pyparsing!=2.0.4,!=2.1.2,!=2.1.6,>=2.0.1 in /usr/local/lib/python3.7/dist-packages (from matplotlib>=2.2->seaborn) (3.0.6)\n",
            "Requirement already satisfied: python-dateutil>=2.1 in /usr/local/lib/python3.7/dist-packages (from matplotlib>=2.2->seaborn) (2.8.2)\n",
            "Requirement already satisfied: cycler>=0.10 in /usr/local/lib/python3.7/dist-packages (from matplotlib>=2.2->seaborn) (0.11.0)\n",
            "Requirement already satisfied: kiwisolver>=1.0.1 in /usr/local/lib/python3.7/dist-packages (from matplotlib>=2.2->seaborn) (1.3.2)\n",
            "Requirement already satisfied: pytz>=2017.2 in /usr/local/lib/python3.7/dist-packages (from pandas>=0.23->seaborn) (2018.9)\n",
            "Requirement already satisfied: six>=1.5 in /usr/local/lib/python3.7/dist-packages (from python-dateutil>=2.1->matplotlib>=2.2->seaborn) (1.15.0)\n"
          ]
        }
      ]
    },
    {
      "cell_type": "code",
      "metadata": {
        "colab": {
          "base_uri": "https://localhost:8080/"
        },
        "id": "rqY55Q39B4F2",
        "outputId": "6f7dfd65-a281-41dd-e216-f59a204dffd5"
      },
      "source": [
        "import tensorflow as tf\n",
        "\n",
        "from tensorflow import keras\n",
        "from tensorflow.keras import layers\n",
        "\n",
        "print(tf.__version__)"
      ],
      "execution_count": 2,
      "outputs": [
        {
          "output_type": "stream",
          "name": "stdout",
          "text": [
            "2.7.0\n"
          ]
        }
      ]
    },
    {
      "cell_type": "markdown",
      "metadata": {
        "id": "B9MV-hzTUPWd"
      },
      "source": [
        "**1. Load raw data into Pandas dataframe**"
      ]
    },
    {
      "cell_type": "code",
      "metadata": {
        "id": "nuQmipHkDZvO"
      },
      "source": [
        "breast_cancer = 'https://archive.ics.uci.edu/ml/machine-learning-databases/breast-cancer-wisconsin/breast-cancer-wisconsin.data'"
      ],
      "execution_count": 3,
      "outputs": []
    },
    {
      "cell_type": "code",
      "metadata": {
        "id": "VJv8aSiKqyLr",
        "colab": {
          "base_uri": "https://localhost:8080/"
        },
        "outputId": "8b06a74a-2f3a-4b55-f2c6-7f58ff4bd644"
      },
      "source": [
        "path = keras.utils.get_file(\"breast-cancer-wisconsin.data\",breast_cancer)\n"
      ],
      "execution_count": 4,
      "outputs": [
        {
          "output_type": "stream",
          "name": "stdout",
          "text": [
            "Downloading data from https://archive.ics.uci.edu/ml/machine-learning-databases/breast-cancer-wisconsin/breast-cancer-wisconsin.data\n",
            "24576/19889 [=====================================] - 0s 0us/step\n",
            "32768/19889 [=================================================] - 0s 0us/step\n"
          ]
        }
      ]
    },
    {
      "cell_type": "code",
      "metadata": {
        "id": "kfMJmg9kq1Tq"
      },
      "source": [
        "columns = ['sample_code', 'clump_thickness', 'cell_size_uniformity',\n",
        "           'cell_shape_uniformity',\n",
        "           'marginal_adhesion', 'single_epithelial_cell_size',\n",
        "           'bare_nuclei', 'bland_chromatin',\n",
        "           'normal_nucleoli', 'mitoses', 'class']\n",
        "raw_pd = pd.read_csv(path, header=None, names=columns, na_values=[np.nan, '?'])### เนื่องจาก Meaning ของข้อมูลเป็น numerical type จึงใช้ na_value ตรวจหาและแทนทีค่าใน list ด้วย NULL เพื่อให้ dataframe เป็น numerical type ทังหมด\n"
      ],
      "execution_count": 5,
      "outputs": []
    },
    {
      "cell_type": "code",
      "metadata": {
        "id": "Zp6w7xX1UZa-"
      },
      "source": [
        ""
      ],
      "execution_count": 5,
      "outputs": []
    },
    {
      "cell_type": "markdown",
      "metadata": {
        "id": "pfn1Gp_kUaHv"
      },
      "source": [
        "**2.Look for NULL values and treat them**"
      ]
    },
    {
      "cell_type": "code",
      "metadata": {
        "id": "G1XUq4TJsSyL",
        "colab": {
          "base_uri": "https://localhost:8080/"
        },
        "outputId": "8f8face8-8256-4f3a-8d23-05228d310fec"
      },
      "source": [
        "raw_pd.info()"
      ],
      "execution_count": 6,
      "outputs": [
        {
          "output_type": "stream",
          "name": "stdout",
          "text": [
            "<class 'pandas.core.frame.DataFrame'>\n",
            "RangeIndex: 699 entries, 0 to 698\n",
            "Data columns (total 11 columns):\n",
            " #   Column                       Non-Null Count  Dtype  \n",
            "---  ------                       --------------  -----  \n",
            " 0   sample_code                  699 non-null    int64  \n",
            " 1   clump_thickness              699 non-null    int64  \n",
            " 2   cell_size_uniformity         699 non-null    int64  \n",
            " 3   cell_shape_uniformity        699 non-null    int64  \n",
            " 4   marginal_adhesion            699 non-null    int64  \n",
            " 5   single_epithelial_cell_size  699 non-null    int64  \n",
            " 6   bare_nuclei                  683 non-null    float64\n",
            " 7   bland_chromatin              699 non-null    int64  \n",
            " 8   normal_nucleoli              699 non-null    int64  \n",
            " 9   mitoses                      699 non-null    int64  \n",
            " 10  class                        699 non-null    int64  \n",
            "dtypes: float64(1), int64(10)\n",
            "memory usage: 60.2 KB\n"
          ]
        }
      ]
    },
    {
      "cell_type": "code",
      "metadata": {
        "id": "bz577XGyq-0X",
        "colab": {
          "base_uri": "https://localhost:8080/"
        },
        "outputId": "ad524202-517b-4f90-cbe5-7b99f56954cc"
      },
      "source": [
        "raw_pd.isnull().sum()"
      ],
      "execution_count": 7,
      "outputs": [
        {
          "output_type": "execute_result",
          "data": {
            "text/plain": [
              "sample_code                     0\n",
              "clump_thickness                 0\n",
              "cell_size_uniformity            0\n",
              "cell_shape_uniformity           0\n",
              "marginal_adhesion               0\n",
              "single_epithelial_cell_size     0\n",
              "bare_nuclei                    16\n",
              "bland_chromatin                 0\n",
              "normal_nucleoli                 0\n",
              "mitoses                         0\n",
              "class                           0\n",
              "dtype: int64"
            ]
          },
          "metadata": {},
          "execution_count": 7
        }
      ]
    },
    {
      "cell_type": "code",
      "metadata": {
        "id": "BW4k49GIrPev",
        "colab": {
          "base_uri": "https://localhost:8080/"
        },
        "outputId": "30627173-7e26-461b-d632-4b35cf399899"
      },
      "source": [
        "raw_pd.shape"
      ],
      "execution_count": 8,
      "outputs": [
        {
          "output_type": "execute_result",
          "data": {
            "text/plain": [
              "(699, 11)"
            ]
          },
          "metadata": {},
          "execution_count": 8
        }
      ]
    },
    {
      "cell_type": "code",
      "metadata": {
        "id": "GgXpDSOrrXFH",
        "colab": {
          "base_uri": "https://localhost:8080/",
          "height": 221
        },
        "outputId": "b62d7c44-778a-44de-aee2-5f32e931422e"
      },
      "source": [
        "raw_pd.loc[raw_pd['bare_nuclei'].isnull(),['bare_nuclei']].tail(5)"
      ],
      "execution_count": 9,
      "outputs": [
        {
          "output_type": "execute_result",
          "data": {
            "text/html": [
              "<div>\n",
              "<style scoped>\n",
              "    .dataframe tbody tr th:only-of-type {\n",
              "        vertical-align: middle;\n",
              "    }\n",
              "\n",
              "    .dataframe tbody tr th {\n",
              "        vertical-align: top;\n",
              "    }\n",
              "\n",
              "    .dataframe thead th {\n",
              "        text-align: right;\n",
              "    }\n",
              "</style>\n",
              "<table border=\"1\" class=\"dataframe\">\n",
              "  <thead>\n",
              "    <tr style=\"text-align: right;\">\n",
              "      <th></th>\n",
              "      <th>bare_nuclei</th>\n",
              "    </tr>\n",
              "  </thead>\n",
              "  <tbody>\n",
              "    <tr>\n",
              "      <th>297</th>\n",
              "      <td>NaN</td>\n",
              "    </tr>\n",
              "    <tr>\n",
              "      <th>315</th>\n",
              "      <td>NaN</td>\n",
              "    </tr>\n",
              "    <tr>\n",
              "      <th>321</th>\n",
              "      <td>NaN</td>\n",
              "    </tr>\n",
              "    <tr>\n",
              "      <th>411</th>\n",
              "      <td>NaN</td>\n",
              "    </tr>\n",
              "    <tr>\n",
              "      <th>617</th>\n",
              "      <td>NaN</td>\n",
              "    </tr>\n",
              "  </tbody>\n",
              "</table>\n",
              "</div>"
            ],
            "text/plain": [
              "     bare_nuclei\n",
              "297          NaN\n",
              "315          NaN\n",
              "321          NaN\n",
              "411          NaN\n",
              "617          NaN"
            ]
          },
          "metadata": {},
          "execution_count": 9
        }
      ]
    },
    {
      "cell_type": "code",
      "metadata": {
        "colab": {
          "base_uri": "https://localhost:8080/"
        },
        "id": "6_XAPQ3sU1A1",
        "outputId": "5b65092e-99ee-4510-dcbe-8eb944bc86aa"
      },
      "source": [
        "raw_pd.median()"
      ],
      "execution_count": 10,
      "outputs": [
        {
          "output_type": "execute_result",
          "data": {
            "text/plain": [
              "sample_code                    1171710.0\n",
              "clump_thickness                      4.0\n",
              "cell_size_uniformity                 1.0\n",
              "cell_shape_uniformity                1.0\n",
              "marginal_adhesion                    1.0\n",
              "single_epithelial_cell_size          2.0\n",
              "bare_nuclei                          1.0\n",
              "bland_chromatin                      3.0\n",
              "normal_nucleoli                      1.0\n",
              "mitoses                              1.0\n",
              "class                                2.0\n",
              "dtype: float64"
            ]
          },
          "metadata": {},
          "execution_count": 10
        }
      ]
    },
    {
      "cell_type": "code",
      "metadata": {
        "id": "PD_n5iftriAo"
      },
      "source": [
        "raw_pd = raw_pd.fillna(raw_pd.median())"
      ],
      "execution_count": 11,
      "outputs": []
    },
    {
      "cell_type": "markdown",
      "metadata": {
        "id": "1oasebHkWRTP"
      },
      "source": [
        "**3. Other Data Preparation - Labeling**"
      ]
    },
    {
      "cell_type": "code",
      "metadata": {
        "id": "EyTjVA87zipz",
        "colab": {
          "base_uri": "https://localhost:8080/",
          "height": 405
        },
        "outputId": "875cc2c3-64e0-4374-f9d7-463e21ac89d6"
      },
      "source": [
        "raw_pd.describe().transpose()"
      ],
      "execution_count": 12,
      "outputs": [
        {
          "output_type": "execute_result",
          "data": {
            "text/html": [
              "<div>\n",
              "<style scoped>\n",
              "    .dataframe tbody tr th:only-of-type {\n",
              "        vertical-align: middle;\n",
              "    }\n",
              "\n",
              "    .dataframe tbody tr th {\n",
              "        vertical-align: top;\n",
              "    }\n",
              "\n",
              "    .dataframe thead th {\n",
              "        text-align: right;\n",
              "    }\n",
              "</style>\n",
              "<table border=\"1\" class=\"dataframe\">\n",
              "  <thead>\n",
              "    <tr style=\"text-align: right;\">\n",
              "      <th></th>\n",
              "      <th>count</th>\n",
              "      <th>mean</th>\n",
              "      <th>std</th>\n",
              "      <th>min</th>\n",
              "      <th>25%</th>\n",
              "      <th>50%</th>\n",
              "      <th>75%</th>\n",
              "      <th>max</th>\n",
              "    </tr>\n",
              "  </thead>\n",
              "  <tbody>\n",
              "    <tr>\n",
              "      <th>sample_code</th>\n",
              "      <td>699.0</td>\n",
              "      <td>1.071704e+06</td>\n",
              "      <td>617095.729819</td>\n",
              "      <td>61634.0</td>\n",
              "      <td>870688.5</td>\n",
              "      <td>1171710.0</td>\n",
              "      <td>1238298.0</td>\n",
              "      <td>13454352.0</td>\n",
              "    </tr>\n",
              "    <tr>\n",
              "      <th>clump_thickness</th>\n",
              "      <td>699.0</td>\n",
              "      <td>4.417740e+00</td>\n",
              "      <td>2.815741</td>\n",
              "      <td>1.0</td>\n",
              "      <td>2.0</td>\n",
              "      <td>4.0</td>\n",
              "      <td>6.0</td>\n",
              "      <td>10.0</td>\n",
              "    </tr>\n",
              "    <tr>\n",
              "      <th>cell_size_uniformity</th>\n",
              "      <td>699.0</td>\n",
              "      <td>3.134478e+00</td>\n",
              "      <td>3.051459</td>\n",
              "      <td>1.0</td>\n",
              "      <td>1.0</td>\n",
              "      <td>1.0</td>\n",
              "      <td>5.0</td>\n",
              "      <td>10.0</td>\n",
              "    </tr>\n",
              "    <tr>\n",
              "      <th>cell_shape_uniformity</th>\n",
              "      <td>699.0</td>\n",
              "      <td>3.207439e+00</td>\n",
              "      <td>2.971913</td>\n",
              "      <td>1.0</td>\n",
              "      <td>1.0</td>\n",
              "      <td>1.0</td>\n",
              "      <td>5.0</td>\n",
              "      <td>10.0</td>\n",
              "    </tr>\n",
              "    <tr>\n",
              "      <th>marginal_adhesion</th>\n",
              "      <td>699.0</td>\n",
              "      <td>2.806867e+00</td>\n",
              "      <td>2.855379</td>\n",
              "      <td>1.0</td>\n",
              "      <td>1.0</td>\n",
              "      <td>1.0</td>\n",
              "      <td>4.0</td>\n",
              "      <td>10.0</td>\n",
              "    </tr>\n",
              "    <tr>\n",
              "      <th>single_epithelial_cell_size</th>\n",
              "      <td>699.0</td>\n",
              "      <td>3.216023e+00</td>\n",
              "      <td>2.214300</td>\n",
              "      <td>1.0</td>\n",
              "      <td>2.0</td>\n",
              "      <td>2.0</td>\n",
              "      <td>4.0</td>\n",
              "      <td>10.0</td>\n",
              "    </tr>\n",
              "    <tr>\n",
              "      <th>bare_nuclei</th>\n",
              "      <td>699.0</td>\n",
              "      <td>3.486409e+00</td>\n",
              "      <td>3.621929</td>\n",
              "      <td>1.0</td>\n",
              "      <td>1.0</td>\n",
              "      <td>1.0</td>\n",
              "      <td>5.0</td>\n",
              "      <td>10.0</td>\n",
              "    </tr>\n",
              "    <tr>\n",
              "      <th>bland_chromatin</th>\n",
              "      <td>699.0</td>\n",
              "      <td>3.437768e+00</td>\n",
              "      <td>2.438364</td>\n",
              "      <td>1.0</td>\n",
              "      <td>2.0</td>\n",
              "      <td>3.0</td>\n",
              "      <td>5.0</td>\n",
              "      <td>10.0</td>\n",
              "    </tr>\n",
              "    <tr>\n",
              "      <th>normal_nucleoli</th>\n",
              "      <td>699.0</td>\n",
              "      <td>2.866953e+00</td>\n",
              "      <td>3.053634</td>\n",
              "      <td>1.0</td>\n",
              "      <td>1.0</td>\n",
              "      <td>1.0</td>\n",
              "      <td>4.0</td>\n",
              "      <td>10.0</td>\n",
              "    </tr>\n",
              "    <tr>\n",
              "      <th>mitoses</th>\n",
              "      <td>699.0</td>\n",
              "      <td>1.589413e+00</td>\n",
              "      <td>1.715078</td>\n",
              "      <td>1.0</td>\n",
              "      <td>1.0</td>\n",
              "      <td>1.0</td>\n",
              "      <td>1.0</td>\n",
              "      <td>10.0</td>\n",
              "    </tr>\n",
              "    <tr>\n",
              "      <th>class</th>\n",
              "      <td>699.0</td>\n",
              "      <td>2.689557e+00</td>\n",
              "      <td>0.951273</td>\n",
              "      <td>2.0</td>\n",
              "      <td>2.0</td>\n",
              "      <td>2.0</td>\n",
              "      <td>4.0</td>\n",
              "      <td>4.0</td>\n",
              "    </tr>\n",
              "  </tbody>\n",
              "</table>\n",
              "</div>"
            ],
            "text/plain": [
              "                             count          mean  ...        75%         max\n",
              "sample_code                  699.0  1.071704e+06  ...  1238298.0  13454352.0\n",
              "clump_thickness              699.0  4.417740e+00  ...        6.0        10.0\n",
              "cell_size_uniformity         699.0  3.134478e+00  ...        5.0        10.0\n",
              "cell_shape_uniformity        699.0  3.207439e+00  ...        5.0        10.0\n",
              "marginal_adhesion            699.0  2.806867e+00  ...        4.0        10.0\n",
              "single_epithelial_cell_size  699.0  3.216023e+00  ...        4.0        10.0\n",
              "bare_nuclei                  699.0  3.486409e+00  ...        5.0        10.0\n",
              "bland_chromatin              699.0  3.437768e+00  ...        5.0        10.0\n",
              "normal_nucleoli              699.0  2.866953e+00  ...        4.0        10.0\n",
              "mitoses                      699.0  1.589413e+00  ...        1.0        10.0\n",
              "class                        699.0  2.689557e+00  ...        4.0         4.0\n",
              "\n",
              "[11 rows x 8 columns]"
            ]
          },
          "metadata": {},
          "execution_count": 12
        }
      ]
    },
    {
      "cell_type": "code",
      "metadata": {
        "id": "npQL5i3X0iVH",
        "colab": {
          "base_uri": "https://localhost:8080/",
          "height": 160
        },
        "outputId": "100f7d3f-e584-4892-a5a8-cbe84aa4f6b7"
      },
      "source": [
        "raw_pd.groupby(['class']).count()"
      ],
      "execution_count": 13,
      "outputs": [
        {
          "output_type": "execute_result",
          "data": {
            "text/html": [
              "<div>\n",
              "<style scoped>\n",
              "    .dataframe tbody tr th:only-of-type {\n",
              "        vertical-align: middle;\n",
              "    }\n",
              "\n",
              "    .dataframe tbody tr th {\n",
              "        vertical-align: top;\n",
              "    }\n",
              "\n",
              "    .dataframe thead th {\n",
              "        text-align: right;\n",
              "    }\n",
              "</style>\n",
              "<table border=\"1\" class=\"dataframe\">\n",
              "  <thead>\n",
              "    <tr style=\"text-align: right;\">\n",
              "      <th></th>\n",
              "      <th>sample_code</th>\n",
              "      <th>clump_thickness</th>\n",
              "      <th>cell_size_uniformity</th>\n",
              "      <th>cell_shape_uniformity</th>\n",
              "      <th>marginal_adhesion</th>\n",
              "      <th>single_epithelial_cell_size</th>\n",
              "      <th>bare_nuclei</th>\n",
              "      <th>bland_chromatin</th>\n",
              "      <th>normal_nucleoli</th>\n",
              "      <th>mitoses</th>\n",
              "    </tr>\n",
              "    <tr>\n",
              "      <th>class</th>\n",
              "      <th></th>\n",
              "      <th></th>\n",
              "      <th></th>\n",
              "      <th></th>\n",
              "      <th></th>\n",
              "      <th></th>\n",
              "      <th></th>\n",
              "      <th></th>\n",
              "      <th></th>\n",
              "      <th></th>\n",
              "    </tr>\n",
              "  </thead>\n",
              "  <tbody>\n",
              "    <tr>\n",
              "      <th>2</th>\n",
              "      <td>458</td>\n",
              "      <td>458</td>\n",
              "      <td>458</td>\n",
              "      <td>458</td>\n",
              "      <td>458</td>\n",
              "      <td>458</td>\n",
              "      <td>458</td>\n",
              "      <td>458</td>\n",
              "      <td>458</td>\n",
              "      <td>458</td>\n",
              "    </tr>\n",
              "    <tr>\n",
              "      <th>4</th>\n",
              "      <td>241</td>\n",
              "      <td>241</td>\n",
              "      <td>241</td>\n",
              "      <td>241</td>\n",
              "      <td>241</td>\n",
              "      <td>241</td>\n",
              "      <td>241</td>\n",
              "      <td>241</td>\n",
              "      <td>241</td>\n",
              "      <td>241</td>\n",
              "    </tr>\n",
              "  </tbody>\n",
              "</table>\n",
              "</div>"
            ],
            "text/plain": [
              "       sample_code  clump_thickness  ...  normal_nucleoli  mitoses\n",
              "class                                ...                          \n",
              "2              458              458  ...              458      458\n",
              "4              241              241  ...              241      241\n",
              "\n",
              "[2 rows x 10 columns]"
            ]
          },
          "metadata": {},
          "execution_count": 13
        }
      ]
    },
    {
      "cell_type": "code",
      "metadata": {
        "id": "OHwcvKof3x7E"
      },
      "source": [
        "raw_pd['label'] = (raw_pd['class']==4).astype(int) ### สร้าง Column ใหม่ขึ้นมาเป็น Label ให้มีค่าเป็น 0,1 ซึ่ง 1 คือ Malignant (ค่า 4 เดิม)"
      ],
      "execution_count": 14,
      "outputs": []
    },
    {
      "cell_type": "code",
      "metadata": {
        "id": "pvEbZo0e5NH6",
        "colab": {
          "base_uri": "https://localhost:8080/",
          "height": 160
        },
        "outputId": "7a2ee681-6e04-47b0-9af6-3083280030c4"
      },
      "source": [
        "raw_pd.groupby(['class','label']).count()"
      ],
      "execution_count": 15,
      "outputs": [
        {
          "output_type": "execute_result",
          "data": {
            "text/html": [
              "<div>\n",
              "<style scoped>\n",
              "    .dataframe tbody tr th:only-of-type {\n",
              "        vertical-align: middle;\n",
              "    }\n",
              "\n",
              "    .dataframe tbody tr th {\n",
              "        vertical-align: top;\n",
              "    }\n",
              "\n",
              "    .dataframe thead th {\n",
              "        text-align: right;\n",
              "    }\n",
              "</style>\n",
              "<table border=\"1\" class=\"dataframe\">\n",
              "  <thead>\n",
              "    <tr style=\"text-align: right;\">\n",
              "      <th></th>\n",
              "      <th></th>\n",
              "      <th>sample_code</th>\n",
              "      <th>clump_thickness</th>\n",
              "      <th>cell_size_uniformity</th>\n",
              "      <th>cell_shape_uniformity</th>\n",
              "      <th>marginal_adhesion</th>\n",
              "      <th>single_epithelial_cell_size</th>\n",
              "      <th>bare_nuclei</th>\n",
              "      <th>bland_chromatin</th>\n",
              "      <th>normal_nucleoli</th>\n",
              "      <th>mitoses</th>\n",
              "    </tr>\n",
              "    <tr>\n",
              "      <th>class</th>\n",
              "      <th>label</th>\n",
              "      <th></th>\n",
              "      <th></th>\n",
              "      <th></th>\n",
              "      <th></th>\n",
              "      <th></th>\n",
              "      <th></th>\n",
              "      <th></th>\n",
              "      <th></th>\n",
              "      <th></th>\n",
              "      <th></th>\n",
              "    </tr>\n",
              "  </thead>\n",
              "  <tbody>\n",
              "    <tr>\n",
              "      <th>2</th>\n",
              "      <th>0</th>\n",
              "      <td>458</td>\n",
              "      <td>458</td>\n",
              "      <td>458</td>\n",
              "      <td>458</td>\n",
              "      <td>458</td>\n",
              "      <td>458</td>\n",
              "      <td>458</td>\n",
              "      <td>458</td>\n",
              "      <td>458</td>\n",
              "      <td>458</td>\n",
              "    </tr>\n",
              "    <tr>\n",
              "      <th>4</th>\n",
              "      <th>1</th>\n",
              "      <td>241</td>\n",
              "      <td>241</td>\n",
              "      <td>241</td>\n",
              "      <td>241</td>\n",
              "      <td>241</td>\n",
              "      <td>241</td>\n",
              "      <td>241</td>\n",
              "      <td>241</td>\n",
              "      <td>241</td>\n",
              "      <td>241</td>\n",
              "    </tr>\n",
              "  </tbody>\n",
              "</table>\n",
              "</div>"
            ],
            "text/plain": [
              "             sample_code  clump_thickness  ...  normal_nucleoli  mitoses\n",
              "class label                                ...                          \n",
              "2     0              458              458  ...              458      458\n",
              "4     1              241              241  ...              241      241\n",
              "\n",
              "[2 rows x 10 columns]"
            ]
          },
          "metadata": {},
          "execution_count": 15
        }
      ]
    },
    {
      "cell_type": "markdown",
      "metadata": {
        "id": "7WlUk0nrW0hS"
      },
      "source": [
        "**4. Split data into Training set and Testing set**"
      ]
    },
    {
      "cell_type": "code",
      "metadata": {
        "id": "7kQzo2jAzL8U"
      },
      "source": [
        "x_train = raw_pd.sample(frac=0.8).copy()"
      ],
      "execution_count": 16,
      "outputs": []
    },
    {
      "cell_type": "code",
      "metadata": {
        "id": "DPPVSKYVcwGa"
      },
      "source": [
        "x_test = raw_pd.drop(x_train.index)"
      ],
      "execution_count": 17,
      "outputs": []
    },
    {
      "cell_type": "code",
      "metadata": {
        "id": "N7VjFMaIcytE"
      },
      "source": [
        ""
      ],
      "execution_count": 17,
      "outputs": []
    },
    {
      "cell_type": "markdown",
      "metadata": {
        "id": "j2JeE1SreDZx"
      },
      "source": [
        "**5. Separate Label from Features**"
      ]
    },
    {
      "cell_type": "code",
      "metadata": {
        "id": "2fuv8CJGzOSZ"
      },
      "source": [
        "y_train = x_train['label']"
      ],
      "execution_count": 18,
      "outputs": []
    },
    {
      "cell_type": "code",
      "metadata": {
        "id": "a-av6HOtZ4Gk"
      },
      "source": [
        "x_train.drop(['sample_code', 'class','label'], axis=1, inplace=True)"
      ],
      "execution_count": 19,
      "outputs": []
    },
    {
      "cell_type": "code",
      "metadata": {
        "id": "lyv_T94j180B",
        "colab": {
          "base_uri": "https://localhost:8080/"
        },
        "outputId": "00fddb52-283f-4d1e-b687-8c6b111896c7"
      },
      "source": [
        "x_train.info()"
      ],
      "execution_count": 20,
      "outputs": [
        {
          "output_type": "stream",
          "name": "stdout",
          "text": [
            "<class 'pandas.core.frame.DataFrame'>\n",
            "Int64Index: 559 entries, 282 to 311\n",
            "Data columns (total 9 columns):\n",
            " #   Column                       Non-Null Count  Dtype  \n",
            "---  ------                       --------------  -----  \n",
            " 0   clump_thickness              559 non-null    int64  \n",
            " 1   cell_size_uniformity         559 non-null    int64  \n",
            " 2   cell_shape_uniformity        559 non-null    int64  \n",
            " 3   marginal_adhesion            559 non-null    int64  \n",
            " 4   single_epithelial_cell_size  559 non-null    int64  \n",
            " 5   bare_nuclei                  559 non-null    float64\n",
            " 6   bland_chromatin              559 non-null    int64  \n",
            " 7   normal_nucleoli              559 non-null    int64  \n",
            " 8   mitoses                      559 non-null    int64  \n",
            "dtypes: float64(1), int64(8)\n",
            "memory usage: 43.7 KB\n"
          ]
        }
      ]
    },
    {
      "cell_type": "code",
      "metadata": {
        "id": "Wn-_4ZKN192A",
        "colab": {
          "base_uri": "https://localhost:8080/"
        },
        "outputId": "a75de340-aaad-4998-e173-62736bb5fc67"
      },
      "source": [
        "x_train.shape"
      ],
      "execution_count": 21,
      "outputs": [
        {
          "output_type": "execute_result",
          "data": {
            "text/plain": [
              "(559, 9)"
            ]
          },
          "metadata": {},
          "execution_count": 21
        }
      ]
    },
    {
      "cell_type": "code",
      "metadata": {
        "id": "x9D7Pbbn1g1Q",
        "colab": {
          "base_uri": "https://localhost:8080/"
        },
        "outputId": "91dcccff-86e7-4055-e12f-21091f4313d3"
      },
      "source": [
        "y_train.shape"
      ],
      "execution_count": 22,
      "outputs": [
        {
          "output_type": "execute_result",
          "data": {
            "text/plain": [
              "(559,)"
            ]
          },
          "metadata": {},
          "execution_count": 22
        }
      ]
    },
    {
      "cell_type": "code",
      "metadata": {
        "id": "ZAkMa_Ub9W1Q"
      },
      "source": [
        ""
      ],
      "execution_count": 22,
      "outputs": []
    },
    {
      "cell_type": "code",
      "metadata": {
        "id": "B8Ov5VOM2WcX"
      },
      "source": [
        "y_test = x_test['label']\n",
        "x_test.drop(['sample_code', 'class','label'], axis=1, inplace=True)"
      ],
      "execution_count": 23,
      "outputs": []
    },
    {
      "cell_type": "code",
      "metadata": {
        "id": "-mlVnwob8jht",
        "colab": {
          "base_uri": "https://localhost:8080/"
        },
        "outputId": "28703e9c-91ea-41b4-f7cd-15e1f7e620b6"
      },
      "source": [
        "x_test.info()"
      ],
      "execution_count": 24,
      "outputs": [
        {
          "output_type": "stream",
          "name": "stdout",
          "text": [
            "<class 'pandas.core.frame.DataFrame'>\n",
            "Int64Index: 140 entries, 15 to 677\n",
            "Data columns (total 9 columns):\n",
            " #   Column                       Non-Null Count  Dtype  \n",
            "---  ------                       --------------  -----  \n",
            " 0   clump_thickness              140 non-null    int64  \n",
            " 1   cell_size_uniformity         140 non-null    int64  \n",
            " 2   cell_shape_uniformity        140 non-null    int64  \n",
            " 3   marginal_adhesion            140 non-null    int64  \n",
            " 4   single_epithelial_cell_size  140 non-null    int64  \n",
            " 5   bare_nuclei                  140 non-null    float64\n",
            " 6   bland_chromatin              140 non-null    int64  \n",
            " 7   normal_nucleoli              140 non-null    int64  \n",
            " 8   mitoses                      140 non-null    int64  \n",
            "dtypes: float64(1), int64(8)\n",
            "memory usage: 10.9 KB\n"
          ]
        }
      ]
    },
    {
      "cell_type": "code",
      "metadata": {
        "id": "HNOxa0_s8pL4",
        "colab": {
          "base_uri": "https://localhost:8080/"
        },
        "outputId": "eeb743d6-b971-4d4e-8198-61c92ab2fa7c"
      },
      "source": [
        "x_test.shape"
      ],
      "execution_count": 25,
      "outputs": [
        {
          "output_type": "execute_result",
          "data": {
            "text/plain": [
              "(140, 9)"
            ]
          },
          "metadata": {},
          "execution_count": 25
        }
      ]
    },
    {
      "cell_type": "code",
      "metadata": {
        "colab": {
          "base_uri": "https://localhost:8080/"
        },
        "id": "cIkwWUP7bn-1",
        "outputId": "f3859487-37dc-49e7-feb1-d9229146d533"
      },
      "source": [
        "y_test.shape"
      ],
      "execution_count": 26,
      "outputs": [
        {
          "output_type": "execute_result",
          "data": {
            "text/plain": [
              "(140,)"
            ]
          },
          "metadata": {},
          "execution_count": 26
        }
      ]
    },
    {
      "cell_type": "markdown",
      "metadata": {
        "id": "XyU7b5XQeVjy"
      },
      "source": [
        "**6. Designing a neural network for model training**"
      ]
    },
    {
      "cell_type": "code",
      "metadata": {
        "id": "uvAtMEel_2uP"
      },
      "source": [
        "def build_model():\n",
        "  model = keras.Sequential([\n",
        "    layers.Dense(9, activation='sigmoid',\n",
        "                 input_shape=(9,)),\n",
        "    layers.Dense(9, activation='sigmoid'),\n",
        "    layers.Dense(1, activation='sigmoid')\n",
        "   ])\n",
        "  \n",
        "  optimizer = keras.optimizers.Ftrl(learning_rate=0.007)\n",
        "  model.compile(loss='binary_crossentropy',\n",
        "              optimizer=optimizer,\n",
        "              metrics=['accuracy'])\n",
        "  return model"
      ],
      "execution_count": 27,
      "outputs": []
    },
    {
      "cell_type": "code",
      "metadata": {
        "id": "opGwSGHtAy5a",
        "colab": {
          "base_uri": "https://localhost:8080/"
        },
        "outputId": "56ab5153-08ea-49ec-e500-1793a037fcf0"
      },
      "source": [
        "model = build_model()\n",
        "model.summary()"
      ],
      "execution_count": 28,
      "outputs": [
        {
          "output_type": "stream",
          "name": "stdout",
          "text": [
            "Model: \"sequential\"\n",
            "_________________________________________________________________\n",
            " Layer (type)                Output Shape              Param #   \n",
            "=================================================================\n",
            " dense (Dense)               (None, 9)                 90        \n",
            "                                                                 \n",
            " dense_1 (Dense)             (None, 9)                 90        \n",
            "                                                                 \n",
            " dense_2 (Dense)             (None, 1)                 10        \n",
            "                                                                 \n",
            "=================================================================\n",
            "Total params: 190\n",
            "Trainable params: 190\n",
            "Non-trainable params: 0\n",
            "_________________________________________________________________\n"
          ]
        }
      ]
    },
    {
      "cell_type": "markdown",
      "metadata": {
        "id": "FaIjnN6lelTE"
      },
      "source": [
        "**7. Launch the model training**"
      ]
    },
    {
      "cell_type": "code",
      "metadata": {
        "id": "lZ9PNY2vA2qh",
        "colab": {
          "base_uri": "https://localhost:8080/"
        },
        "outputId": "02d036d5-1ffb-4179-d68c-8311d5b40ae6"
      },
      "source": [
        "history = model.fit(x_train, y_train, \n",
        "          batch_size=1, \n",
        "          epochs=100, verbose=1, \n",
        "          validation_split=0.1)\n"
      ],
      "execution_count": 29,
      "outputs": [
        {
          "output_type": "stream",
          "name": "stdout",
          "text": [
            "Epoch 1/100\n",
            "503/503 [==============================] - 2s 2ms/step - loss: 0.6770 - accuracy: 0.6103 - val_loss: 0.6471 - val_accuracy: 0.6964\n",
            "Epoch 2/100\n",
            "503/503 [==============================] - 1s 2ms/step - loss: 0.6571 - accuracy: 0.6421 - val_loss: 0.6312 - val_accuracy: 0.6964\n",
            "Epoch 3/100\n",
            "503/503 [==============================] - 1s 2ms/step - loss: 0.6486 - accuracy: 0.6421 - val_loss: 0.6207 - val_accuracy: 0.6964\n",
            "Epoch 4/100\n",
            "503/503 [==============================] - 1s 2ms/step - loss: 0.6422 - accuracy: 0.6421 - val_loss: 0.6127 - val_accuracy: 0.6964\n",
            "Epoch 5/100\n",
            "503/503 [==============================] - 1s 2ms/step - loss: 0.6366 - accuracy: 0.6421 - val_loss: 0.6056 - val_accuracy: 0.6964\n",
            "Epoch 6/100\n",
            "503/503 [==============================] - 1s 2ms/step - loss: 0.6314 - accuracy: 0.6421 - val_loss: 0.5990 - val_accuracy: 0.6964\n",
            "Epoch 7/100\n",
            "503/503 [==============================] - 1s 1ms/step - loss: 0.6262 - accuracy: 0.6421 - val_loss: 0.5925 - val_accuracy: 0.6964\n",
            "Epoch 8/100\n",
            "503/503 [==============================] - 1s 2ms/step - loss: 0.6209 - accuracy: 0.6421 - val_loss: 0.5862 - val_accuracy: 0.6964\n",
            "Epoch 9/100\n",
            "503/503 [==============================] - 1s 2ms/step - loss: 0.6155 - accuracy: 0.6421 - val_loss: 0.5799 - val_accuracy: 0.6964\n",
            "Epoch 10/100\n",
            "503/503 [==============================] - 1s 2ms/step - loss: 0.6100 - accuracy: 0.6421 - val_loss: 0.5736 - val_accuracy: 0.6964\n",
            "Epoch 11/100\n",
            "503/503 [==============================] - 1s 1ms/step - loss: 0.6044 - accuracy: 0.6421 - val_loss: 0.5674 - val_accuracy: 0.6964\n",
            "Epoch 12/100\n",
            "503/503 [==============================] - 1s 2ms/step - loss: 0.5987 - accuracy: 0.6421 - val_loss: 0.5612 - val_accuracy: 0.6964\n",
            "Epoch 13/100\n",
            "503/503 [==============================] - 1s 2ms/step - loss: 0.5929 - accuracy: 0.6421 - val_loss: 0.5550 - val_accuracy: 0.6964\n",
            "Epoch 14/100\n",
            "503/503 [==============================] - 1s 2ms/step - loss: 0.5871 - accuracy: 0.6421 - val_loss: 0.5489 - val_accuracy: 0.6964\n",
            "Epoch 15/100\n",
            "503/503 [==============================] - 1s 2ms/step - loss: 0.5812 - accuracy: 0.6421 - val_loss: 0.5427 - val_accuracy: 0.6964\n",
            "Epoch 16/100\n",
            "503/503 [==============================] - 1s 2ms/step - loss: 0.5753 - accuracy: 0.6421 - val_loss: 0.5365 - val_accuracy: 0.6964\n",
            "Epoch 17/100\n",
            "503/503 [==============================] - 1s 2ms/step - loss: 0.5693 - accuracy: 0.6421 - val_loss: 0.5304 - val_accuracy: 0.6964\n",
            "Epoch 18/100\n",
            "503/503 [==============================] - 1s 2ms/step - loss: 0.5633 - accuracy: 0.6421 - val_loss: 0.5243 - val_accuracy: 0.6964\n",
            "Epoch 19/100\n",
            "503/503 [==============================] - 1s 2ms/step - loss: 0.5572 - accuracy: 0.6421 - val_loss: 0.5181 - val_accuracy: 0.6964\n",
            "Epoch 20/100\n",
            "503/503 [==============================] - 1s 2ms/step - loss: 0.5511 - accuracy: 0.6421 - val_loss: 0.5120 - val_accuracy: 0.6964\n",
            "Epoch 21/100\n",
            "503/503 [==============================] - 1s 2ms/step - loss: 0.5450 - accuracy: 0.6421 - val_loss: 0.5059 - val_accuracy: 0.6964\n",
            "Epoch 22/100\n",
            "503/503 [==============================] - 1s 2ms/step - loss: 0.5388 - accuracy: 0.6421 - val_loss: 0.4997 - val_accuracy: 0.6964\n",
            "Epoch 23/100\n",
            "503/503 [==============================] - 1s 2ms/step - loss: 0.5325 - accuracy: 0.6421 - val_loss: 0.4935 - val_accuracy: 0.6964\n",
            "Epoch 24/100\n",
            "503/503 [==============================] - 1s 2ms/step - loss: 0.5263 - accuracy: 0.6421 - val_loss: 0.4874 - val_accuracy: 0.6964\n",
            "Epoch 25/100\n",
            "503/503 [==============================] - 1s 2ms/step - loss: 0.5200 - accuracy: 0.6421 - val_loss: 0.4812 - val_accuracy: 0.6964\n",
            "Epoch 26/100\n",
            "503/503 [==============================] - 1s 2ms/step - loss: 0.5137 - accuracy: 0.6421 - val_loss: 0.4750 - val_accuracy: 0.6964\n",
            "Epoch 27/100\n",
            "503/503 [==============================] - 1s 2ms/step - loss: 0.5073 - accuracy: 0.6421 - val_loss: 0.4689 - val_accuracy: 0.6964\n",
            "Epoch 28/100\n",
            "503/503 [==============================] - 1s 2ms/step - loss: 0.5010 - accuracy: 0.6421 - val_loss: 0.4627 - val_accuracy: 0.6964\n",
            "Epoch 29/100\n",
            "503/503 [==============================] - 1s 1ms/step - loss: 0.4947 - accuracy: 0.6421 - val_loss: 0.4565 - val_accuracy: 0.6964\n",
            "Epoch 30/100\n",
            "503/503 [==============================] - 1s 2ms/step - loss: 0.4883 - accuracy: 0.6421 - val_loss: 0.4504 - val_accuracy: 0.6964\n",
            "Epoch 31/100\n",
            "503/503 [==============================] - 1s 2ms/step - loss: 0.4820 - accuracy: 0.6421 - val_loss: 0.4443 - val_accuracy: 0.6964\n",
            "Epoch 32/100\n",
            "503/503 [==============================] - 1s 2ms/step - loss: 0.4758 - accuracy: 0.6421 - val_loss: 0.4383 - val_accuracy: 0.6964\n",
            "Epoch 33/100\n",
            "503/503 [==============================] - 1s 2ms/step - loss: 0.4695 - accuracy: 0.6421 - val_loss: 0.4323 - val_accuracy: 0.6964\n",
            "Epoch 34/100\n",
            "503/503 [==============================] - 1s 2ms/step - loss: 0.4633 - accuracy: 0.6421 - val_loss: 0.4263 - val_accuracy: 0.6964\n",
            "Epoch 35/100\n",
            "503/503 [==============================] - 1s 1ms/step - loss: 0.4572 - accuracy: 0.6421 - val_loss: 0.4204 - val_accuracy: 0.6964\n",
            "Epoch 36/100\n",
            "503/503 [==============================] - 1s 1ms/step - loss: 0.4511 - accuracy: 0.6421 - val_loss: 0.4146 - val_accuracy: 0.6964\n",
            "Epoch 37/100\n",
            "503/503 [==============================] - 1s 2ms/step - loss: 0.4451 - accuracy: 0.6481 - val_loss: 0.4088 - val_accuracy: 0.7857\n",
            "Epoch 38/100\n",
            "503/503 [==============================] - 1s 2ms/step - loss: 0.4391 - accuracy: 0.7555 - val_loss: 0.4031 - val_accuracy: 0.8214\n",
            "Epoch 39/100\n",
            "503/503 [==============================] - 1s 2ms/step - loss: 0.4332 - accuracy: 0.8330 - val_loss: 0.3975 - val_accuracy: 0.8393\n",
            "Epoch 40/100\n",
            "503/503 [==============================] - 1s 2ms/step - loss: 0.4274 - accuracy: 0.8648 - val_loss: 0.3919 - val_accuracy: 0.8929\n",
            "Epoch 41/100\n",
            "503/503 [==============================] - 1s 2ms/step - loss: 0.4216 - accuracy: 0.8847 - val_loss: 0.3865 - val_accuracy: 0.8929\n",
            "Epoch 42/100\n",
            "503/503 [==============================] - 1s 2ms/step - loss: 0.4160 - accuracy: 0.9066 - val_loss: 0.3811 - val_accuracy: 0.9107\n",
            "Epoch 43/100\n",
            "503/503 [==============================] - 1s 2ms/step - loss: 0.4104 - accuracy: 0.9284 - val_loss: 0.3758 - val_accuracy: 0.9107\n",
            "Epoch 44/100\n",
            "503/503 [==============================] - 1s 2ms/step - loss: 0.4049 - accuracy: 0.9324 - val_loss: 0.3705 - val_accuracy: 0.9286\n",
            "Epoch 45/100\n",
            "503/503 [==============================] - 1s 2ms/step - loss: 0.3995 - accuracy: 0.9404 - val_loss: 0.3654 - val_accuracy: 0.9286\n",
            "Epoch 46/100\n",
            "503/503 [==============================] - 1s 2ms/step - loss: 0.3942 - accuracy: 0.9404 - val_loss: 0.3604 - val_accuracy: 0.9464\n",
            "Epoch 47/100\n",
            "503/503 [==============================] - 1s 2ms/step - loss: 0.3890 - accuracy: 0.9364 - val_loss: 0.3554 - val_accuracy: 0.9464\n",
            "Epoch 48/100\n",
            "503/503 [==============================] - 1s 1ms/step - loss: 0.3839 - accuracy: 0.9364 - val_loss: 0.3505 - val_accuracy: 0.9464\n",
            "Epoch 49/100\n",
            "503/503 [==============================] - 1s 2ms/step - loss: 0.3789 - accuracy: 0.9443 - val_loss: 0.3458 - val_accuracy: 0.9464\n",
            "Epoch 50/100\n",
            "503/503 [==============================] - 1s 2ms/step - loss: 0.3739 - accuracy: 0.9443 - val_loss: 0.3411 - val_accuracy: 0.9464\n",
            "Epoch 51/100\n",
            "503/503 [==============================] - 1s 2ms/step - loss: 0.3691 - accuracy: 0.9463 - val_loss: 0.3364 - val_accuracy: 0.9464\n",
            "Epoch 52/100\n",
            "503/503 [==============================] - 1s 2ms/step - loss: 0.3644 - accuracy: 0.9483 - val_loss: 0.3319 - val_accuracy: 0.9464\n",
            "Epoch 53/100\n",
            "503/503 [==============================] - 1s 2ms/step - loss: 0.3597 - accuracy: 0.9483 - val_loss: 0.3275 - val_accuracy: 0.9464\n",
            "Epoch 54/100\n",
            "503/503 [==============================] - 1s 2ms/step - loss: 0.3552 - accuracy: 0.9483 - val_loss: 0.3231 - val_accuracy: 0.9464\n",
            "Epoch 55/100\n",
            "503/503 [==============================] - 1s 2ms/step - loss: 0.3507 - accuracy: 0.9503 - val_loss: 0.3189 - val_accuracy: 0.9464\n",
            "Epoch 56/100\n",
            "503/503 [==============================] - 1s 2ms/step - loss: 0.3463 - accuracy: 0.9523 - val_loss: 0.3147 - val_accuracy: 0.9464\n",
            "Epoch 57/100\n",
            "503/503 [==============================] - 1s 2ms/step - loss: 0.3421 - accuracy: 0.9523 - val_loss: 0.3107 - val_accuracy: 0.9464\n",
            "Epoch 58/100\n",
            "503/503 [==============================] - 1s 2ms/step - loss: 0.3379 - accuracy: 0.9543 - val_loss: 0.3067 - val_accuracy: 0.9643\n",
            "Epoch 59/100\n",
            "503/503 [==============================] - 1s 2ms/step - loss: 0.3338 - accuracy: 0.9543 - val_loss: 0.3028 - val_accuracy: 0.9643\n",
            "Epoch 60/100\n",
            "503/503 [==============================] - 1s 2ms/step - loss: 0.3298 - accuracy: 0.9543 - val_loss: 0.2989 - val_accuracy: 0.9643\n",
            "Epoch 61/100\n",
            "503/503 [==============================] - 1s 2ms/step - loss: 0.3259 - accuracy: 0.9523 - val_loss: 0.2952 - val_accuracy: 0.9643\n",
            "Epoch 62/100\n",
            "503/503 [==============================] - 1s 2ms/step - loss: 0.3220 - accuracy: 0.9523 - val_loss: 0.2915 - val_accuracy: 0.9643\n",
            "Epoch 63/100\n",
            "503/503 [==============================] - 1s 2ms/step - loss: 0.3183 - accuracy: 0.9503 - val_loss: 0.2879 - val_accuracy: 0.9643\n",
            "Epoch 64/100\n",
            "503/503 [==============================] - 1s 2ms/step - loss: 0.3147 - accuracy: 0.9503 - val_loss: 0.2844 - val_accuracy: 0.9643\n",
            "Epoch 65/100\n",
            "503/503 [==============================] - 1s 2ms/step - loss: 0.3111 - accuracy: 0.9503 - val_loss: 0.2810 - val_accuracy: 0.9643\n",
            "Epoch 66/100\n",
            "503/503 [==============================] - 1s 2ms/step - loss: 0.3076 - accuracy: 0.9523 - val_loss: 0.2776 - val_accuracy: 0.9643\n",
            "Epoch 67/100\n",
            "503/503 [==============================] - 1s 2ms/step - loss: 0.3041 - accuracy: 0.9523 - val_loss: 0.2744 - val_accuracy: 0.9643\n",
            "Epoch 68/100\n",
            "503/503 [==============================] - 1s 1ms/step - loss: 0.3008 - accuracy: 0.9523 - val_loss: 0.2712 - val_accuracy: 0.9643\n",
            "Epoch 69/100\n",
            "503/503 [==============================] - 1s 2ms/step - loss: 0.2975 - accuracy: 0.9523 - val_loss: 0.2680 - val_accuracy: 0.9643\n",
            "Epoch 70/100\n",
            "503/503 [==============================] - 1s 2ms/step - loss: 0.2944 - accuracy: 0.9503 - val_loss: 0.2649 - val_accuracy: 0.9643\n",
            "Epoch 71/100\n",
            "503/503 [==============================] - 1s 2ms/step - loss: 0.2912 - accuracy: 0.9503 - val_loss: 0.2619 - val_accuracy: 0.9643\n",
            "Epoch 72/100\n",
            "503/503 [==============================] - 1s 2ms/step - loss: 0.2882 - accuracy: 0.9503 - val_loss: 0.2590 - val_accuracy: 0.9643\n",
            "Epoch 73/100\n",
            "503/503 [==============================] - 1s 2ms/step - loss: 0.2852 - accuracy: 0.9503 - val_loss: 0.2561 - val_accuracy: 0.9643\n",
            "Epoch 74/100\n",
            "503/503 [==============================] - 1s 2ms/step - loss: 0.2823 - accuracy: 0.9503 - val_loss: 0.2533 - val_accuracy: 0.9643\n",
            "Epoch 75/100\n",
            "503/503 [==============================] - 1s 2ms/step - loss: 0.2794 - accuracy: 0.9503 - val_loss: 0.2505 - val_accuracy: 0.9643\n",
            "Epoch 76/100\n",
            "503/503 [==============================] - 1s 2ms/step - loss: 0.2766 - accuracy: 0.9503 - val_loss: 0.2478 - val_accuracy: 0.9643\n",
            "Epoch 77/100\n",
            "503/503 [==============================] - 1s 2ms/step - loss: 0.2739 - accuracy: 0.9523 - val_loss: 0.2452 - val_accuracy: 0.9643\n",
            "Epoch 78/100\n",
            "503/503 [==============================] - 1s 1ms/step - loss: 0.2713 - accuracy: 0.9523 - val_loss: 0.2426 - val_accuracy: 0.9643\n",
            "Epoch 79/100\n",
            "503/503 [==============================] - 1s 1ms/step - loss: 0.2687 - accuracy: 0.9523 - val_loss: 0.2401 - val_accuracy: 0.9643\n",
            "Epoch 80/100\n",
            "503/503 [==============================] - 1s 2ms/step - loss: 0.2661 - accuracy: 0.9523 - val_loss: 0.2376 - val_accuracy: 0.9643\n",
            "Epoch 81/100\n",
            "503/503 [==============================] - 1s 2ms/step - loss: 0.2636 - accuracy: 0.9523 - val_loss: 0.2352 - val_accuracy: 0.9643\n",
            "Epoch 82/100\n",
            "503/503 [==============================] - 1s 2ms/step - loss: 0.2612 - accuracy: 0.9523 - val_loss: 0.2329 - val_accuracy: 0.9643\n",
            "Epoch 83/100\n",
            "503/503 [==============================] - 1s 2ms/step - loss: 0.2588 - accuracy: 0.9523 - val_loss: 0.2306 - val_accuracy: 0.9643\n",
            "Epoch 84/100\n",
            "503/503 [==============================] - 1s 2ms/step - loss: 0.2565 - accuracy: 0.9523 - val_loss: 0.2283 - val_accuracy: 0.9643\n",
            "Epoch 85/100\n",
            "503/503 [==============================] - 1s 2ms/step - loss: 0.2542 - accuracy: 0.9523 - val_loss: 0.2261 - val_accuracy: 0.9643\n",
            "Epoch 86/100\n",
            "503/503 [==============================] - 1s 2ms/step - loss: 0.2520 - accuracy: 0.9523 - val_loss: 0.2240 - val_accuracy: 0.9643\n",
            "Epoch 87/100\n",
            "503/503 [==============================] - 1s 1ms/step - loss: 0.2498 - accuracy: 0.9523 - val_loss: 0.2218 - val_accuracy: 0.9643\n",
            "Epoch 88/100\n",
            "503/503 [==============================] - 1s 2ms/step - loss: 0.2477 - accuracy: 0.9523 - val_loss: 0.2198 - val_accuracy: 0.9643\n",
            "Epoch 89/100\n",
            "503/503 [==============================] - 1s 2ms/step - loss: 0.2456 - accuracy: 0.9523 - val_loss: 0.2177 - val_accuracy: 0.9643\n",
            "Epoch 90/100\n",
            "503/503 [==============================] - 1s 2ms/step - loss: 0.2435 - accuracy: 0.9543 - val_loss: 0.2158 - val_accuracy: 0.9643\n",
            "Epoch 91/100\n",
            "503/503 [==============================] - 1s 2ms/step - loss: 0.2415 - accuracy: 0.9543 - val_loss: 0.2138 - val_accuracy: 0.9643\n",
            "Epoch 92/100\n",
            "503/503 [==============================] - 1s 1ms/step - loss: 0.2396 - accuracy: 0.9543 - val_loss: 0.2119 - val_accuracy: 0.9643\n",
            "Epoch 93/100\n",
            "503/503 [==============================] - 1s 2ms/step - loss: 0.2376 - accuracy: 0.9543 - val_loss: 0.2101 - val_accuracy: 0.9643\n",
            "Epoch 94/100\n",
            "503/503 [==============================] - 1s 2ms/step - loss: 0.2358 - accuracy: 0.9543 - val_loss: 0.2082 - val_accuracy: 0.9643\n",
            "Epoch 95/100\n",
            "503/503 [==============================] - 1s 1ms/step - loss: 0.2339 - accuracy: 0.9543 - val_loss: 0.2064 - val_accuracy: 0.9643\n",
            "Epoch 96/100\n",
            "503/503 [==============================] - 1s 1ms/step - loss: 0.2321 - accuracy: 0.9543 - val_loss: 0.2047 - val_accuracy: 0.9643\n",
            "Epoch 97/100\n",
            "503/503 [==============================] - 1s 2ms/step - loss: 0.2304 - accuracy: 0.9543 - val_loss: 0.2030 - val_accuracy: 0.9643\n",
            "Epoch 98/100\n",
            "503/503 [==============================] - 1s 2ms/step - loss: 0.2286 - accuracy: 0.9543 - val_loss: 0.2013 - val_accuracy: 0.9643\n",
            "Epoch 99/100\n",
            "503/503 [==============================] - 1s 2ms/step - loss: 0.2269 - accuracy: 0.9543 - val_loss: 0.1996 - val_accuracy: 0.9643\n",
            "Epoch 100/100\n",
            "503/503 [==============================] - 1s 2ms/step - loss: 0.2253 - accuracy: 0.9563 - val_loss: 0.1980 - val_accuracy: 0.9643\n"
          ]
        }
      ]
    },
    {
      "cell_type": "code",
      "metadata": {
        "id": "F27wXNLsD5lW",
        "colab": {
          "base_uri": "https://localhost:8080/",
          "height": 221
        },
        "outputId": "59be8183-03b7-4a58-d4af-b0744fa76780"
      },
      "source": [
        "hist = pd.DataFrame(history.history)\n",
        "hist['epoch'] = history.epoch\n",
        "hist.tail()\n"
      ],
      "execution_count": 30,
      "outputs": [
        {
          "output_type": "execute_result",
          "data": {
            "text/html": [
              "<div>\n",
              "<style scoped>\n",
              "    .dataframe tbody tr th:only-of-type {\n",
              "        vertical-align: middle;\n",
              "    }\n",
              "\n",
              "    .dataframe tbody tr th {\n",
              "        vertical-align: top;\n",
              "    }\n",
              "\n",
              "    .dataframe thead th {\n",
              "        text-align: right;\n",
              "    }\n",
              "</style>\n",
              "<table border=\"1\" class=\"dataframe\">\n",
              "  <thead>\n",
              "    <tr style=\"text-align: right;\">\n",
              "      <th></th>\n",
              "      <th>loss</th>\n",
              "      <th>accuracy</th>\n",
              "      <th>val_loss</th>\n",
              "      <th>val_accuracy</th>\n",
              "      <th>epoch</th>\n",
              "    </tr>\n",
              "  </thead>\n",
              "  <tbody>\n",
              "    <tr>\n",
              "      <th>95</th>\n",
              "      <td>0.232131</td>\n",
              "      <td>0.954274</td>\n",
              "      <td>0.204684</td>\n",
              "      <td>0.964286</td>\n",
              "      <td>95</td>\n",
              "    </tr>\n",
              "    <tr>\n",
              "      <th>96</th>\n",
              "      <td>0.230366</td>\n",
              "      <td>0.954274</td>\n",
              "      <td>0.202963</td>\n",
              "      <td>0.964286</td>\n",
              "      <td>96</td>\n",
              "    </tr>\n",
              "    <tr>\n",
              "      <th>97</th>\n",
              "      <td>0.228638</td>\n",
              "      <td>0.954274</td>\n",
              "      <td>0.201281</td>\n",
              "      <td>0.964286</td>\n",
              "      <td>97</td>\n",
              "    </tr>\n",
              "    <tr>\n",
              "      <th>98</th>\n",
              "      <td>0.226947</td>\n",
              "      <td>0.954274</td>\n",
              "      <td>0.199639</td>\n",
              "      <td>0.964286</td>\n",
              "      <td>98</td>\n",
              "    </tr>\n",
              "    <tr>\n",
              "      <th>99</th>\n",
              "      <td>0.225286</td>\n",
              "      <td>0.956262</td>\n",
              "      <td>0.198029</td>\n",
              "      <td>0.964286</td>\n",
              "      <td>99</td>\n",
              "    </tr>\n",
              "  </tbody>\n",
              "</table>\n",
              "</div>"
            ],
            "text/plain": [
              "        loss  accuracy  val_loss  val_accuracy  epoch\n",
              "95  0.232131  0.954274  0.204684      0.964286     95\n",
              "96  0.230366  0.954274  0.202963      0.964286     96\n",
              "97  0.228638  0.954274  0.201281      0.964286     97\n",
              "98  0.226947  0.954274  0.199639      0.964286     98\n",
              "99  0.225286  0.956262  0.198029      0.964286     99"
            ]
          },
          "metadata": {},
          "execution_count": 30
        }
      ]
    },
    {
      "cell_type": "code",
      "metadata": {
        "id": "r32zVkDAET_x",
        "colab": {
          "base_uri": "https://localhost:8080/",
          "height": 300
        },
        "outputId": "aa0fb92c-47a0-4910-ba27-fdc1b2e89d39"
      },
      "source": [
        "def plot_history(history):\n",
        "  hist = pd.DataFrame(history.history)\n",
        "  hist['epoch'] = history.epoch\n",
        "\n",
        "  plt.figure()\n",
        "  plt.xlabel('Epoch')\n",
        "  plt.ylabel('Accuracy')\n",
        "  plt.plot(hist['epoch'], hist['accuracy'],\n",
        "           label='Train Accuracy')\n",
        "  plt.plot(hist['epoch'], hist['val_accuracy'],\n",
        "           label = 'Val Accuracy')\n",
        "  plt.legend()\n",
        "  plt.show()\n",
        "\n",
        "plot_history(history)\n"
      ],
      "execution_count": 31,
      "outputs": [
        {
          "output_type": "display_data",
          "data": {
            "image/png": "[encoded data removed]",
            "text/plain": [
              "<Figure size 432x288 with 1 Axes>"
            ]
          },
          "metadata": {
            "needs_background": "light"
          }
        }
      ]
    },
    {
      "cell_type": "markdown",
      "metadata": {
        "id": "9JEgwoAarkbU"
      },
      "source": [
        "**8. Model Evaluation**"
      ]
    },
    {
      "cell_type": "code",
      "metadata": {
        "id": "T1ZzB6TutAAh",
        "colab": {
          "base_uri": "https://localhost:8080/"
        },
        "outputId": "f98a1b39-5bde-4173-91da-53869e5935d0"
      },
      "source": [
        "# Generate generalization metrics\n",
        "score = model.evaluate(x_test, y_test, verbose=0)\n",
        "print(f'Test loss: {score[0]} / Test accuracy: {score[1]}')"
      ],
      "execution_count": 32,
      "outputs": [
        {
          "output_type": "stream",
          "name": "stdout",
          "text": [
            "Test loss: 0.20878005027770996 / Test accuracy: 0.9642857313156128\n"
          ]
        }
      ]
    },
    {
      "cell_type": "code",
      "metadata": {
        "id": "iZJNG0p3NMIF"
      },
      "source": [
        ""
      ],
      "execution_count": 32,
      "outputs": []
    }
  ]
}