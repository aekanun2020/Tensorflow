{
  "nbformat": 4,
  "nbformat_minor": 0,
  "metadata": {
    "colab": {
      "name": "Rev1.3-LAB6-Tensorflow.ipynb",
      "provenance": [],
      "collapsed_sections": []
    },
    "kernelspec": {
      "name": "python3",
      "display_name": "Python 3"
    },
    "language_info": {
      "name": "python"
    }
  },
  "cells": [
    {
      "cell_type": "code",
      "metadata": {
        "id": "D8qPF7NyqwgW",
        "colab": {
          "base_uri": "https://localhost:8080/"
        },
        "outputId": "cee1f880-7bc1-44c5-ca8c-7e61a76b4e51"
      },
      "source": [
        "!pip install seaborn\n",
        "\n",
        "from __future__ import absolute_import, division, print_function, unicode_literals\n",
        "\n",
        "import pathlib\n",
        "\n",
        "import matplotlib.pyplot as plt\n",
        "import numpy as np\n",
        "import pandas as pd\n",
        "import seaborn as sns\n"
      ],
      "execution_count": 1,
      "outputs": [
        {
          "output_type": "stream",
          "name": "stdout",
          "text": [
            "Requirement already satisfied: seaborn in /usr/local/lib/python3.7/dist-packages (0.11.2)\n",
            "Requirement already satisfied: matplotlib>=2.2 in /usr/local/lib/python3.7/dist-packages (from seaborn) (3.2.2)\n",
            "Requirement already satisfied: numpy>=1.15 in /usr/local/lib/python3.7/dist-packages (from seaborn) (1.19.5)\n",
            "Requirement already satisfied: pandas>=0.23 in /usr/local/lib/python3.7/dist-packages (from seaborn) (1.1.5)\n",
            "Requirement already satisfied: scipy>=1.0 in /usr/local/lib/python3.7/dist-packages (from seaborn) (1.4.1)\n",
            "Requirement already satisfied: python-dateutil>=2.1 in /usr/local/lib/python3.7/dist-packages (from matplotlib>=2.2->seaborn) (2.8.2)\n",
            "Requirement already satisfied: pyparsing!=2.0.4,!=2.1.2,!=2.1.6,>=2.0.1 in /usr/local/lib/python3.7/dist-packages (from matplotlib>=2.2->seaborn) (3.0.6)\n",
            "Requirement already satisfied: kiwisolver>=1.0.1 in /usr/local/lib/python3.7/dist-packages (from matplotlib>=2.2->seaborn) (1.3.2)\n",
            "Requirement already satisfied: cycler>=0.10 in /usr/local/lib/python3.7/dist-packages (from matplotlib>=2.2->seaborn) (0.11.0)\n",
            "Requirement already satisfied: pytz>=2017.2 in /usr/local/lib/python3.7/dist-packages (from pandas>=0.23->seaborn) (2018.9)\n",
            "Requirement already satisfied: six>=1.5 in /usr/local/lib/python3.7/dist-packages (from python-dateutil>=2.1->matplotlib>=2.2->seaborn) (1.15.0)\n"
          ]
        }
      ]
    },
    {
      "cell_type": "code",
      "metadata": {
        "colab": {
          "base_uri": "https://localhost:8080/"
        },
        "id": "rqY55Q39B4F2",
        "outputId": "ff33a4e2-1039-4b4f-f13b-2338268f05e5"
      },
      "source": [
        "import tensorflow as tf\n",
        "\n",
        "from tensorflow import keras\n",
        "from tensorflow.keras import layers\n",
        "\n",
        "print(tf.__version__)"
      ],
      "execution_count": 2,
      "outputs": [
        {
          "output_type": "stream",
          "name": "stdout",
          "text": [
            "2.7.0\n"
          ]
        }
      ]
    },
    {
      "cell_type": "markdown",
      "metadata": {
        "id": "B9MV-hzTUPWd"
      },
      "source": [
        "**1. Load raw data into Pandas dataframe**"
      ]
    },
    {
      "cell_type": "code",
      "metadata": {
        "id": "nuQmipHkDZvO"
      },
      "source": [
        "breast_cancer = 'https://archive.ics.uci.edu/ml/machine-learning-databases/breast-cancer-wisconsin/breast-cancer-wisconsin.data'"
      ],
      "execution_count": 3,
      "outputs": []
    },
    {
      "cell_type": "code",
      "metadata": {
        "id": "VJv8aSiKqyLr",
        "colab": {
          "base_uri": "https://localhost:8080/"
        },
        "outputId": "be01ffa5-6b96-4ea2-f43c-179ee6ff3237"
      },
      "source": [
        "path = keras.utils.get_file(\"breast-cancer-wisconsin.data\",breast_cancer)\n"
      ],
      "execution_count": 4,
      "outputs": [
        {
          "output_type": "stream",
          "name": "stdout",
          "text": [
            "Downloading data from https://archive.ics.uci.edu/ml/machine-learning-databases/breast-cancer-wisconsin/breast-cancer-wisconsin.data\n",
            "24576/19889 [=====================================] - 0s 0us/step\n",
            "32768/19889 [=================================================] - 0s 0us/step\n"
          ]
        }
      ]
    },
    {
      "cell_type": "code",
      "metadata": {
        "id": "kfMJmg9kq1Tq"
      },
      "source": [
        "columns = ['sample_code', 'clump_thickness', 'cell_size_uniformity',\n",
        "           'cell_shape_uniformity',\n",
        "           'marginal_adhesion', 'single_epithelial_cell_size',\n",
        "           'bare_nuclei', 'bland_chromatin',\n",
        "           'normal_nucleoli', 'mitoses', 'class']\n",
        "raw_pd = pd.read_csv(path, header=None, names=columns, na_values=[np.nan, '?'])### เนื่องจาก Meaning ของข้อมูลเป็น numerical type จึงใช้ na_value ตรวจหาและแทนทีค่าใน list ด้วย NULL เพื่อให้ dataframe เป็น numerical type ทังหมด\n"
      ],
      "execution_count": 5,
      "outputs": []
    },
    {
      "cell_type": "code",
      "metadata": {
        "id": "Zp6w7xX1UZa-"
      },
      "source": [
        ""
      ],
      "execution_count": 5,
      "outputs": []
    },
    {
      "cell_type": "markdown",
      "metadata": {
        "id": "pfn1Gp_kUaHv"
      },
      "source": [
        "**2.Look for NULL values and treat them**"
      ]
    },
    {
      "cell_type": "code",
      "metadata": {
        "id": "G1XUq4TJsSyL",
        "colab": {
          "base_uri": "https://localhost:8080/"
        },
        "outputId": "2be0b255-d315-45da-b88a-670b822c5b19"
      },
      "source": [
        "raw_pd.info()"
      ],
      "execution_count": 6,
      "outputs": [
        {
          "output_type": "stream",
          "name": "stdout",
          "text": [
            "<class 'pandas.core.frame.DataFrame'>\n",
            "RangeIndex: 699 entries, 0 to 698\n",
            "Data columns (total 11 columns):\n",
            " #   Column                       Non-Null Count  Dtype  \n",
            "---  ------                       --------------  -----  \n",
            " 0   sample_code                  699 non-null    int64  \n",
            " 1   clump_thickness              699 non-null    int64  \n",
            " 2   cell_size_uniformity         699 non-null    int64  \n",
            " 3   cell_shape_uniformity        699 non-null    int64  \n",
            " 4   marginal_adhesion            699 non-null    int64  \n",
            " 5   single_epithelial_cell_size  699 non-null    int64  \n",
            " 6   bare_nuclei                  683 non-null    float64\n",
            " 7   bland_chromatin              699 non-null    int64  \n",
            " 8   normal_nucleoli              699 non-null    int64  \n",
            " 9   mitoses                      699 non-null    int64  \n",
            " 10  class                        699 non-null    int64  \n",
            "dtypes: float64(1), int64(10)\n",
            "memory usage: 60.2 KB\n"
          ]
        }
      ]
    },
    {
      "cell_type": "code",
      "metadata": {
        "id": "bz577XGyq-0X",
        "colab": {
          "base_uri": "https://localhost:8080/"
        },
        "outputId": "5e843d03-2d0c-4517-be7d-85fd328b54e1"
      },
      "source": [
        "raw_pd.isnull().sum()"
      ],
      "execution_count": 7,
      "outputs": [
        {
          "output_type": "execute_result",
          "data": {
            "text/plain": [
              "sample_code                     0\n",
              "clump_thickness                 0\n",
              "cell_size_uniformity            0\n",
              "cell_shape_uniformity           0\n",
              "marginal_adhesion               0\n",
              "single_epithelial_cell_size     0\n",
              "bare_nuclei                    16\n",
              "bland_chromatin                 0\n",
              "normal_nucleoli                 0\n",
              "mitoses                         0\n",
              "class                           0\n",
              "dtype: int64"
            ]
          },
          "metadata": {},
          "execution_count": 7
        }
      ]
    },
    {
      "cell_type": "code",
      "metadata": {
        "id": "BW4k49GIrPev",
        "colab": {
          "base_uri": "https://localhost:8080/"
        },
        "outputId": "6b5961d8-0435-4964-fd64-49056676dd6f"
      },
      "source": [
        "raw_pd.shape"
      ],
      "execution_count": 8,
      "outputs": [
        {
          "output_type": "execute_result",
          "data": {
            "text/plain": [
              "(699, 11)"
            ]
          },
          "metadata": {},
          "execution_count": 8
        }
      ]
    },
    {
      "cell_type": "code",
      "metadata": {
        "id": "GgXpDSOrrXFH",
        "colab": {
          "base_uri": "https://localhost:8080/",
          "height": 221
        },
        "outputId": "4d93ec14-d819-4a57-a35d-2a94b888991c"
      },
      "source": [
        "raw_pd.loc[raw_pd['bare_nuclei'].isnull(),['bare_nuclei']].tail(5)"
      ],
      "execution_count": 9,
      "outputs": [
        {
          "output_type": "execute_result",
          "data": {
            "text/html": [
              "<div>\n",
              "<style scoped>\n",
              "    .dataframe tbody tr th:only-of-type {\n",
              "        vertical-align: middle;\n",
              "    }\n",
              "\n",
              "    .dataframe tbody tr th {\n",
              "        vertical-align: top;\n",
              "    }\n",
              "\n",
              "    .dataframe thead th {\n",
              "        text-align: right;\n",
              "    }\n",
              "</style>\n",
              "<table border=\"1\" class=\"dataframe\">\n",
              "  <thead>\n",
              "    <tr style=\"text-align: right;\">\n",
              "      <th></th>\n",
              "      <th>bare_nuclei</th>\n",
              "    </tr>\n",
              "  </thead>\n",
              "  <tbody>\n",
              "    <tr>\n",
              "      <th>297</th>\n",
              "      <td>NaN</td>\n",
              "    </tr>\n",
              "    <tr>\n",
              "      <th>315</th>\n",
              "      <td>NaN</td>\n",
              "    </tr>\n",
              "    <tr>\n",
              "      <th>321</th>\n",
              "      <td>NaN</td>\n",
              "    </tr>\n",
              "    <tr>\n",
              "      <th>411</th>\n",
              "      <td>NaN</td>\n",
              "    </tr>\n",
              "    <tr>\n",
              "      <th>617</th>\n",
              "      <td>NaN</td>\n",
              "    </tr>\n",
              "  </tbody>\n",
              "</table>\n",
              "</div>"
            ],
            "text/plain": [
              "     bare_nuclei\n",
              "297          NaN\n",
              "315          NaN\n",
              "321          NaN\n",
              "411          NaN\n",
              "617          NaN"
            ]
          },
          "metadata": {},
          "execution_count": 9
        }
      ]
    },
    {
      "cell_type": "code",
      "metadata": {
        "colab": {
          "base_uri": "https://localhost:8080/"
        },
        "id": "6_XAPQ3sU1A1",
        "outputId": "6e36040a-b8f2-4ccd-b90b-f2bef9551d01"
      },
      "source": [
        "raw_pd.median()"
      ],
      "execution_count": 10,
      "outputs": [
        {
          "output_type": "execute_result",
          "data": {
            "text/plain": [
              "sample_code                    1171710.0\n",
              "clump_thickness                      4.0\n",
              "cell_size_uniformity                 1.0\n",
              "cell_shape_uniformity                1.0\n",
              "marginal_adhesion                    1.0\n",
              "single_epithelial_cell_size          2.0\n",
              "bare_nuclei                          1.0\n",
              "bland_chromatin                      3.0\n",
              "normal_nucleoli                      1.0\n",
              "mitoses                              1.0\n",
              "class                                2.0\n",
              "dtype: float64"
            ]
          },
          "metadata": {},
          "execution_count": 10
        }
      ]
    },
    {
      "cell_type": "markdown",
      "metadata": {
        "id": "1oasebHkWRTP"
      },
      "source": [
        "**3. Other Data Preparation - Labeling**"
      ]
    },
    {
      "cell_type": "code",
      "metadata": {
        "id": "PD_n5iftriAo"
      },
      "source": [
        "raw_pd = raw_pd.fillna(raw_pd.median())"
      ],
      "execution_count": 11,
      "outputs": []
    },
    {
      "cell_type": "code",
      "metadata": {
        "id": "EyTjVA87zipz",
        "colab": {
          "base_uri": "https://localhost:8080/",
          "height": 405
        },
        "outputId": "938b2737-de7e-44e8-b611-83347eb63b3b"
      },
      "source": [
        "raw_pd.describe().transpose()"
      ],
      "execution_count": 12,
      "outputs": [
        {
          "output_type": "execute_result",
          "data": {
            "text/html": [
              "<div>\n",
              "<style scoped>\n",
              "    .dataframe tbody tr th:only-of-type {\n",
              "        vertical-align: middle;\n",
              "    }\n",
              "\n",
              "    .dataframe tbody tr th {\n",
              "        vertical-align: top;\n",
              "    }\n",
              "\n",
              "    .dataframe thead th {\n",
              "        text-align: right;\n",
              "    }\n",
              "</style>\n",
              "<table border=\"1\" class=\"dataframe\">\n",
              "  <thead>\n",
              "    <tr style=\"text-align: right;\">\n",
              "      <th></th>\n",
              "      <th>count</th>\n",
              "      <th>mean</th>\n",
              "      <th>std</th>\n",
              "      <th>min</th>\n",
              "      <th>25%</th>\n",
              "      <th>50%</th>\n",
              "      <th>75%</th>\n",
              "      <th>max</th>\n",
              "    </tr>\n",
              "  </thead>\n",
              "  <tbody>\n",
              "    <tr>\n",
              "      <th>sample_code</th>\n",
              "      <td>699.0</td>\n",
              "      <td>1.071704e+06</td>\n",
              "      <td>617095.729819</td>\n",
              "      <td>61634.0</td>\n",
              "      <td>870688.5</td>\n",
              "      <td>1171710.0</td>\n",
              "      <td>1238298.0</td>\n",
              "      <td>13454352.0</td>\n",
              "    </tr>\n",
              "    <tr>\n",
              "      <th>clump_thickness</th>\n",
              "      <td>699.0</td>\n",
              "      <td>4.417740e+00</td>\n",
              "      <td>2.815741</td>\n",
              "      <td>1.0</td>\n",
              "      <td>2.0</td>\n",
              "      <td>4.0</td>\n",
              "      <td>6.0</td>\n",
              "      <td>10.0</td>\n",
              "    </tr>\n",
              "    <tr>\n",
              "      <th>cell_size_uniformity</th>\n",
              "      <td>699.0</td>\n",
              "      <td>3.134478e+00</td>\n",
              "      <td>3.051459</td>\n",
              "      <td>1.0</td>\n",
              "      <td>1.0</td>\n",
              "      <td>1.0</td>\n",
              "      <td>5.0</td>\n",
              "      <td>10.0</td>\n",
              "    </tr>\n",
              "    <tr>\n",
              "      <th>cell_shape_uniformity</th>\n",
              "      <td>699.0</td>\n",
              "      <td>3.207439e+00</td>\n",
              "      <td>2.971913</td>\n",
              "      <td>1.0</td>\n",
              "      <td>1.0</td>\n",
              "      <td>1.0</td>\n",
              "      <td>5.0</td>\n",
              "      <td>10.0</td>\n",
              "    </tr>\n",
              "    <tr>\n",
              "      <th>marginal_adhesion</th>\n",
              "      <td>699.0</td>\n",
              "      <td>2.806867e+00</td>\n",
              "      <td>2.855379</td>\n",
              "      <td>1.0</td>\n",
              "      <td>1.0</td>\n",
              "      <td>1.0</td>\n",
              "      <td>4.0</td>\n",
              "      <td>10.0</td>\n",
              "    </tr>\n",
              "    <tr>\n",
              "      <th>single_epithelial_cell_size</th>\n",
              "      <td>699.0</td>\n",
              "      <td>3.216023e+00</td>\n",
              "      <td>2.214300</td>\n",
              "      <td>1.0</td>\n",
              "      <td>2.0</td>\n",
              "      <td>2.0</td>\n",
              "      <td>4.0</td>\n",
              "      <td>10.0</td>\n",
              "    </tr>\n",
              "    <tr>\n",
              "      <th>bare_nuclei</th>\n",
              "      <td>699.0</td>\n",
              "      <td>3.486409e+00</td>\n",
              "      <td>3.621929</td>\n",
              "      <td>1.0</td>\n",
              "      <td>1.0</td>\n",
              "      <td>1.0</td>\n",
              "      <td>5.0</td>\n",
              "      <td>10.0</td>\n",
              "    </tr>\n",
              "    <tr>\n",
              "      <th>bland_chromatin</th>\n",
              "      <td>699.0</td>\n",
              "      <td>3.437768e+00</td>\n",
              "      <td>2.438364</td>\n",
              "      <td>1.0</td>\n",
              "      <td>2.0</td>\n",
              "      <td>3.0</td>\n",
              "      <td>5.0</td>\n",
              "      <td>10.0</td>\n",
              "    </tr>\n",
              "    <tr>\n",
              "      <th>normal_nucleoli</th>\n",
              "      <td>699.0</td>\n",
              "      <td>2.866953e+00</td>\n",
              "      <td>3.053634</td>\n",
              "      <td>1.0</td>\n",
              "      <td>1.0</td>\n",
              "      <td>1.0</td>\n",
              "      <td>4.0</td>\n",
              "      <td>10.0</td>\n",
              "    </tr>\n",
              "    <tr>\n",
              "      <th>mitoses</th>\n",
              "      <td>699.0</td>\n",
              "      <td>1.589413e+00</td>\n",
              "      <td>1.715078</td>\n",
              "      <td>1.0</td>\n",
              "      <td>1.0</td>\n",
              "      <td>1.0</td>\n",
              "      <td>1.0</td>\n",
              "      <td>10.0</td>\n",
              "    </tr>\n",
              "    <tr>\n",
              "      <th>class</th>\n",
              "      <td>699.0</td>\n",
              "      <td>2.689557e+00</td>\n",
              "      <td>0.951273</td>\n",
              "      <td>2.0</td>\n",
              "      <td>2.0</td>\n",
              "      <td>2.0</td>\n",
              "      <td>4.0</td>\n",
              "      <td>4.0</td>\n",
              "    </tr>\n",
              "  </tbody>\n",
              "</table>\n",
              "</div>"
            ],
            "text/plain": [
              "                             count          mean  ...        75%         max\n",
              "sample_code                  699.0  1.071704e+06  ...  1238298.0  13454352.0\n",
              "clump_thickness              699.0  4.417740e+00  ...        6.0        10.0\n",
              "cell_size_uniformity         699.0  3.134478e+00  ...        5.0        10.0\n",
              "cell_shape_uniformity        699.0  3.207439e+00  ...        5.0        10.0\n",
              "marginal_adhesion            699.0  2.806867e+00  ...        4.0        10.0\n",
              "single_epithelial_cell_size  699.0  3.216023e+00  ...        4.0        10.0\n",
              "bare_nuclei                  699.0  3.486409e+00  ...        5.0        10.0\n",
              "bland_chromatin              699.0  3.437768e+00  ...        5.0        10.0\n",
              "normal_nucleoli              699.0  2.866953e+00  ...        4.0        10.0\n",
              "mitoses                      699.0  1.589413e+00  ...        1.0        10.0\n",
              "class                        699.0  2.689557e+00  ...        4.0         4.0\n",
              "\n",
              "[11 rows x 8 columns]"
            ]
          },
          "metadata": {},
          "execution_count": 12
        }
      ]
    },
    {
      "cell_type": "code",
      "metadata": {
        "id": "npQL5i3X0iVH",
        "colab": {
          "base_uri": "https://localhost:8080/",
          "height": 160
        },
        "outputId": "a7cef408-8817-4ece-f883-ae43e1bba125"
      },
      "source": [
        "raw_pd.groupby(['class']).count()"
      ],
      "execution_count": 13,
      "outputs": [
        {
          "output_type": "execute_result",
          "data": {
            "text/html": [
              "<div>\n",
              "<style scoped>\n",
              "    .dataframe tbody tr th:only-of-type {\n",
              "        vertical-align: middle;\n",
              "    }\n",
              "\n",
              "    .dataframe tbody tr th {\n",
              "        vertical-align: top;\n",
              "    }\n",
              "\n",
              "    .dataframe thead th {\n",
              "        text-align: right;\n",
              "    }\n",
              "</style>\n",
              "<table border=\"1\" class=\"dataframe\">\n",
              "  <thead>\n",
              "    <tr style=\"text-align: right;\">\n",
              "      <th></th>\n",
              "      <th>sample_code</th>\n",
              "      <th>clump_thickness</th>\n",
              "      <th>cell_size_uniformity</th>\n",
              "      <th>cell_shape_uniformity</th>\n",
              "      <th>marginal_adhesion</th>\n",
              "      <th>single_epithelial_cell_size</th>\n",
              "      <th>bare_nuclei</th>\n",
              "      <th>bland_chromatin</th>\n",
              "      <th>normal_nucleoli</th>\n",
              "      <th>mitoses</th>\n",
              "    </tr>\n",
              "    <tr>\n",
              "      <th>class</th>\n",
              "      <th></th>\n",
              "      <th></th>\n",
              "      <th></th>\n",
              "      <th></th>\n",
              "      <th></th>\n",
              "      <th></th>\n",
              "      <th></th>\n",
              "      <th></th>\n",
              "      <th></th>\n",
              "      <th></th>\n",
              "    </tr>\n",
              "  </thead>\n",
              "  <tbody>\n",
              "    <tr>\n",
              "      <th>2</th>\n",
              "      <td>458</td>\n",
              "      <td>458</td>\n",
              "      <td>458</td>\n",
              "      <td>458</td>\n",
              "      <td>458</td>\n",
              "      <td>458</td>\n",
              "      <td>458</td>\n",
              "      <td>458</td>\n",
              "      <td>458</td>\n",
              "      <td>458</td>\n",
              "    </tr>\n",
              "    <tr>\n",
              "      <th>4</th>\n",
              "      <td>241</td>\n",
              "      <td>241</td>\n",
              "      <td>241</td>\n",
              "      <td>241</td>\n",
              "      <td>241</td>\n",
              "      <td>241</td>\n",
              "      <td>241</td>\n",
              "      <td>241</td>\n",
              "      <td>241</td>\n",
              "      <td>241</td>\n",
              "    </tr>\n",
              "  </tbody>\n",
              "</table>\n",
              "</div>"
            ],
            "text/plain": [
              "       sample_code  clump_thickness  ...  normal_nucleoli  mitoses\n",
              "class                                ...                          \n",
              "2              458              458  ...              458      458\n",
              "4              241              241  ...              241      241\n",
              "\n",
              "[2 rows x 10 columns]"
            ]
          },
          "metadata": {},
          "execution_count": 13
        }
      ]
    },
    {
      "cell_type": "code",
      "metadata": {
        "id": "OHwcvKof3x7E"
      },
      "source": [
        "raw_pd['label'] = (raw_pd['class']==4).astype(int) ### สร้าง Column ใหม่ขึ้นมาเป็น Label ให้มีค่าเป็น 0,1 ซึ่ง 1 คือ Malignant (ค่า 4 เดิม)"
      ],
      "execution_count": 14,
      "outputs": []
    },
    {
      "cell_type": "code",
      "metadata": {
        "id": "pvEbZo0e5NH6",
        "colab": {
          "base_uri": "https://localhost:8080/",
          "height": 160
        },
        "outputId": "4a6192ef-0351-439c-c655-288fb55095ff"
      },
      "source": [
        "raw_pd.groupby(['class','label']).count()"
      ],
      "execution_count": 15,
      "outputs": [
        {
          "output_type": "execute_result",
          "data": {
            "text/html": [
              "<div>\n",
              "<style scoped>\n",
              "    .dataframe tbody tr th:only-of-type {\n",
              "        vertical-align: middle;\n",
              "    }\n",
              "\n",
              "    .dataframe tbody tr th {\n",
              "        vertical-align: top;\n",
              "    }\n",
              "\n",
              "    .dataframe thead th {\n",
              "        text-align: right;\n",
              "    }\n",
              "</style>\n",
              "<table border=\"1\" class=\"dataframe\">\n",
              "  <thead>\n",
              "    <tr style=\"text-align: right;\">\n",
              "      <th></th>\n",
              "      <th></th>\n",
              "      <th>sample_code</th>\n",
              "      <th>clump_thickness</th>\n",
              "      <th>cell_size_uniformity</th>\n",
              "      <th>cell_shape_uniformity</th>\n",
              "      <th>marginal_adhesion</th>\n",
              "      <th>single_epithelial_cell_size</th>\n",
              "      <th>bare_nuclei</th>\n",
              "      <th>bland_chromatin</th>\n",
              "      <th>normal_nucleoli</th>\n",
              "      <th>mitoses</th>\n",
              "    </tr>\n",
              "    <tr>\n",
              "      <th>class</th>\n",
              "      <th>label</th>\n",
              "      <th></th>\n",
              "      <th></th>\n",
              "      <th></th>\n",
              "      <th></th>\n",
              "      <th></th>\n",
              "      <th></th>\n",
              "      <th></th>\n",
              "      <th></th>\n",
              "      <th></th>\n",
              "      <th></th>\n",
              "    </tr>\n",
              "  </thead>\n",
              "  <tbody>\n",
              "    <tr>\n",
              "      <th>2</th>\n",
              "      <th>0</th>\n",
              "      <td>458</td>\n",
              "      <td>458</td>\n",
              "      <td>458</td>\n",
              "      <td>458</td>\n",
              "      <td>458</td>\n",
              "      <td>458</td>\n",
              "      <td>458</td>\n",
              "      <td>458</td>\n",
              "      <td>458</td>\n",
              "      <td>458</td>\n",
              "    </tr>\n",
              "    <tr>\n",
              "      <th>4</th>\n",
              "      <th>1</th>\n",
              "      <td>241</td>\n",
              "      <td>241</td>\n",
              "      <td>241</td>\n",
              "      <td>241</td>\n",
              "      <td>241</td>\n",
              "      <td>241</td>\n",
              "      <td>241</td>\n",
              "      <td>241</td>\n",
              "      <td>241</td>\n",
              "      <td>241</td>\n",
              "    </tr>\n",
              "  </tbody>\n",
              "</table>\n",
              "</div>"
            ],
            "text/plain": [
              "             sample_code  clump_thickness  ...  normal_nucleoli  mitoses\n",
              "class label                                ...                          \n",
              "2     0              458              458  ...              458      458\n",
              "4     1              241              241  ...              241      241\n",
              "\n",
              "[2 rows x 10 columns]"
            ]
          },
          "metadata": {},
          "execution_count": 15
        }
      ]
    },
    {
      "cell_type": "markdown",
      "metadata": {
        "id": "7WlUk0nrW0hS"
      },
      "source": [
        "**4. Split data into Training set and Testing set**"
      ]
    },
    {
      "cell_type": "code",
      "metadata": {
        "id": "7kQzo2jAzL8U"
      },
      "source": [
        "x_train = raw_pd.sample(frac=0.8).copy()"
      ],
      "execution_count": 16,
      "outputs": []
    },
    {
      "cell_type": "code",
      "metadata": {
        "id": "DPPVSKYVcwGa"
      },
      "source": [
        "x_test = raw_pd.drop(x_train.index)"
      ],
      "execution_count": 17,
      "outputs": []
    },
    {
      "cell_type": "code",
      "metadata": {
        "id": "N7VjFMaIcytE"
      },
      "source": [
        ""
      ],
      "execution_count": 17,
      "outputs": []
    },
    {
      "cell_type": "markdown",
      "metadata": {
        "id": "j2JeE1SreDZx"
      },
      "source": [
        "**5. Separate Label from Features**"
      ]
    },
    {
      "cell_type": "code",
      "metadata": {
        "id": "2fuv8CJGzOSZ"
      },
      "source": [
        "y_train = x_train['label']"
      ],
      "execution_count": 18,
      "outputs": []
    },
    {
      "cell_type": "code",
      "metadata": {
        "id": "a-av6HOtZ4Gk"
      },
      "source": [
        "x_train.drop(['sample_code', 'class','label'], axis=1, inplace=True)"
      ],
      "execution_count": 19,
      "outputs": []
    },
    {
      "cell_type": "code",
      "metadata": {
        "id": "lyv_T94j180B",
        "colab": {
          "base_uri": "https://localhost:8080/"
        },
        "outputId": "328f1c4d-6360-4e6b-ec03-28d146a349a0"
      },
      "source": [
        "x_train.info()"
      ],
      "execution_count": 20,
      "outputs": [
        {
          "output_type": "stream",
          "name": "stdout",
          "text": [
            "<class 'pandas.core.frame.DataFrame'>\n",
            "Int64Index: 559 entries, 301 to 669\n",
            "Data columns (total 9 columns):\n",
            " #   Column                       Non-Null Count  Dtype  \n",
            "---  ------                       --------------  -----  \n",
            " 0   clump_thickness              559 non-null    int64  \n",
            " 1   cell_size_uniformity         559 non-null    int64  \n",
            " 2   cell_shape_uniformity        559 non-null    int64  \n",
            " 3   marginal_adhesion            559 non-null    int64  \n",
            " 4   single_epithelial_cell_size  559 non-null    int64  \n",
            " 5   bare_nuclei                  559 non-null    float64\n",
            " 6   bland_chromatin              559 non-null    int64  \n",
            " 7   normal_nucleoli              559 non-null    int64  \n",
            " 8   mitoses                      559 non-null    int64  \n",
            "dtypes: float64(1), int64(8)\n",
            "memory usage: 43.7 KB\n"
          ]
        }
      ]
    },
    {
      "cell_type": "code",
      "metadata": {
        "id": "Wn-_4ZKN192A",
        "colab": {
          "base_uri": "https://localhost:8080/"
        },
        "outputId": "23de8461-b7c1-4148-f3b1-9ed103ae0590"
      },
      "source": [
        "x_train.shape"
      ],
      "execution_count": 21,
      "outputs": [
        {
          "output_type": "execute_result",
          "data": {
            "text/plain": [
              "(559, 9)"
            ]
          },
          "metadata": {},
          "execution_count": 21
        }
      ]
    },
    {
      "cell_type": "code",
      "metadata": {
        "id": "x9D7Pbbn1g1Q",
        "colab": {
          "base_uri": "https://localhost:8080/"
        },
        "outputId": "d29e57d1-c1e0-4cd9-9222-d9b19f838cf0"
      },
      "source": [
        "y_train.shape"
      ],
      "execution_count": 22,
      "outputs": [
        {
          "output_type": "execute_result",
          "data": {
            "text/plain": [
              "(559,)"
            ]
          },
          "metadata": {},
          "execution_count": 22
        }
      ]
    },
    {
      "cell_type": "code",
      "metadata": {
        "id": "ZAkMa_Ub9W1Q"
      },
      "source": [
        ""
      ],
      "execution_count": 22,
      "outputs": []
    },
    {
      "cell_type": "code",
      "metadata": {
        "id": "B8Ov5VOM2WcX"
      },
      "source": [
        "y_test = x_test['label']\n",
        "x_test.drop(['sample_code', 'class','label'], axis=1, inplace=True)"
      ],
      "execution_count": 23,
      "outputs": []
    },
    {
      "cell_type": "code",
      "metadata": {
        "id": "-mlVnwob8jht",
        "colab": {
          "base_uri": "https://localhost:8080/"
        },
        "outputId": "d986832c-9a5f-4278-ffff-2d35bcd9f54c"
      },
      "source": [
        "x_test.info()"
      ],
      "execution_count": 24,
      "outputs": [
        {
          "output_type": "stream",
          "name": "stdout",
          "text": [
            "<class 'pandas.core.frame.DataFrame'>\n",
            "Int64Index: 140 entries, 15 to 686\n",
            "Data columns (total 9 columns):\n",
            " #   Column                       Non-Null Count  Dtype  \n",
            "---  ------                       --------------  -----  \n",
            " 0   clump_thickness              140 non-null    int64  \n",
            " 1   cell_size_uniformity         140 non-null    int64  \n",
            " 2   cell_shape_uniformity        140 non-null    int64  \n",
            " 3   marginal_adhesion            140 non-null    int64  \n",
            " 4   single_epithelial_cell_size  140 non-null    int64  \n",
            " 5   bare_nuclei                  140 non-null    float64\n",
            " 6   bland_chromatin              140 non-null    int64  \n",
            " 7   normal_nucleoli              140 non-null    int64  \n",
            " 8   mitoses                      140 non-null    int64  \n",
            "dtypes: float64(1), int64(8)\n",
            "memory usage: 10.9 KB\n"
          ]
        }
      ]
    },
    {
      "cell_type": "code",
      "metadata": {
        "id": "HNOxa0_s8pL4",
        "colab": {
          "base_uri": "https://localhost:8080/"
        },
        "outputId": "ad7145a1-c1b2-4cdf-bc47-b553682bb7b6"
      },
      "source": [
        "x_test.shape"
      ],
      "execution_count": 25,
      "outputs": [
        {
          "output_type": "execute_result",
          "data": {
            "text/plain": [
              "(140, 9)"
            ]
          },
          "metadata": {},
          "execution_count": 25
        }
      ]
    },
    {
      "cell_type": "code",
      "metadata": {
        "colab": {
          "base_uri": "https://localhost:8080/"
        },
        "id": "cIkwWUP7bn-1",
        "outputId": "a474c29f-f857-4ab0-fffb-d2fba45a0c43"
      },
      "source": [
        "y_test.shape"
      ],
      "execution_count": 26,
      "outputs": [
        {
          "output_type": "execute_result",
          "data": {
            "text/plain": [
              "(140,)"
            ]
          },
          "metadata": {},
          "execution_count": 26
        }
      ]
    },
    {
      "cell_type": "markdown",
      "metadata": {
        "id": "XyU7b5XQeVjy"
      },
      "source": [
        "**6. Designing a neural network for model training**"
      ]
    },
    {
      "cell_type": "code",
      "metadata": {
        "id": "uvAtMEel_2uP"
      },
      "source": [
        "def build_model():\n",
        "  model = keras.Sequential([\n",
        "    layers.Dense(9, activation='sigmoid',\n",
        "                 input_shape=(9,)),\n",
        "    layers.Dense(9, activation='sigmoid'),\n",
        "    layers.Dense(1, activation='sigmoid')\n",
        "   ])\n",
        "  \n",
        "  optimizer = keras.optimizers.Ftrl(learning_rate=0.007)\n",
        "  model.compile(loss='binary_crossentropy',\n",
        "              optimizer=optimizer,\n",
        "              metrics=['accuracy'])\n",
        "  return model"
      ],
      "execution_count": 27,
      "outputs": []
    },
    {
      "cell_type": "code",
      "metadata": {
        "id": "opGwSGHtAy5a",
        "colab": {
          "base_uri": "https://localhost:8080/"
        },
        "outputId": "572b7963-2a61-4ea0-f5d0-3734a5e02202"
      },
      "source": [
        "model = build_model()\n",
        "model.summary()"
      ],
      "execution_count": 28,
      "outputs": [
        {
          "output_type": "stream",
          "name": "stdout",
          "text": [
            "Model: \"sequential\"\n",
            "_________________________________________________________________\n",
            " Layer (type)                Output Shape              Param #   \n",
            "=================================================================\n",
            " dense (Dense)               (None, 9)                 90        \n",
            "                                                                 \n",
            " dense_1 (Dense)             (None, 9)                 90        \n",
            "                                                                 \n",
            " dense_2 (Dense)             (None, 1)                 10        \n",
            "                                                                 \n",
            "=================================================================\n",
            "Total params: 190\n",
            "Trainable params: 190\n",
            "Non-trainable params: 0\n",
            "_________________________________________________________________\n"
          ]
        }
      ]
    },
    {
      "cell_type": "markdown",
      "metadata": {
        "id": "FaIjnN6lelTE"
      },
      "source": [
        "**7. Launch the model training**"
      ]
    },
    {
      "cell_type": "code",
      "metadata": {
        "id": "lZ9PNY2vA2qh",
        "colab": {
          "base_uri": "https://localhost:8080/"
        },
        "outputId": "0f014939-ab12-4b62-fb90-c40304e19611"
      },
      "source": [
        "class PrintDot(keras.callbacks.Callback):\n",
        " def on_epoch_end(self, epoch, logs):\n",
        "  if epoch % 100 == 0: print('')\n",
        "  print('.', end='')\n",
        "\n",
        "\n",
        "history = model.fit(x_train, y_train, \n",
        "          batch_size=1, \n",
        "          epochs=100, verbose=1, \n",
        "          validation_split=0.1)\n"
      ],
      "execution_count": 29,
      "outputs": [
        {
          "output_type": "stream",
          "name": "stdout",
          "text": [
            "Epoch 1/100\n",
            "503/503 [==============================] - 2s 2ms/step - loss: 0.6622 - accuracy: 0.6521 - val_loss: 0.6569 - val_accuracy: 0.6429\n",
            "Epoch 2/100\n",
            "503/503 [==============================] - 1s 2ms/step - loss: 0.6509 - accuracy: 0.6521 - val_loss: 0.6524 - val_accuracy: 0.6429\n",
            "Epoch 3/100\n",
            "503/503 [==============================] - 1s 2ms/step - loss: 0.6464 - accuracy: 0.6521 - val_loss: 0.6490 - val_accuracy: 0.6429\n",
            "Epoch 4/100\n",
            "503/503 [==============================] - 1s 1ms/step - loss: 0.6424 - accuracy: 0.6521 - val_loss: 0.6457 - val_accuracy: 0.6429\n",
            "Epoch 5/100\n",
            "503/503 [==============================] - 1s 1ms/step - loss: 0.6389 - accuracy: 0.6521 - val_loss: 0.6426 - val_accuracy: 0.6429\n",
            "Epoch 6/100\n",
            "503/503 [==============================] - 1s 2ms/step - loss: 0.6355 - accuracy: 0.6521 - val_loss: 0.6397 - val_accuracy: 0.6429\n",
            "Epoch 7/100\n",
            "503/503 [==============================] - 1s 1ms/step - loss: 0.6322 - accuracy: 0.6521 - val_loss: 0.6368 - val_accuracy: 0.6429\n",
            "Epoch 8/100\n",
            "503/503 [==============================] - 1s 2ms/step - loss: 0.6290 - accuracy: 0.6521 - val_loss: 0.6339 - val_accuracy: 0.6429\n",
            "Epoch 9/100\n",
            "503/503 [==============================] - 1s 2ms/step - loss: 0.6256 - accuracy: 0.6521 - val_loss: 0.6310 - val_accuracy: 0.6429\n",
            "Epoch 10/100\n",
            "503/503 [==============================] - 1s 1ms/step - loss: 0.6222 - accuracy: 0.6521 - val_loss: 0.6280 - val_accuracy: 0.6429\n",
            "Epoch 11/100\n",
            "503/503 [==============================] - 1s 2ms/step - loss: 0.6187 - accuracy: 0.6521 - val_loss: 0.6250 - val_accuracy: 0.6429\n",
            "Epoch 12/100\n",
            "503/503 [==============================] - 1s 1ms/step - loss: 0.6151 - accuracy: 0.6521 - val_loss: 0.6219 - val_accuracy: 0.6429\n",
            "Epoch 13/100\n",
            "503/503 [==============================] - 1s 1ms/step - loss: 0.6114 - accuracy: 0.6521 - val_loss: 0.6188 - val_accuracy: 0.6429\n",
            "Epoch 14/100\n",
            "503/503 [==============================] - 1s 2ms/step - loss: 0.6077 - accuracy: 0.6521 - val_loss: 0.6157 - val_accuracy: 0.6429\n",
            "Epoch 15/100\n",
            "503/503 [==============================] - 1s 1ms/step - loss: 0.6040 - accuracy: 0.6521 - val_loss: 0.6125 - val_accuracy: 0.6429\n",
            "Epoch 16/100\n",
            "503/503 [==============================] - 1s 1ms/step - loss: 0.6003 - accuracy: 0.6521 - val_loss: 0.6094 - val_accuracy: 0.6429\n",
            "Epoch 17/100\n",
            "503/503 [==============================] - 1s 2ms/step - loss: 0.5965 - accuracy: 0.6521 - val_loss: 0.6062 - val_accuracy: 0.6429\n",
            "Epoch 18/100\n",
            "503/503 [==============================] - 1s 1ms/step - loss: 0.5928 - accuracy: 0.6521 - val_loss: 0.6030 - val_accuracy: 0.6429\n",
            "Epoch 19/100\n",
            "503/503 [==============================] - 1s 1ms/step - loss: 0.5890 - accuracy: 0.6521 - val_loss: 0.5998 - val_accuracy: 0.6429\n",
            "Epoch 20/100\n",
            "503/503 [==============================] - 1s 2ms/step - loss: 0.5852 - accuracy: 0.6521 - val_loss: 0.5965 - val_accuracy: 0.6429\n",
            "Epoch 21/100\n",
            "503/503 [==============================] - 1s 1ms/step - loss: 0.5814 - accuracy: 0.6521 - val_loss: 0.5932 - val_accuracy: 0.6429\n",
            "Epoch 22/100\n",
            "503/503 [==============================] - 1s 1ms/step - loss: 0.5775 - accuracy: 0.6521 - val_loss: 0.5899 - val_accuracy: 0.6429\n",
            "Epoch 23/100\n",
            "503/503 [==============================] - 1s 1ms/step - loss: 0.5737 - accuracy: 0.6521 - val_loss: 0.5866 - val_accuracy: 0.6429\n",
            "Epoch 24/100\n",
            "503/503 [==============================] - 1s 1ms/step - loss: 0.5698 - accuracy: 0.6521 - val_loss: 0.5832 - val_accuracy: 0.6429\n",
            "Epoch 25/100\n",
            "503/503 [==============================] - 1s 2ms/step - loss: 0.5658 - accuracy: 0.6521 - val_loss: 0.5798 - val_accuracy: 0.6429\n",
            "Epoch 26/100\n",
            "503/503 [==============================] - 1s 1ms/step - loss: 0.5619 - accuracy: 0.6521 - val_loss: 0.5763 - val_accuracy: 0.6429\n",
            "Epoch 27/100\n",
            "503/503 [==============================] - 1s 2ms/step - loss: 0.5579 - accuracy: 0.6521 - val_loss: 0.5728 - val_accuracy: 0.6429\n",
            "Epoch 28/100\n",
            "503/503 [==============================] - 1s 1ms/step - loss: 0.5538 - accuracy: 0.6521 - val_loss: 0.5692 - val_accuracy: 0.6429\n",
            "Epoch 29/100\n",
            "503/503 [==============================] - 1s 1ms/step - loss: 0.5497 - accuracy: 0.6521 - val_loss: 0.5656 - val_accuracy: 0.6429\n",
            "Epoch 30/100\n",
            "503/503 [==============================] - 1s 2ms/step - loss: 0.5455 - accuracy: 0.6521 - val_loss: 0.5619 - val_accuracy: 0.6429\n",
            "Epoch 31/100\n",
            "503/503 [==============================] - 1s 2ms/step - loss: 0.5413 - accuracy: 0.6521 - val_loss: 0.5582 - val_accuracy: 0.6429\n",
            "Epoch 32/100\n",
            "503/503 [==============================] - 1s 2ms/step - loss: 0.5371 - accuracy: 0.6521 - val_loss: 0.5545 - val_accuracy: 0.6429\n",
            "Epoch 33/100\n",
            "503/503 [==============================] - 1s 1ms/step - loss: 0.5328 - accuracy: 0.6521 - val_loss: 0.5507 - val_accuracy: 0.6429\n",
            "Epoch 34/100\n",
            "503/503 [==============================] - 1s 2ms/step - loss: 0.5285 - accuracy: 0.6521 - val_loss: 0.5468 - val_accuracy: 0.6429\n",
            "Epoch 35/100\n",
            "503/503 [==============================] - 1s 2ms/step - loss: 0.5242 - accuracy: 0.6521 - val_loss: 0.5429 - val_accuracy: 0.6429\n",
            "Epoch 36/100\n",
            "503/503 [==============================] - 1s 2ms/step - loss: 0.5198 - accuracy: 0.6521 - val_loss: 0.5390 - val_accuracy: 0.6429\n",
            "Epoch 37/100\n",
            "503/503 [==============================] - 1s 1ms/step - loss: 0.5153 - accuracy: 0.6521 - val_loss: 0.5351 - val_accuracy: 0.6429\n",
            "Epoch 38/100\n",
            "503/503 [==============================] - 1s 2ms/step - loss: 0.5109 - accuracy: 0.6521 - val_loss: 0.5311 - val_accuracy: 0.6429\n",
            "Epoch 39/100\n",
            "503/503 [==============================] - 1s 1ms/step - loss: 0.5064 - accuracy: 0.6521 - val_loss: 0.5271 - val_accuracy: 0.6429\n",
            "Epoch 40/100\n",
            "503/503 [==============================] - 1s 2ms/step - loss: 0.5019 - accuracy: 0.6521 - val_loss: 0.5231 - val_accuracy: 0.6429\n",
            "Epoch 41/100\n",
            "503/503 [==============================] - 1s 2ms/step - loss: 0.4974 - accuracy: 0.6521 - val_loss: 0.5190 - val_accuracy: 0.6429\n",
            "Epoch 42/100\n",
            "503/503 [==============================] - 1s 2ms/step - loss: 0.4928 - accuracy: 0.6521 - val_loss: 0.5149 - val_accuracy: 0.6429\n",
            "Epoch 43/100\n",
            "503/503 [==============================] - 1s 1ms/step - loss: 0.4882 - accuracy: 0.6521 - val_loss: 0.5108 - val_accuracy: 0.6429\n",
            "Epoch 44/100\n",
            "503/503 [==============================] - 1s 2ms/step - loss: 0.4836 - accuracy: 0.6521 - val_loss: 0.5067 - val_accuracy: 0.6429\n",
            "Epoch 45/100\n",
            "503/503 [==============================] - 1s 2ms/step - loss: 0.4791 - accuracy: 0.6521 - val_loss: 0.5026 - val_accuracy: 0.6429\n",
            "Epoch 46/100\n",
            "503/503 [==============================] - 1s 2ms/step - loss: 0.4744 - accuracy: 0.6521 - val_loss: 0.4985 - val_accuracy: 0.6429\n",
            "Epoch 47/100\n",
            "503/503 [==============================] - 1s 1ms/step - loss: 0.4698 - accuracy: 0.6521 - val_loss: 0.4943 - val_accuracy: 0.6429\n",
            "Epoch 48/100\n",
            "503/503 [==============================] - 1s 2ms/step - loss: 0.4652 - accuracy: 0.6521 - val_loss: 0.4902 - val_accuracy: 0.6429\n",
            "Epoch 49/100\n",
            "503/503 [==============================] - 1s 2ms/step - loss: 0.4606 - accuracy: 0.6521 - val_loss: 0.4861 - val_accuracy: 0.6429\n",
            "Epoch 50/100\n",
            "503/503 [==============================] - 1s 2ms/step - loss: 0.4560 - accuracy: 0.6521 - val_loss: 0.4819 - val_accuracy: 0.6429\n",
            "Epoch 51/100\n",
            "503/503 [==============================] - 1s 1ms/step - loss: 0.4514 - accuracy: 0.6521 - val_loss: 0.4778 - val_accuracy: 0.6429\n",
            "Epoch 52/100\n",
            "503/503 [==============================] - 1s 1ms/step - loss: 0.4468 - accuracy: 0.6521 - val_loss: 0.4737 - val_accuracy: 0.6429\n",
            "Epoch 53/100\n",
            "503/503 [==============================] - 1s 2ms/step - loss: 0.4422 - accuracy: 0.6521 - val_loss: 0.4696 - val_accuracy: 0.6429\n",
            "Epoch 54/100\n",
            "503/503 [==============================] - 1s 2ms/step - loss: 0.4376 - accuracy: 0.6521 - val_loss: 0.4655 - val_accuracy: 0.6429\n",
            "Epoch 55/100\n",
            "503/503 [==============================] - 1s 1ms/step - loss: 0.4331 - accuracy: 0.6521 - val_loss: 0.4614 - val_accuracy: 0.6429\n",
            "Epoch 56/100\n",
            "503/503 [==============================] - 1s 2ms/step - loss: 0.4286 - accuracy: 0.6521 - val_loss: 0.4574 - val_accuracy: 0.6429\n",
            "Epoch 57/100\n",
            "503/503 [==============================] - 1s 2ms/step - loss: 0.4241 - accuracy: 0.6521 - val_loss: 0.4533 - val_accuracy: 0.6429\n",
            "Epoch 58/100\n",
            "503/503 [==============================] - 1s 2ms/step - loss: 0.4196 - accuracy: 0.6521 - val_loss: 0.4493 - val_accuracy: 0.6429\n",
            "Epoch 59/100\n",
            "503/503 [==============================] - 1s 2ms/step - loss: 0.4151 - accuracy: 0.6521 - val_loss: 0.4454 - val_accuracy: 0.6429\n",
            "Epoch 60/100\n",
            "503/503 [==============================] - 1s 2ms/step - loss: 0.4107 - accuracy: 0.6521 - val_loss: 0.4414 - val_accuracy: 0.6429\n",
            "Epoch 61/100\n",
            "503/503 [==============================] - 1s 2ms/step - loss: 0.4064 - accuracy: 0.6660 - val_loss: 0.4375 - val_accuracy: 0.6964\n",
            "Epoch 62/100\n",
            "503/503 [==============================] - 1s 1ms/step - loss: 0.4020 - accuracy: 0.7833 - val_loss: 0.4336 - val_accuracy: 0.8036\n",
            "Epoch 63/100\n",
            "503/503 [==============================] - 1s 1ms/step - loss: 0.3977 - accuracy: 0.8449 - val_loss: 0.4298 - val_accuracy: 0.8750\n",
            "Epoch 64/100\n",
            "503/503 [==============================] - 1s 2ms/step - loss: 0.3935 - accuracy: 0.8847 - val_loss: 0.4260 - val_accuracy: 0.8750\n",
            "Epoch 65/100\n",
            "503/503 [==============================] - 1s 2ms/step - loss: 0.3893 - accuracy: 0.9066 - val_loss: 0.4223 - val_accuracy: 0.9107\n",
            "Epoch 66/100\n",
            "503/503 [==============================] - 1s 1ms/step - loss: 0.3851 - accuracy: 0.9085 - val_loss: 0.4185 - val_accuracy: 0.9107\n",
            "Epoch 67/100\n",
            "503/503 [==============================] - 1s 2ms/step - loss: 0.3810 - accuracy: 0.9225 - val_loss: 0.4149 - val_accuracy: 0.9107\n",
            "Epoch 68/100\n",
            "503/503 [==============================] - 1s 2ms/step - loss: 0.3769 - accuracy: 0.9284 - val_loss: 0.4113 - val_accuracy: 0.9107\n",
            "Epoch 69/100\n",
            "503/503 [==============================] - 1s 2ms/step - loss: 0.3729 - accuracy: 0.9324 - val_loss: 0.4077 - val_accuracy: 0.9107\n",
            "Epoch 70/100\n",
            "503/503 [==============================] - 1s 2ms/step - loss: 0.3689 - accuracy: 0.9344 - val_loss: 0.4041 - val_accuracy: 0.9107\n",
            "Epoch 71/100\n",
            "503/503 [==============================] - 1s 2ms/step - loss: 0.3650 - accuracy: 0.9364 - val_loss: 0.4007 - val_accuracy: 0.9286\n",
            "Epoch 72/100\n",
            "503/503 [==============================] - 1s 2ms/step - loss: 0.3612 - accuracy: 0.9384 - val_loss: 0.3972 - val_accuracy: 0.9286\n",
            "Epoch 73/100\n",
            "503/503 [==============================] - 1s 2ms/step - loss: 0.3574 - accuracy: 0.9384 - val_loss: 0.3938 - val_accuracy: 0.9286\n",
            "Epoch 74/100\n",
            "503/503 [==============================] - 1s 2ms/step - loss: 0.3536 - accuracy: 0.9404 - val_loss: 0.3905 - val_accuracy: 0.9286\n",
            "Epoch 75/100\n",
            "503/503 [==============================] - 1s 1ms/step - loss: 0.3499 - accuracy: 0.9423 - val_loss: 0.3872 - val_accuracy: 0.9286\n",
            "Epoch 76/100\n",
            "503/503 [==============================] - 1s 2ms/step - loss: 0.3463 - accuracy: 0.9423 - val_loss: 0.3840 - val_accuracy: 0.9286\n",
            "Epoch 77/100\n",
            "503/503 [==============================] - 1s 2ms/step - loss: 0.3427 - accuracy: 0.9443 - val_loss: 0.3808 - val_accuracy: 0.9286\n",
            "Epoch 78/100\n",
            "503/503 [==============================] - 1s 1ms/step - loss: 0.3391 - accuracy: 0.9463 - val_loss: 0.3777 - val_accuracy: 0.9286\n",
            "Epoch 79/100\n",
            "503/503 [==============================] - 1s 2ms/step - loss: 0.3356 - accuracy: 0.9483 - val_loss: 0.3746 - val_accuracy: 0.9286\n",
            "Epoch 80/100\n",
            "503/503 [==============================] - 1s 2ms/step - loss: 0.3322 - accuracy: 0.9523 - val_loss: 0.3715 - val_accuracy: 0.9286\n",
            "Epoch 81/100\n",
            "503/503 [==============================] - 1s 2ms/step - loss: 0.3288 - accuracy: 0.9543 - val_loss: 0.3686 - val_accuracy: 0.9286\n",
            "Epoch 82/100\n",
            "503/503 [==============================] - 1s 2ms/step - loss: 0.3255 - accuracy: 0.9563 - val_loss: 0.3656 - val_accuracy: 0.9286\n",
            "Epoch 83/100\n",
            "503/503 [==============================] - 1s 2ms/step - loss: 0.3223 - accuracy: 0.9602 - val_loss: 0.3627 - val_accuracy: 0.9286\n",
            "Epoch 84/100\n",
            "503/503 [==============================] - 1s 2ms/step - loss: 0.3190 - accuracy: 0.9602 - val_loss: 0.3599 - val_accuracy: 0.9286\n",
            "Epoch 85/100\n",
            "503/503 [==============================] - 1s 2ms/step - loss: 0.3159 - accuracy: 0.9583 - val_loss: 0.3571 - val_accuracy: 0.9286\n",
            "Epoch 86/100\n",
            "503/503 [==============================] - 1s 2ms/step - loss: 0.3128 - accuracy: 0.9583 - val_loss: 0.3543 - val_accuracy: 0.9286\n",
            "Epoch 87/100\n",
            "503/503 [==============================] - 1s 1ms/step - loss: 0.3097 - accuracy: 0.9583 - val_loss: 0.3517 - val_accuracy: 0.9286\n",
            "Epoch 88/100\n",
            "503/503 [==============================] - 1s 1ms/step - loss: 0.3067 - accuracy: 0.9583 - val_loss: 0.3490 - val_accuracy: 0.9286\n",
            "Epoch 89/100\n",
            "503/503 [==============================] - 1s 1ms/step - loss: 0.3038 - accuracy: 0.9583 - val_loss: 0.3464 - val_accuracy: 0.9286\n",
            "Epoch 90/100\n",
            "503/503 [==============================] - 1s 2ms/step - loss: 0.3009 - accuracy: 0.9583 - val_loss: 0.3439 - val_accuracy: 0.9286\n",
            "Epoch 91/100\n",
            "503/503 [==============================] - 1s 2ms/step - loss: 0.2980 - accuracy: 0.9583 - val_loss: 0.3414 - val_accuracy: 0.9286\n",
            "Epoch 92/100\n",
            "503/503 [==============================] - 1s 1ms/step - loss: 0.2952 - accuracy: 0.9583 - val_loss: 0.3389 - val_accuracy: 0.9286\n",
            "Epoch 93/100\n",
            "503/503 [==============================] - 1s 1ms/step - loss: 0.2925 - accuracy: 0.9563 - val_loss: 0.3365 - val_accuracy: 0.9286\n",
            "Epoch 94/100\n",
            "503/503 [==============================] - 1s 1ms/step - loss: 0.2897 - accuracy: 0.9583 - val_loss: 0.3341 - val_accuracy: 0.9286\n",
            "Epoch 95/100\n",
            "503/503 [==============================] - 1s 2ms/step - loss: 0.2871 - accuracy: 0.9563 - val_loss: 0.3318 - val_accuracy: 0.9286\n",
            "Epoch 96/100\n",
            "503/503 [==============================] - 1s 2ms/step - loss: 0.2845 - accuracy: 0.9563 - val_loss: 0.3295 - val_accuracy: 0.9286\n",
            "Epoch 97/100\n",
            "503/503 [==============================] - 1s 2ms/step - loss: 0.2819 - accuracy: 0.9563 - val_loss: 0.3272 - val_accuracy: 0.9286\n",
            "Epoch 98/100\n",
            "503/503 [==============================] - 1s 2ms/step - loss: 0.2794 - accuracy: 0.9563 - val_loss: 0.3251 - val_accuracy: 0.9286\n",
            "Epoch 99/100\n",
            "503/503 [==============================] - 1s 2ms/step - loss: 0.2769 - accuracy: 0.9563 - val_loss: 0.3229 - val_accuracy: 0.9286\n",
            "Epoch 100/100\n",
            "503/503 [==============================] - 1s 2ms/step - loss: 0.2745 - accuracy: 0.9563 - val_loss: 0.3208 - val_accuracy: 0.9286\n"
          ]
        }
      ]
    },
    {
      "cell_type": "code",
      "metadata": {
        "id": "F27wXNLsD5lW",
        "colab": {
          "base_uri": "https://localhost:8080/",
          "height": 221
        },
        "outputId": "bcf00700-811e-4792-dd28-9964549744a1"
      },
      "source": [
        "hist = pd.DataFrame(history.history)\n",
        "hist['epoch'] = history.epoch\n",
        "hist.tail()\n"
      ],
      "execution_count": 30,
      "outputs": [
        {
          "output_type": "execute_result",
          "data": {
            "text/html": [
              "<div>\n",
              "<style scoped>\n",
              "    .dataframe tbody tr th:only-of-type {\n",
              "        vertical-align: middle;\n",
              "    }\n",
              "\n",
              "    .dataframe tbody tr th {\n",
              "        vertical-align: top;\n",
              "    }\n",
              "\n",
              "    .dataframe thead th {\n",
              "        text-align: right;\n",
              "    }\n",
              "</style>\n",
              "<table border=\"1\" class=\"dataframe\">\n",
              "  <thead>\n",
              "    <tr style=\"text-align: right;\">\n",
              "      <th></th>\n",
              "      <th>loss</th>\n",
              "      <th>accuracy</th>\n",
              "      <th>val_loss</th>\n",
              "      <th>val_accuracy</th>\n",
              "      <th>epoch</th>\n",
              "    </tr>\n",
              "  </thead>\n",
              "  <tbody>\n",
              "    <tr>\n",
              "      <th>95</th>\n",
              "      <td>0.284470</td>\n",
              "      <td>0.956262</td>\n",
              "      <td>0.329502</td>\n",
              "      <td>0.928571</td>\n",
              "      <td>95</td>\n",
              "    </tr>\n",
              "    <tr>\n",
              "      <th>96</th>\n",
              "      <td>0.281905</td>\n",
              "      <td>0.956262</td>\n",
              "      <td>0.327249</td>\n",
              "      <td>0.928571</td>\n",
              "      <td>96</td>\n",
              "    </tr>\n",
              "    <tr>\n",
              "      <th>97</th>\n",
              "      <td>0.279381</td>\n",
              "      <td>0.956262</td>\n",
              "      <td>0.325051</td>\n",
              "      <td>0.928571</td>\n",
              "      <td>97</td>\n",
              "    </tr>\n",
              "    <tr>\n",
              "      <th>98</th>\n",
              "      <td>0.276902</td>\n",
              "      <td>0.956262</td>\n",
              "      <td>0.322890</td>\n",
              "      <td>0.928571</td>\n",
              "      <td>98</td>\n",
              "    </tr>\n",
              "    <tr>\n",
              "      <th>99</th>\n",
              "      <td>0.274464</td>\n",
              "      <td>0.956262</td>\n",
              "      <td>0.320777</td>\n",
              "      <td>0.928571</td>\n",
              "      <td>99</td>\n",
              "    </tr>\n",
              "  </tbody>\n",
              "</table>\n",
              "</div>"
            ],
            "text/plain": [
              "        loss  accuracy  val_loss  val_accuracy  epoch\n",
              "95  0.284470  0.956262  0.329502      0.928571     95\n",
              "96  0.281905  0.956262  0.327249      0.928571     96\n",
              "97  0.279381  0.956262  0.325051      0.928571     97\n",
              "98  0.276902  0.956262  0.322890      0.928571     98\n",
              "99  0.274464  0.956262  0.320777      0.928571     99"
            ]
          },
          "metadata": {},
          "execution_count": 30
        }
      ]
    },
    {
      "cell_type": "code",
      "metadata": {
        "id": "r32zVkDAET_x",
        "colab": {
          "base_uri": "https://localhost:8080/",
          "height": 300
        },
        "outputId": "32db93e8-c9ad-4c76-f77a-c9c462368379"
      },
      "source": [
        "def plot_history(history):\n",
        "  hist = pd.DataFrame(history.history)\n",
        "  hist['epoch'] = history.epoch\n",
        "\n",
        "  plt.figure()\n",
        "  plt.xlabel('Epoch')\n",
        "  plt.ylabel('Accuracy')\n",
        "  plt.plot(hist['epoch'], hist['accuracy'],\n",
        "           label='Train Accuracy')\n",
        "  plt.plot(hist['epoch'], hist['val_accuracy'],\n",
        "           label = 'Val Accuracy')\n",
        "  plt.legend()\n",
        "  plt.show()\n",
        "\n",
        "plot_history(history)\n"
      ],
      "execution_count": 31,
      "outputs": [
        {
          "output_type": "display_data",
          "data": {
            "image/png": "[encoded data removed]",
            "text/plain": [
              "<Figure size 432x288 with 1 Axes>"
            ]
          },
          "metadata": {
            "needs_background": "light"
          }
        }
      ]
    },
    {
      "cell_type": "markdown",
      "metadata": {
        "id": "9JEgwoAarkbU"
      },
      "source": [
        "**8. Model Evaluation**"
      ]
    },
    {
      "cell_type": "code",
      "metadata": {
        "id": "T1ZzB6TutAAh",
        "colab": {
          "base_uri": "https://localhost:8080/"
        },
        "outputId": "f2e0213a-8edc-4220-b36a-5a6f4ee30cc0"
      },
      "source": [
        "# Generate generalization metrics\n",
        "score = model.evaluate(x_test, y_test, verbose=0)\n",
        "print(f'Test loss: {score[0]} / Test accuracy: {score[1]}')"
      ],
      "execution_count": 32,
      "outputs": [
        {
          "output_type": "stream",
          "name": "stdout",
          "text": [
            "Test loss: 0.2624789774417877 / Test accuracy: 0.9642857313156128\n"
          ]
        }
      ]
    },
    {
      "cell_type": "code",
      "metadata": {
        "id": "iZJNG0p3NMIF"
      },
      "source": [
        ""
      ],
      "execution_count": 32,
      "outputs": []
    }
  ]
}