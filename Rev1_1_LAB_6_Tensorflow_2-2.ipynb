{
  "nbformat": 4,
  "nbformat_minor": 0,
  "metadata": {
    "colab": {
      "name": "Rev1_1_LAB_6_Tensorflow-2.ipynb",
      "provenance": [],
      "collapsed_sections": []
    },
    "kernelspec": {
      "name": "python3",
      "display_name": "Python 3"
    },
    "language_info": {
      "name": "python"
    }
  },
  "cells": [
    {
      "cell_type": "code",
      "metadata": {
        "id": "D8qPF7NyqwgW",
        "colab": {
          "base_uri": "https://localhost:8080/"
        },
        "outputId": "d617efe2-628c-4fa5-f65e-8eec772588ac"
      },
      "source": [
        "!pip install seaborn\n",
        "\n",
        "from __future__ import absolute_import, division, print_function, unicode_literals\n",
        "\n",
        "import pathlib\n",
        "\n",
        "import matplotlib.pyplot as plt\n",
        "import numpy as np\n",
        "import pandas as pd\n",
        "import seaborn as sns\n"
      ],
      "execution_count": 1,
      "outputs": [
        {
          "output_type": "stream",
          "name": "stdout",
          "text": [
            "Requirement already satisfied: seaborn in /usr/local/lib/python3.7/dist-packages (0.11.2)\n",
            "Requirement already satisfied: scipy>=1.0 in /usr/local/lib/python3.7/dist-packages (from seaborn) (1.4.1)\n",
            "Requirement already satisfied: numpy>=1.15 in /usr/local/lib/python3.7/dist-packages (from seaborn) (1.19.5)\n",
            "Requirement already satisfied: matplotlib>=2.2 in /usr/local/lib/python3.7/dist-packages (from seaborn) (3.2.2)\n",
            "Requirement already satisfied: pandas>=0.23 in /usr/local/lib/python3.7/dist-packages (from seaborn) (1.1.5)\n",
            "Requirement already satisfied: kiwisolver>=1.0.1 in /usr/local/lib/python3.7/dist-packages (from matplotlib>=2.2->seaborn) (1.3.2)\n",
            "Requirement already satisfied: cycler>=0.10 in /usr/local/lib/python3.7/dist-packages (from matplotlib>=2.2->seaborn) (0.11.0)\n",
            "Requirement already satisfied: python-dateutil>=2.1 in /usr/local/lib/python3.7/dist-packages (from matplotlib>=2.2->seaborn) (2.8.2)\n",
            "Requirement already satisfied: pyparsing!=2.0.4,!=2.1.2,!=2.1.6,>=2.0.1 in /usr/local/lib/python3.7/dist-packages (from matplotlib>=2.2->seaborn) (3.0.6)\n",
            "Requirement already satisfied: pytz>=2017.2 in /usr/local/lib/python3.7/dist-packages (from pandas>=0.23->seaborn) (2018.9)\n",
            "Requirement already satisfied: six>=1.5 in /usr/local/lib/python3.7/dist-packages (from python-dateutil>=2.1->matplotlib>=2.2->seaborn) (1.15.0)\n"
          ]
        }
      ]
    },
    {
      "cell_type": "code",
      "metadata": {
        "colab": {
          "base_uri": "https://localhost:8080/"
        },
        "id": "rqY55Q39B4F2",
        "outputId": "73832259-72aa-4dac-f03b-b6b9c71bebe2"
      },
      "source": [
        "import tensorflow as tf\n",
        "\n",
        "from tensorflow import keras\n",
        "from tensorflow.keras import layers\n",
        "\n",
        "print(tf.__version__)"
      ],
      "execution_count": 2,
      "outputs": [
        {
          "output_type": "stream",
          "name": "stdout",
          "text": [
            "2.7.0\n"
          ]
        }
      ]
    },
    {
      "cell_type": "code",
      "metadata": {
        "id": "nuQmipHkDZvO"
      },
      "source": [
        "breast_cancer = 'https://archive.ics.uci.edu/ml/machine-learning-databases/breast-cancer-wisconsin/breast-cancer-wisconsin.data'"
      ],
      "execution_count": 3,
      "outputs": []
    },
    {
      "cell_type": "code",
      "metadata": {
        "id": "VJv8aSiKqyLr"
      },
      "source": [
        "path = keras.utils.get_file(\"breast-cancer-wisconsin.data\",breast_cancer)\n"
      ],
      "execution_count": 4,
      "outputs": []
    },
    {
      "cell_type": "code",
      "metadata": {
        "id": "kfMJmg9kq1Tq"
      },
      "source": [
        "columns = ['sample_code', 'clump_thickness', 'cell_size_uniformity',\n",
        "           'cell_shape_uniformity',\n",
        "           'marginal_adhesion', 'single_epithelial_cell_size',\n",
        "           'bare_nuclei', 'bland_chromatin',\n",
        "           'normal_nucleoli', 'mitoses', 'class']\n",
        "data = pd.read_csv(path, header=None, names=columns, na_values=[np.nan, '?'])### เนื่องจาก Meaning ของข้อมูลเป็น numerical type จึงใช้ na_value ตรวจหาและแทนทีค่าใน list ด้วย NULL เพื่อให้ dataframe เป็น numerical type ทังหมด\n"
      ],
      "execution_count": 5,
      "outputs": []
    },
    {
      "cell_type": "code",
      "metadata": {
        "id": "G1XUq4TJsSyL",
        "colab": {
          "base_uri": "https://localhost:8080/"
        },
        "outputId": "3a540e77-f505-405b-ecbe-62de834c598a"
      },
      "source": [
        "data.info()"
      ],
      "execution_count": 6,
      "outputs": [
        {
          "output_type": "stream",
          "name": "stdout",
          "text": [
            "<class 'pandas.core.frame.DataFrame'>\n",
            "RangeIndex: 699 entries, 0 to 698\n",
            "Data columns (total 11 columns):\n",
            " #   Column                       Non-Null Count  Dtype  \n",
            "---  ------                       --------------  -----  \n",
            " 0   sample_code                  699 non-null    int64  \n",
            " 1   clump_thickness              699 non-null    int64  \n",
            " 2   cell_size_uniformity         699 non-null    int64  \n",
            " 3   cell_shape_uniformity        699 non-null    int64  \n",
            " 4   marginal_adhesion            699 non-null    int64  \n",
            " 5   single_epithelial_cell_size  699 non-null    int64  \n",
            " 6   bare_nuclei                  683 non-null    float64\n",
            " 7   bland_chromatin              699 non-null    int64  \n",
            " 8   normal_nucleoli              699 non-null    int64  \n",
            " 9   mitoses                      699 non-null    int64  \n",
            " 10  class                        699 non-null    int64  \n",
            "dtypes: float64(1), int64(10)\n",
            "memory usage: 60.2 KB\n"
          ]
        }
      ]
    },
    {
      "cell_type": "code",
      "metadata": {
        "id": "bz577XGyq-0X",
        "colab": {
          "base_uri": "https://localhost:8080/"
        },
        "outputId": "347716d1-b42c-4e45-b690-366f836536d9"
      },
      "source": [
        "data.isnull().sum()"
      ],
      "execution_count": 7,
      "outputs": [
        {
          "output_type": "execute_result",
          "data": {
            "text/plain": [
              "sample_code                     0\n",
              "clump_thickness                 0\n",
              "cell_size_uniformity            0\n",
              "cell_shape_uniformity           0\n",
              "marginal_adhesion               0\n",
              "single_epithelial_cell_size     0\n",
              "bare_nuclei                    16\n",
              "bland_chromatin                 0\n",
              "normal_nucleoli                 0\n",
              "mitoses                         0\n",
              "class                           0\n",
              "dtype: int64"
            ]
          },
          "metadata": {},
          "execution_count": 7
        }
      ]
    },
    {
      "cell_type": "code",
      "metadata": {
        "id": "BW4k49GIrPev",
        "colab": {
          "base_uri": "https://localhost:8080/"
        },
        "outputId": "746107dd-dcf3-450f-fdad-a8a1d5bbace6"
      },
      "source": [
        "data.shape"
      ],
      "execution_count": 8,
      "outputs": [
        {
          "output_type": "execute_result",
          "data": {
            "text/plain": [
              "(699, 11)"
            ]
          },
          "metadata": {},
          "execution_count": 8
        }
      ]
    },
    {
      "cell_type": "code",
      "metadata": {
        "id": "GgXpDSOrrXFH",
        "colab": {
          "base_uri": "https://localhost:8080/",
          "height": 221
        },
        "outputId": "647a5b39-562d-49fc-8e22-731f905214d3"
      },
      "source": [
        "data.loc[data['bare_nuclei'].isnull(),['bare_nuclei']].tail(5)"
      ],
      "execution_count": 9,
      "outputs": [
        {
          "output_type": "execute_result",
          "data": {
            "text/html": [
              "<div>\n",
              "<style scoped>\n",
              "    .dataframe tbody tr th:only-of-type {\n",
              "        vertical-align: middle;\n",
              "    }\n",
              "\n",
              "    .dataframe tbody tr th {\n",
              "        vertical-align: top;\n",
              "    }\n",
              "\n",
              "    .dataframe thead th {\n",
              "        text-align: right;\n",
              "    }\n",
              "</style>\n",
              "<table border=\"1\" class=\"dataframe\">\n",
              "  <thead>\n",
              "    <tr style=\"text-align: right;\">\n",
              "      <th></th>\n",
              "      <th>bare_nuclei</th>\n",
              "    </tr>\n",
              "  </thead>\n",
              "  <tbody>\n",
              "    <tr>\n",
              "      <th>297</th>\n",
              "      <td>NaN</td>\n",
              "    </tr>\n",
              "    <tr>\n",
              "      <th>315</th>\n",
              "      <td>NaN</td>\n",
              "    </tr>\n",
              "    <tr>\n",
              "      <th>321</th>\n",
              "      <td>NaN</td>\n",
              "    </tr>\n",
              "    <tr>\n",
              "      <th>411</th>\n",
              "      <td>NaN</td>\n",
              "    </tr>\n",
              "    <tr>\n",
              "      <th>617</th>\n",
              "      <td>NaN</td>\n",
              "    </tr>\n",
              "  </tbody>\n",
              "</table>\n",
              "</div>"
            ],
            "text/plain": [
              "     bare_nuclei\n",
              "297          NaN\n",
              "315          NaN\n",
              "321          NaN\n",
              "411          NaN\n",
              "617          NaN"
            ]
          },
          "metadata": {},
          "execution_count": 9
        }
      ]
    },
    {
      "cell_type": "code",
      "metadata": {
        "id": "PD_n5iftriAo"
      },
      "source": [
        "data = data.fillna(data.median())"
      ],
      "execution_count": 10,
      "outputs": []
    },
    {
      "cell_type": "code",
      "metadata": {
        "id": "EyTjVA87zipz",
        "colab": {
          "base_uri": "https://localhost:8080/",
          "height": 405
        },
        "outputId": "7121f26d-6f74-48cc-e8bb-ad5bbf73358e"
      },
      "source": [
        "data.describe().transpose()"
      ],
      "execution_count": 11,
      "outputs": [
        {
          "output_type": "execute_result",
          "data": {
            "text/html": [
              "<div>\n",
              "<style scoped>\n",
              "    .dataframe tbody tr th:only-of-type {\n",
              "        vertical-align: middle;\n",
              "    }\n",
              "\n",
              "    .dataframe tbody tr th {\n",
              "        vertical-align: top;\n",
              "    }\n",
              "\n",
              "    .dataframe thead th {\n",
              "        text-align: right;\n",
              "    }\n",
              "</style>\n",
              "<table border=\"1\" class=\"dataframe\">\n",
              "  <thead>\n",
              "    <tr style=\"text-align: right;\">\n",
              "      <th></th>\n",
              "      <th>count</th>\n",
              "      <th>mean</th>\n",
              "      <th>std</th>\n",
              "      <th>min</th>\n",
              "      <th>25%</th>\n",
              "      <th>50%</th>\n",
              "      <th>75%</th>\n",
              "      <th>max</th>\n",
              "    </tr>\n",
              "  </thead>\n",
              "  <tbody>\n",
              "    <tr>\n",
              "      <th>sample_code</th>\n",
              "      <td>699.0</td>\n",
              "      <td>1.071704e+06</td>\n",
              "      <td>617095.729819</td>\n",
              "      <td>61634.0</td>\n",
              "      <td>870688.5</td>\n",
              "      <td>1171710.0</td>\n",
              "      <td>1238298.0</td>\n",
              "      <td>13454352.0</td>\n",
              "    </tr>\n",
              "    <tr>\n",
              "      <th>clump_thickness</th>\n",
              "      <td>699.0</td>\n",
              "      <td>4.417740e+00</td>\n",
              "      <td>2.815741</td>\n",
              "      <td>1.0</td>\n",
              "      <td>2.0</td>\n",
              "      <td>4.0</td>\n",
              "      <td>6.0</td>\n",
              "      <td>10.0</td>\n",
              "    </tr>\n",
              "    <tr>\n",
              "      <th>cell_size_uniformity</th>\n",
              "      <td>699.0</td>\n",
              "      <td>3.134478e+00</td>\n",
              "      <td>3.051459</td>\n",
              "      <td>1.0</td>\n",
              "      <td>1.0</td>\n",
              "      <td>1.0</td>\n",
              "      <td>5.0</td>\n",
              "      <td>10.0</td>\n",
              "    </tr>\n",
              "    <tr>\n",
              "      <th>cell_shape_uniformity</th>\n",
              "      <td>699.0</td>\n",
              "      <td>3.207439e+00</td>\n",
              "      <td>2.971913</td>\n",
              "      <td>1.0</td>\n",
              "      <td>1.0</td>\n",
              "      <td>1.0</td>\n",
              "      <td>5.0</td>\n",
              "      <td>10.0</td>\n",
              "    </tr>\n",
              "    <tr>\n",
              "      <th>marginal_adhesion</th>\n",
              "      <td>699.0</td>\n",
              "      <td>2.806867e+00</td>\n",
              "      <td>2.855379</td>\n",
              "      <td>1.0</td>\n",
              "      <td>1.0</td>\n",
              "      <td>1.0</td>\n",
              "      <td>4.0</td>\n",
              "      <td>10.0</td>\n",
              "    </tr>\n",
              "    <tr>\n",
              "      <th>single_epithelial_cell_size</th>\n",
              "      <td>699.0</td>\n",
              "      <td>3.216023e+00</td>\n",
              "      <td>2.214300</td>\n",
              "      <td>1.0</td>\n",
              "      <td>2.0</td>\n",
              "      <td>2.0</td>\n",
              "      <td>4.0</td>\n",
              "      <td>10.0</td>\n",
              "    </tr>\n",
              "    <tr>\n",
              "      <th>bare_nuclei</th>\n",
              "      <td>699.0</td>\n",
              "      <td>3.486409e+00</td>\n",
              "      <td>3.621929</td>\n",
              "      <td>1.0</td>\n",
              "      <td>1.0</td>\n",
              "      <td>1.0</td>\n",
              "      <td>5.0</td>\n",
              "      <td>10.0</td>\n",
              "    </tr>\n",
              "    <tr>\n",
              "      <th>bland_chromatin</th>\n",
              "      <td>699.0</td>\n",
              "      <td>3.437768e+00</td>\n",
              "      <td>2.438364</td>\n",
              "      <td>1.0</td>\n",
              "      <td>2.0</td>\n",
              "      <td>3.0</td>\n",
              "      <td>5.0</td>\n",
              "      <td>10.0</td>\n",
              "    </tr>\n",
              "    <tr>\n",
              "      <th>normal_nucleoli</th>\n",
              "      <td>699.0</td>\n",
              "      <td>2.866953e+00</td>\n",
              "      <td>3.053634</td>\n",
              "      <td>1.0</td>\n",
              "      <td>1.0</td>\n",
              "      <td>1.0</td>\n",
              "      <td>4.0</td>\n",
              "      <td>10.0</td>\n",
              "    </tr>\n",
              "    <tr>\n",
              "      <th>mitoses</th>\n",
              "      <td>699.0</td>\n",
              "      <td>1.589413e+00</td>\n",
              "      <td>1.715078</td>\n",
              "      <td>1.0</td>\n",
              "      <td>1.0</td>\n",
              "      <td>1.0</td>\n",
              "      <td>1.0</td>\n",
              "      <td>10.0</td>\n",
              "    </tr>\n",
              "    <tr>\n",
              "      <th>class</th>\n",
              "      <td>699.0</td>\n",
              "      <td>2.689557e+00</td>\n",
              "      <td>0.951273</td>\n",
              "      <td>2.0</td>\n",
              "      <td>2.0</td>\n",
              "      <td>2.0</td>\n",
              "      <td>4.0</td>\n",
              "      <td>4.0</td>\n",
              "    </tr>\n",
              "  </tbody>\n",
              "</table>\n",
              "</div>"
            ],
            "text/plain": [
              "                             count          mean  ...        75%         max\n",
              "sample_code                  699.0  1.071704e+06  ...  1238298.0  13454352.0\n",
              "clump_thickness              699.0  4.417740e+00  ...        6.0        10.0\n",
              "cell_size_uniformity         699.0  3.134478e+00  ...        5.0        10.0\n",
              "cell_shape_uniformity        699.0  3.207439e+00  ...        5.0        10.0\n",
              "marginal_adhesion            699.0  2.806867e+00  ...        4.0        10.0\n",
              "single_epithelial_cell_size  699.0  3.216023e+00  ...        4.0        10.0\n",
              "bare_nuclei                  699.0  3.486409e+00  ...        5.0        10.0\n",
              "bland_chromatin              699.0  3.437768e+00  ...        5.0        10.0\n",
              "normal_nucleoli              699.0  2.866953e+00  ...        4.0        10.0\n",
              "mitoses                      699.0  1.589413e+00  ...        1.0        10.0\n",
              "class                        699.0  2.689557e+00  ...        4.0         4.0\n",
              "\n",
              "[11 rows x 8 columns]"
            ]
          },
          "metadata": {},
          "execution_count": 11
        }
      ]
    },
    {
      "cell_type": "code",
      "metadata": {
        "id": "K8gZzgJRzJhM"
      },
      "source": [
        "np.random.seed(1) ###???"
      ],
      "execution_count": 12,
      "outputs": []
    },
    {
      "cell_type": "code",
      "metadata": {
        "id": "npQL5i3X0iVH",
        "colab": {
          "base_uri": "https://localhost:8080/",
          "height": 160
        },
        "outputId": "9191afcd-ca18-4a6c-b4cd-f5f502a5bf9e"
      },
      "source": [
        "data.groupby(['class']).count()"
      ],
      "execution_count": 13,
      "outputs": [
        {
          "output_type": "execute_result",
          "data": {
            "text/html": [
              "<div>\n",
              "<style scoped>\n",
              "    .dataframe tbody tr th:only-of-type {\n",
              "        vertical-align: middle;\n",
              "    }\n",
              "\n",
              "    .dataframe tbody tr th {\n",
              "        vertical-align: top;\n",
              "    }\n",
              "\n",
              "    .dataframe thead th {\n",
              "        text-align: right;\n",
              "    }\n",
              "</style>\n",
              "<table border=\"1\" class=\"dataframe\">\n",
              "  <thead>\n",
              "    <tr style=\"text-align: right;\">\n",
              "      <th></th>\n",
              "      <th>sample_code</th>\n",
              "      <th>clump_thickness</th>\n",
              "      <th>cell_size_uniformity</th>\n",
              "      <th>cell_shape_uniformity</th>\n",
              "      <th>marginal_adhesion</th>\n",
              "      <th>single_epithelial_cell_size</th>\n",
              "      <th>bare_nuclei</th>\n",
              "      <th>bland_chromatin</th>\n",
              "      <th>normal_nucleoli</th>\n",
              "      <th>mitoses</th>\n",
              "    </tr>\n",
              "    <tr>\n",
              "      <th>class</th>\n",
              "      <th></th>\n",
              "      <th></th>\n",
              "      <th></th>\n",
              "      <th></th>\n",
              "      <th></th>\n",
              "      <th></th>\n",
              "      <th></th>\n",
              "      <th></th>\n",
              "      <th></th>\n",
              "      <th></th>\n",
              "    </tr>\n",
              "  </thead>\n",
              "  <tbody>\n",
              "    <tr>\n",
              "      <th>2</th>\n",
              "      <td>458</td>\n",
              "      <td>458</td>\n",
              "      <td>458</td>\n",
              "      <td>458</td>\n",
              "      <td>458</td>\n",
              "      <td>458</td>\n",
              "      <td>458</td>\n",
              "      <td>458</td>\n",
              "      <td>458</td>\n",
              "      <td>458</td>\n",
              "    </tr>\n",
              "    <tr>\n",
              "      <th>4</th>\n",
              "      <td>241</td>\n",
              "      <td>241</td>\n",
              "      <td>241</td>\n",
              "      <td>241</td>\n",
              "      <td>241</td>\n",
              "      <td>241</td>\n",
              "      <td>241</td>\n",
              "      <td>241</td>\n",
              "      <td>241</td>\n",
              "      <td>241</td>\n",
              "    </tr>\n",
              "  </tbody>\n",
              "</table>\n",
              "</div>"
            ],
            "text/plain": [
              "       sample_code  clump_thickness  ...  normal_nucleoli  mitoses\n",
              "class                                ...                          \n",
              "2              458              458  ...              458      458\n",
              "4              241              241  ...              241      241\n",
              "\n",
              "[2 rows x 10 columns]"
            ]
          },
          "metadata": {},
          "execution_count": 13
        }
      ]
    },
    {
      "cell_type": "code",
      "metadata": {
        "id": "OHwcvKof3x7E"
      },
      "source": [
        "data['label'] = (data['class']==4).astype(int) ### สร้าง Column ใหม่ขึ้นมาเป็น Label ให้มีค่าเป็น 0,1 ซึ่ง 1 คือ Malignant (ค่า 4 เดิม)"
      ],
      "execution_count": 14,
      "outputs": []
    },
    {
      "cell_type": "code",
      "metadata": {
        "id": "pvEbZo0e5NH6",
        "colab": {
          "base_uri": "https://localhost:8080/",
          "height": 160
        },
        "outputId": "bf7cf32a-735e-4512-e68e-19286f16beeb"
      },
      "source": [
        "data.groupby(['class','label']).count()"
      ],
      "execution_count": 15,
      "outputs": [
        {
          "output_type": "execute_result",
          "data": {
            "text/html": [
              "<div>\n",
              "<style scoped>\n",
              "    .dataframe tbody tr th:only-of-type {\n",
              "        vertical-align: middle;\n",
              "    }\n",
              "\n",
              "    .dataframe tbody tr th {\n",
              "        vertical-align: top;\n",
              "    }\n",
              "\n",
              "    .dataframe thead th {\n",
              "        text-align: right;\n",
              "    }\n",
              "</style>\n",
              "<table border=\"1\" class=\"dataframe\">\n",
              "  <thead>\n",
              "    <tr style=\"text-align: right;\">\n",
              "      <th></th>\n",
              "      <th></th>\n",
              "      <th>sample_code</th>\n",
              "      <th>clump_thickness</th>\n",
              "      <th>cell_size_uniformity</th>\n",
              "      <th>cell_shape_uniformity</th>\n",
              "      <th>marginal_adhesion</th>\n",
              "      <th>single_epithelial_cell_size</th>\n",
              "      <th>bare_nuclei</th>\n",
              "      <th>bland_chromatin</th>\n",
              "      <th>normal_nucleoli</th>\n",
              "      <th>mitoses</th>\n",
              "    </tr>\n",
              "    <tr>\n",
              "      <th>class</th>\n",
              "      <th>label</th>\n",
              "      <th></th>\n",
              "      <th></th>\n",
              "      <th></th>\n",
              "      <th></th>\n",
              "      <th></th>\n",
              "      <th></th>\n",
              "      <th></th>\n",
              "      <th></th>\n",
              "      <th></th>\n",
              "      <th></th>\n",
              "    </tr>\n",
              "  </thead>\n",
              "  <tbody>\n",
              "    <tr>\n",
              "      <th>2</th>\n",
              "      <th>0</th>\n",
              "      <td>458</td>\n",
              "      <td>458</td>\n",
              "      <td>458</td>\n",
              "      <td>458</td>\n",
              "      <td>458</td>\n",
              "      <td>458</td>\n",
              "      <td>458</td>\n",
              "      <td>458</td>\n",
              "      <td>458</td>\n",
              "      <td>458</td>\n",
              "    </tr>\n",
              "    <tr>\n",
              "      <th>4</th>\n",
              "      <th>1</th>\n",
              "      <td>241</td>\n",
              "      <td>241</td>\n",
              "      <td>241</td>\n",
              "      <td>241</td>\n",
              "      <td>241</td>\n",
              "      <td>241</td>\n",
              "      <td>241</td>\n",
              "      <td>241</td>\n",
              "      <td>241</td>\n",
              "      <td>241</td>\n",
              "    </tr>\n",
              "  </tbody>\n",
              "</table>\n",
              "</div>"
            ],
            "text/plain": [
              "             sample_code  clump_thickness  ...  normal_nucleoli  mitoses\n",
              "class label                                ...                          \n",
              "2     0              458              458  ...              458      458\n",
              "4     1              241              241  ...              241      241\n",
              "\n",
              "[2 rows x 10 columns]"
            ]
          },
          "metadata": {},
          "execution_count": 15
        }
      ]
    },
    {
      "cell_type": "code",
      "metadata": {
        "id": "7kQzo2jAzL8U"
      },
      "source": [
        "train = data.sample(frac=0.8).copy()"
      ],
      "execution_count": 16,
      "outputs": []
    },
    {
      "cell_type": "code",
      "metadata": {
        "id": "2fuv8CJGzOSZ"
      },
      "source": [
        "y_train = train['label']"
      ],
      "execution_count": 17,
      "outputs": []
    },
    {
      "cell_type": "code",
      "metadata": {
        "id": "x9D7Pbbn1g1Q",
        "colab": {
          "base_uri": "https://localhost:8080/"
        },
        "outputId": "b53abd85-0041-4f10-adf5-0455928715b6"
      },
      "source": [
        "y_train"
      ],
      "execution_count": 18,
      "outputs": [
        {
          "output_type": "execute_result",
          "data": {
            "text/plain": [
              "584    0\n",
              "417    0\n",
              "606    0\n",
              "349    1\n",
              "134    0\n",
              "      ..\n",
              "137    0\n",
              "536    0\n",
              "212    0\n",
              "673    0\n",
              "651    0\n",
              "Name: label, Length: 559, dtype: int64"
            ]
          },
          "metadata": {},
          "execution_count": 18
        }
      ]
    },
    {
      "cell_type": "code",
      "metadata": {
        "id": "sueXlgu-1iPk"
      },
      "source": [
        "train.drop(['sample_code', 'class','label'], axis=1, inplace=True)"
      ],
      "execution_count": 19,
      "outputs": []
    },
    {
      "cell_type": "code",
      "metadata": {
        "id": "lyv_T94j180B",
        "colab": {
          "base_uri": "https://localhost:8080/"
        },
        "outputId": "dd25d2fb-05fa-440f-b562-2ac6f5153b53"
      },
      "source": [
        "train.info()"
      ],
      "execution_count": 20,
      "outputs": [
        {
          "output_type": "stream",
          "name": "stdout",
          "text": [
            "<class 'pandas.core.frame.DataFrame'>\n",
            "Int64Index: 559 entries, 584 to 651\n",
            "Data columns (total 9 columns):\n",
            " #   Column                       Non-Null Count  Dtype  \n",
            "---  ------                       --------------  -----  \n",
            " 0   clump_thickness              559 non-null    int64  \n",
            " 1   cell_size_uniformity         559 non-null    int64  \n",
            " 2   cell_shape_uniformity        559 non-null    int64  \n",
            " 3   marginal_adhesion            559 non-null    int64  \n",
            " 4   single_epithelial_cell_size  559 non-null    int64  \n",
            " 5   bare_nuclei                  559 non-null    float64\n",
            " 6   bland_chromatin              559 non-null    int64  \n",
            " 7   normal_nucleoli              559 non-null    int64  \n",
            " 8   mitoses                      559 non-null    int64  \n",
            "dtypes: float64(1), int64(8)\n",
            "memory usage: 43.7 KB\n"
          ]
        }
      ]
    },
    {
      "cell_type": "code",
      "metadata": {
        "id": "Wn-_4ZKN192A",
        "colab": {
          "base_uri": "https://localhost:8080/"
        },
        "outputId": "c615365d-0b5b-49f1-b2f7-ab198d3b86ac"
      },
      "source": [
        "train.shape"
      ],
      "execution_count": 21,
      "outputs": [
        {
          "output_type": "execute_result",
          "data": {
            "text/plain": [
              "(559, 9)"
            ]
          },
          "metadata": {},
          "execution_count": 21
        }
      ]
    },
    {
      "cell_type": "code",
      "metadata": {
        "id": "ZAkMa_Ub9W1Q"
      },
      "source": [
        ""
      ],
      "execution_count": 21,
      "outputs": []
    },
    {
      "cell_type": "code",
      "metadata": {
        "id": "B8Ov5VOM2WcX"
      },
      "source": [
        "test = data.drop(train.index)\n",
        "y_test = test['label']\n",
        "test.drop(['sample_code', 'class','label'], axis=1, inplace=True)"
      ],
      "execution_count": 22,
      "outputs": []
    },
    {
      "cell_type": "code",
      "metadata": {
        "id": "-mlVnwob8jht",
        "colab": {
          "base_uri": "https://localhost:8080/"
        },
        "outputId": "1a1d65cd-9d4e-4bde-9ed1-ef80b5d5cbe3"
      },
      "source": [
        "test.info()"
      ],
      "execution_count": 23,
      "outputs": [
        {
          "output_type": "stream",
          "name": "stdout",
          "text": [
            "<class 'pandas.core.frame.DataFrame'>\n",
            "Int64Index: 140 entries, 7 to 691\n",
            "Data columns (total 9 columns):\n",
            " #   Column                       Non-Null Count  Dtype  \n",
            "---  ------                       --------------  -----  \n",
            " 0   clump_thickness              140 non-null    int64  \n",
            " 1   cell_size_uniformity         140 non-null    int64  \n",
            " 2   cell_shape_uniformity        140 non-null    int64  \n",
            " 3   marginal_adhesion            140 non-null    int64  \n",
            " 4   single_epithelial_cell_size  140 non-null    int64  \n",
            " 5   bare_nuclei                  140 non-null    float64\n",
            " 6   bland_chromatin              140 non-null    int64  \n",
            " 7   normal_nucleoli              140 non-null    int64  \n",
            " 8   mitoses                      140 non-null    int64  \n",
            "dtypes: float64(1), int64(8)\n",
            "memory usage: 10.9 KB\n"
          ]
        }
      ]
    },
    {
      "cell_type": "code",
      "metadata": {
        "id": "HNOxa0_s8pL4",
        "colab": {
          "base_uri": "https://localhost:8080/"
        },
        "outputId": "bb827495-b321-4056-de3a-2da5b208ef27"
      },
      "source": [
        "test.shape"
      ],
      "execution_count": 24,
      "outputs": [
        {
          "output_type": "execute_result",
          "data": {
            "text/plain": [
              "(140, 9)"
            ]
          },
          "metadata": {},
          "execution_count": 24
        }
      ]
    },
    {
      "cell_type": "code",
      "metadata": {
        "id": "YdKnnjbi-Vj6",
        "colab": {
          "base_uri": "https://localhost:8080/",
          "height": 343
        },
        "outputId": "f0918b02-a855-4d22-b4f9-86685de20baf"
      },
      "source": [
        "train.describe().transpose()"
      ],
      "execution_count": 25,
      "outputs": [
        {
          "output_type": "execute_result",
          "data": {
            "text/html": [
              "<div>\n",
              "<style scoped>\n",
              "    .dataframe tbody tr th:only-of-type {\n",
              "        vertical-align: middle;\n",
              "    }\n",
              "\n",
              "    .dataframe tbody tr th {\n",
              "        vertical-align: top;\n",
              "    }\n",
              "\n",
              "    .dataframe thead th {\n",
              "        text-align: right;\n",
              "    }\n",
              "</style>\n",
              "<table border=\"1\" class=\"dataframe\">\n",
              "  <thead>\n",
              "    <tr style=\"text-align: right;\">\n",
              "      <th></th>\n",
              "      <th>count</th>\n",
              "      <th>mean</th>\n",
              "      <th>std</th>\n",
              "      <th>min</th>\n",
              "      <th>25%</th>\n",
              "      <th>50%</th>\n",
              "      <th>75%</th>\n",
              "      <th>max</th>\n",
              "    </tr>\n",
              "  </thead>\n",
              "  <tbody>\n",
              "    <tr>\n",
              "      <th>clump_thickness</th>\n",
              "      <td>559.0</td>\n",
              "      <td>4.434705</td>\n",
              "      <td>2.850947</td>\n",
              "      <td>1.0</td>\n",
              "      <td>2.0</td>\n",
              "      <td>4.0</td>\n",
              "      <td>6.0</td>\n",
              "      <td>10.0</td>\n",
              "    </tr>\n",
              "    <tr>\n",
              "      <th>cell_size_uniformity</th>\n",
              "      <td>559.0</td>\n",
              "      <td>3.082290</td>\n",
              "      <td>3.029193</td>\n",
              "      <td>1.0</td>\n",
              "      <td>1.0</td>\n",
              "      <td>1.0</td>\n",
              "      <td>4.0</td>\n",
              "      <td>10.0</td>\n",
              "    </tr>\n",
              "    <tr>\n",
              "      <th>cell_shape_uniformity</th>\n",
              "      <td>559.0</td>\n",
              "      <td>3.223614</td>\n",
              "      <td>3.003895</td>\n",
              "      <td>1.0</td>\n",
              "      <td>1.0</td>\n",
              "      <td>1.0</td>\n",
              "      <td>5.0</td>\n",
              "      <td>10.0</td>\n",
              "    </tr>\n",
              "    <tr>\n",
              "      <th>marginal_adhesion</th>\n",
              "      <td>559.0</td>\n",
              "      <td>2.742397</td>\n",
              "      <td>2.818559</td>\n",
              "      <td>1.0</td>\n",
              "      <td>1.0</td>\n",
              "      <td>1.0</td>\n",
              "      <td>3.0</td>\n",
              "      <td>10.0</td>\n",
              "    </tr>\n",
              "    <tr>\n",
              "      <th>single_epithelial_cell_size</th>\n",
              "      <td>559.0</td>\n",
              "      <td>3.189624</td>\n",
              "      <td>2.190686</td>\n",
              "      <td>1.0</td>\n",
              "      <td>2.0</td>\n",
              "      <td>2.0</td>\n",
              "      <td>4.0</td>\n",
              "      <td>10.0</td>\n",
              "    </tr>\n",
              "    <tr>\n",
              "      <th>bare_nuclei</th>\n",
              "      <td>559.0</td>\n",
              "      <td>3.445438</td>\n",
              "      <td>3.603584</td>\n",
              "      <td>1.0</td>\n",
              "      <td>1.0</td>\n",
              "      <td>1.0</td>\n",
              "      <td>5.0</td>\n",
              "      <td>10.0</td>\n",
              "    </tr>\n",
              "    <tr>\n",
              "      <th>bland_chromatin</th>\n",
              "      <td>559.0</td>\n",
              "      <td>3.411449</td>\n",
              "      <td>2.446330</td>\n",
              "      <td>1.0</td>\n",
              "      <td>2.0</td>\n",
              "      <td>3.0</td>\n",
              "      <td>4.0</td>\n",
              "      <td>10.0</td>\n",
              "    </tr>\n",
              "    <tr>\n",
              "      <th>normal_nucleoli</th>\n",
              "      <td>559.0</td>\n",
              "      <td>2.844365</td>\n",
              "      <td>3.057824</td>\n",
              "      <td>1.0</td>\n",
              "      <td>1.0</td>\n",
              "      <td>1.0</td>\n",
              "      <td>3.5</td>\n",
              "      <td>10.0</td>\n",
              "    </tr>\n",
              "    <tr>\n",
              "      <th>mitoses</th>\n",
              "      <td>559.0</td>\n",
              "      <td>1.592129</td>\n",
              "      <td>1.742884</td>\n",
              "      <td>1.0</td>\n",
              "      <td>1.0</td>\n",
              "      <td>1.0</td>\n",
              "      <td>1.0</td>\n",
              "      <td>10.0</td>\n",
              "    </tr>\n",
              "  </tbody>\n",
              "</table>\n",
              "</div>"
            ],
            "text/plain": [
              "                             count      mean       std  ...  50%  75%   max\n",
              "clump_thickness              559.0  4.434705  2.850947  ...  4.0  6.0  10.0\n",
              "cell_size_uniformity         559.0  3.082290  3.029193  ...  1.0  4.0  10.0\n",
              "cell_shape_uniformity        559.0  3.223614  3.003895  ...  1.0  5.0  10.0\n",
              "marginal_adhesion            559.0  2.742397  2.818559  ...  1.0  3.0  10.0\n",
              "single_epithelial_cell_size  559.0  3.189624  2.190686  ...  2.0  4.0  10.0\n",
              "bare_nuclei                  559.0  3.445438  3.603584  ...  1.0  5.0  10.0\n",
              "bland_chromatin              559.0  3.411449  2.446330  ...  3.0  4.0  10.0\n",
              "normal_nucleoli              559.0  2.844365  3.057824  ...  1.0  3.5  10.0\n",
              "mitoses                      559.0  1.592129  1.742884  ...  1.0  1.0  10.0\n",
              "\n",
              "[9 rows x 8 columns]"
            ]
          },
          "metadata": {},
          "execution_count": 25
        }
      ]
    },
    {
      "cell_type": "code",
      "metadata": {
        "id": "uvAtMEel_2uP"
      },
      "source": [
        "def build_model():\n",
        "  model = keras.Sequential([\n",
        "    layers.Dense(9, activation='sigmoid',\n",
        "                 input_shape=(9,)),\n",
        "    layers.Dense(9, activation='sigmoid'),\n",
        "    layers.Dense(1, activation='sigmoid')\n",
        "   ])\n",
        "  \n",
        "  optimizer = keras.optimizers.Ftrl(learning_rate=0.007)\n",
        "  model.compile(loss='binary_crossentropy',\n",
        "              optimizer=optimizer,\n",
        "              metrics=['accuracy'])\n",
        "  return model"
      ],
      "execution_count": 26,
      "outputs": []
    },
    {
      "cell_type": "code",
      "metadata": {
        "id": "opGwSGHtAy5a",
        "colab": {
          "base_uri": "https://localhost:8080/"
        },
        "outputId": "d51e0130-37fb-4b4f-df82-b01f5a04c0cf"
      },
      "source": [
        "model = build_model()\n",
        "model.summary()"
      ],
      "execution_count": 27,
      "outputs": [
        {
          "output_type": "stream",
          "name": "stdout",
          "text": [
            "Model: \"sequential\"\n",
            "_________________________________________________________________\n",
            " Layer (type)                Output Shape              Param #   \n",
            "=================================================================\n",
            " dense (Dense)               (None, 9)                 90        \n",
            "                                                                 \n",
            " dense_1 (Dense)             (None, 9)                 90        \n",
            "                                                                 \n",
            " dense_2 (Dense)             (None, 1)                 10        \n",
            "                                                                 \n",
            "=================================================================\n",
            "Total params: 190\n",
            "Trainable params: 190\n",
            "Non-trainable params: 0\n",
            "_________________________________________________________________\n"
          ]
        }
      ]
    },
    {
      "cell_type": "code",
      "metadata": {
        "id": "lZ9PNY2vA2qh",
        "colab": {
          "base_uri": "https://localhost:8080/"
        },
        "outputId": "7e30024d-d18d-44a6-a90a-7e475aaeca9f"
      },
      "source": [
        "class PrintDot(keras.callbacks.Callback):\n",
        " def on_epoch_end(self, epoch, logs):\n",
        "  if epoch % 100 == 0: print('')\n",
        "  print('.', end='')\n",
        "\n",
        "\n",
        "history = model.fit(train, y_train, \n",
        "          batch_size=1, \n",
        "          epochs=100, verbose=1, \n",
        "          validation_split=0.1)\n"
      ],
      "execution_count": 28,
      "outputs": [
        {
          "output_type": "stream",
          "name": "stdout",
          "text": [
            "Epoch 1/100\n",
            "503/503 [==============================] - 2s 2ms/step - loss: 0.6760 - accuracy: 0.6103 - val_loss: 0.6464 - val_accuracy: 0.6964\n",
            "Epoch 2/100\n",
            "503/503 [==============================] - 1s 2ms/step - loss: 0.6507 - accuracy: 0.6561 - val_loss: 0.6282 - val_accuracy: 0.6964\n",
            "Epoch 3/100\n",
            "503/503 [==============================] - 1s 2ms/step - loss: 0.6397 - accuracy: 0.6561 - val_loss: 0.6166 - val_accuracy: 0.6964\n",
            "Epoch 4/100\n",
            "503/503 [==============================] - 1s 2ms/step - loss: 0.6317 - accuracy: 0.6561 - val_loss: 0.6078 - val_accuracy: 0.6964\n",
            "Epoch 5/100\n",
            "503/503 [==============================] - 1s 2ms/step - loss: 0.6251 - accuracy: 0.6561 - val_loss: 0.6001 - val_accuracy: 0.6964\n",
            "Epoch 6/100\n",
            "503/503 [==============================] - 1s 2ms/step - loss: 0.6189 - accuracy: 0.6561 - val_loss: 0.5931 - val_accuracy: 0.6964\n",
            "Epoch 7/100\n",
            "503/503 [==============================] - 1s 2ms/step - loss: 0.6128 - accuracy: 0.6561 - val_loss: 0.5862 - val_accuracy: 0.6964\n",
            "Epoch 8/100\n",
            "503/503 [==============================] - 1s 2ms/step - loss: 0.6068 - accuracy: 0.6561 - val_loss: 0.5795 - val_accuracy: 0.6964\n",
            "Epoch 9/100\n",
            "503/503 [==============================] - 1s 2ms/step - loss: 0.6007 - accuracy: 0.6561 - val_loss: 0.5729 - val_accuracy: 0.6964\n",
            "Epoch 10/100\n",
            "503/503 [==============================] - 1s 2ms/step - loss: 0.5946 - accuracy: 0.6561 - val_loss: 0.5663 - val_accuracy: 0.6964\n",
            "Epoch 11/100\n",
            "503/503 [==============================] - 1s 2ms/step - loss: 0.5884 - accuracy: 0.6561 - val_loss: 0.5598 - val_accuracy: 0.6964\n",
            "Epoch 12/100\n",
            "503/503 [==============================] - 1s 2ms/step - loss: 0.5822 - accuracy: 0.6561 - val_loss: 0.5533 - val_accuracy: 0.6964\n",
            "Epoch 13/100\n",
            "503/503 [==============================] - 1s 2ms/step - loss: 0.5759 - accuracy: 0.6561 - val_loss: 0.5469 - val_accuracy: 0.6964\n",
            "Epoch 14/100\n",
            "503/503 [==============================] - 1s 2ms/step - loss: 0.5696 - accuracy: 0.6561 - val_loss: 0.5405 - val_accuracy: 0.6964\n",
            "Epoch 15/100\n",
            "503/503 [==============================] - 1s 2ms/step - loss: 0.5633 - accuracy: 0.6561 - val_loss: 0.5342 - val_accuracy: 0.6964\n",
            "Epoch 16/100\n",
            "503/503 [==============================] - 1s 2ms/step - loss: 0.5570 - accuracy: 0.6561 - val_loss: 0.5278 - val_accuracy: 0.6964\n",
            "Epoch 17/100\n",
            "503/503 [==============================] - 1s 2ms/step - loss: 0.5506 - accuracy: 0.6561 - val_loss: 0.5215 - val_accuracy: 0.6964\n",
            "Epoch 18/100\n",
            "503/503 [==============================] - 1s 2ms/step - loss: 0.5442 - accuracy: 0.6561 - val_loss: 0.5152 - val_accuracy: 0.6964\n",
            "Epoch 19/100\n",
            "503/503 [==============================] - 1s 2ms/step - loss: 0.5378 - accuracy: 0.6561 - val_loss: 0.5088 - val_accuracy: 0.6964\n",
            "Epoch 20/100\n",
            "503/503 [==============================] - 1s 2ms/step - loss: 0.5313 - accuracy: 0.6561 - val_loss: 0.5025 - val_accuracy: 0.6964\n",
            "Epoch 21/100\n",
            "503/503 [==============================] - 1s 2ms/step - loss: 0.5248 - accuracy: 0.6561 - val_loss: 0.4961 - val_accuracy: 0.6964\n",
            "Epoch 22/100\n",
            "503/503 [==============================] - 1s 2ms/step - loss: 0.5184 - accuracy: 0.6561 - val_loss: 0.4898 - val_accuracy: 0.6964\n",
            "Epoch 23/100\n",
            "503/503 [==============================] - 1s 2ms/step - loss: 0.5118 - accuracy: 0.6561 - val_loss: 0.4834 - val_accuracy: 0.6964\n",
            "Epoch 24/100\n",
            "503/503 [==============================] - 1s 2ms/step - loss: 0.5053 - accuracy: 0.6561 - val_loss: 0.4771 - val_accuracy: 0.6964\n",
            "Epoch 25/100\n",
            "503/503 [==============================] - 1s 2ms/step - loss: 0.4987 - accuracy: 0.6561 - val_loss: 0.4708 - val_accuracy: 0.6964\n",
            "Epoch 26/100\n",
            "503/503 [==============================] - 1s 2ms/step - loss: 0.4922 - accuracy: 0.6561 - val_loss: 0.4645 - val_accuracy: 0.6964\n",
            "Epoch 27/100\n",
            "503/503 [==============================] - 1s 2ms/step - loss: 0.4857 - accuracy: 0.6561 - val_loss: 0.4582 - val_accuracy: 0.6964\n",
            "Epoch 28/100\n",
            "503/503 [==============================] - 1s 2ms/step - loss: 0.4792 - accuracy: 0.6561 - val_loss: 0.4519 - val_accuracy: 0.6964\n",
            "Epoch 29/100\n",
            "503/503 [==============================] - 1s 2ms/step - loss: 0.4727 - accuracy: 0.6561 - val_loss: 0.4458 - val_accuracy: 0.6964\n",
            "Epoch 30/100\n",
            "503/503 [==============================] - 1s 2ms/step - loss: 0.4662 - accuracy: 0.6561 - val_loss: 0.4396 - val_accuracy: 0.6964\n",
            "Epoch 31/100\n",
            "503/503 [==============================] - 1s 2ms/step - loss: 0.4598 - accuracy: 0.6561 - val_loss: 0.4335 - val_accuracy: 0.6964\n",
            "Epoch 32/100\n",
            "503/503 [==============================] - 1s 2ms/step - loss: 0.4535 - accuracy: 0.6561 - val_loss: 0.4274 - val_accuracy: 0.6964\n",
            "Epoch 33/100\n",
            "503/503 [==============================] - 1s 2ms/step - loss: 0.4472 - accuracy: 0.6561 - val_loss: 0.4214 - val_accuracy: 0.6964\n",
            "Epoch 34/100\n",
            "503/503 [==============================] - 1s 2ms/step - loss: 0.4410 - accuracy: 0.6561 - val_loss: 0.4155 - val_accuracy: 0.6964\n",
            "Epoch 35/100\n",
            "503/503 [==============================] - 1s 2ms/step - loss: 0.4348 - accuracy: 0.6561 - val_loss: 0.4096 - val_accuracy: 0.6964\n",
            "Epoch 36/100\n",
            "503/503 [==============================] - 1s 2ms/step - loss: 0.4287 - accuracy: 0.6561 - val_loss: 0.4039 - val_accuracy: 0.6964\n",
            "Epoch 37/100\n",
            "503/503 [==============================] - 1s 2ms/step - loss: 0.4226 - accuracy: 0.6660 - val_loss: 0.3981 - val_accuracy: 0.7321\n",
            "Epoch 38/100\n",
            "503/503 [==============================] - 1s 2ms/step - loss: 0.4167 - accuracy: 0.7773 - val_loss: 0.3925 - val_accuracy: 0.7857\n",
            "Epoch 39/100\n",
            "503/503 [==============================] - 1s 2ms/step - loss: 0.4108 - accuracy: 0.8370 - val_loss: 0.3869 - val_accuracy: 0.8214\n",
            "Epoch 40/100\n",
            "503/503 [==============================] - 1s 2ms/step - loss: 0.4051 - accuracy: 0.8728 - val_loss: 0.3815 - val_accuracy: 0.8750\n",
            "Epoch 41/100\n",
            "503/503 [==============================] - 1s 2ms/step - loss: 0.3994 - accuracy: 0.8926 - val_loss: 0.3761 - val_accuracy: 0.9286\n",
            "Epoch 42/100\n",
            "503/503 [==============================] - 1s 2ms/step - loss: 0.3938 - accuracy: 0.9165 - val_loss: 0.3708 - val_accuracy: 0.9286\n",
            "Epoch 43/100\n",
            "503/503 [==============================] - 1s 2ms/step - loss: 0.3883 - accuracy: 0.9264 - val_loss: 0.3656 - val_accuracy: 0.9286\n",
            "Epoch 44/100\n",
            "503/503 [==============================] - 1s 2ms/step - loss: 0.3828 - accuracy: 0.9324 - val_loss: 0.3605 - val_accuracy: 0.9286\n",
            "Epoch 45/100\n",
            "503/503 [==============================] - 1s 2ms/step - loss: 0.3775 - accuracy: 0.9423 - val_loss: 0.3555 - val_accuracy: 0.9286\n",
            "Epoch 46/100\n",
            "503/503 [==============================] - 1s 2ms/step - loss: 0.3723 - accuracy: 0.9463 - val_loss: 0.3505 - val_accuracy: 0.9286\n",
            "Epoch 47/100\n",
            "503/503 [==============================] - 1s 2ms/step - loss: 0.3672 - accuracy: 0.9503 - val_loss: 0.3457 - val_accuracy: 0.9107\n",
            "Epoch 48/100\n",
            "503/503 [==============================] - 1s 2ms/step - loss: 0.3622 - accuracy: 0.9483 - val_loss: 0.3410 - val_accuracy: 0.9286\n",
            "Epoch 49/100\n",
            "503/503 [==============================] - 1s 2ms/step - loss: 0.3572 - accuracy: 0.9483 - val_loss: 0.3363 - val_accuracy: 0.9286\n",
            "Epoch 50/100\n",
            "503/503 [==============================] - 1s 2ms/step - loss: 0.3524 - accuracy: 0.9543 - val_loss: 0.3317 - val_accuracy: 0.9286\n",
            "Epoch 51/100\n",
            "503/503 [==============================] - 1s 2ms/step - loss: 0.3477 - accuracy: 0.9523 - val_loss: 0.3273 - val_accuracy: 0.9464\n",
            "Epoch 52/100\n",
            "503/503 [==============================] - 1s 2ms/step - loss: 0.3430 - accuracy: 0.9563 - val_loss: 0.3229 - val_accuracy: 0.9464\n",
            "Epoch 53/100\n",
            "503/503 [==============================] - 1s 2ms/step - loss: 0.3385 - accuracy: 0.9543 - val_loss: 0.3187 - val_accuracy: 0.9464\n",
            "Epoch 54/100\n",
            "503/503 [==============================] - 1s 2ms/step - loss: 0.3340 - accuracy: 0.9563 - val_loss: 0.3145 - val_accuracy: 0.9464\n",
            "Epoch 55/100\n",
            "503/503 [==============================] - 1s 2ms/step - loss: 0.3297 - accuracy: 0.9563 - val_loss: 0.3104 - val_accuracy: 0.9464\n",
            "Epoch 56/100\n",
            "503/503 [==============================] - 1s 2ms/step - loss: 0.3254 - accuracy: 0.9583 - val_loss: 0.3064 - val_accuracy: 0.9464\n",
            "Epoch 57/100\n",
            "503/503 [==============================] - 1s 2ms/step - loss: 0.3213 - accuracy: 0.9583 - val_loss: 0.3025 - val_accuracy: 0.9464\n",
            "Epoch 58/100\n",
            "503/503 [==============================] - 1s 2ms/step - loss: 0.3172 - accuracy: 0.9602 - val_loss: 0.2986 - val_accuracy: 0.9464\n",
            "Epoch 59/100\n",
            "503/503 [==============================] - 1s 2ms/step - loss: 0.3132 - accuracy: 0.9602 - val_loss: 0.2948 - val_accuracy: 0.9464\n",
            "Epoch 60/100\n",
            "503/503 [==============================] - 1s 2ms/step - loss: 0.3093 - accuracy: 0.9622 - val_loss: 0.2912 - val_accuracy: 0.9464\n",
            "Epoch 61/100\n",
            "503/503 [==============================] - 1s 2ms/step - loss: 0.3055 - accuracy: 0.9622 - val_loss: 0.2876 - val_accuracy: 0.9464\n",
            "Epoch 62/100\n",
            "503/503 [==============================] - 1s 2ms/step - loss: 0.3018 - accuracy: 0.9642 - val_loss: 0.2841 - val_accuracy: 0.9464\n",
            "Epoch 63/100\n",
            "503/503 [==============================] - 1s 2ms/step - loss: 0.2981 - accuracy: 0.9642 - val_loss: 0.2807 - val_accuracy: 0.9464\n",
            "Epoch 64/100\n",
            "503/503 [==============================] - 1s 2ms/step - loss: 0.2945 - accuracy: 0.9642 - val_loss: 0.2773 - val_accuracy: 0.9464\n",
            "Epoch 65/100\n",
            "503/503 [==============================] - 1s 2ms/step - loss: 0.2911 - accuracy: 0.9642 - val_loss: 0.2741 - val_accuracy: 0.9464\n",
            "Epoch 66/100\n",
            "503/503 [==============================] - 1s 2ms/step - loss: 0.2877 - accuracy: 0.9642 - val_loss: 0.2708 - val_accuracy: 0.9464\n",
            "Epoch 67/100\n",
            "503/503 [==============================] - 1s 2ms/step - loss: 0.2843 - accuracy: 0.9642 - val_loss: 0.2677 - val_accuracy: 0.9464\n",
            "Epoch 68/100\n",
            "503/503 [==============================] - 1s 2ms/step - loss: 0.2811 - accuracy: 0.9642 - val_loss: 0.2647 - val_accuracy: 0.9464\n",
            "Epoch 69/100\n",
            "503/503 [==============================] - 1s 2ms/step - loss: 0.2779 - accuracy: 0.9622 - val_loss: 0.2618 - val_accuracy: 0.9464\n",
            "Epoch 70/100\n",
            "503/503 [==============================] - 1s 2ms/step - loss: 0.2748 - accuracy: 0.9622 - val_loss: 0.2589 - val_accuracy: 0.9464\n",
            "Epoch 71/100\n",
            "503/503 [==============================] - 1s 2ms/step - loss: 0.2718 - accuracy: 0.9622 - val_loss: 0.2560 - val_accuracy: 0.9464\n",
            "Epoch 72/100\n",
            "503/503 [==============================] - 1s 2ms/step - loss: 0.2688 - accuracy: 0.9622 - val_loss: 0.2532 - val_accuracy: 0.9464\n",
            "Epoch 73/100\n",
            "503/503 [==============================] - 1s 2ms/step - loss: 0.2659 - accuracy: 0.9622 - val_loss: 0.2505 - val_accuracy: 0.9464\n",
            "Epoch 74/100\n",
            "503/503 [==============================] - 1s 2ms/step - loss: 0.2631 - accuracy: 0.9622 - val_loss: 0.2478 - val_accuracy: 0.9464\n",
            "Epoch 75/100\n",
            "503/503 [==============================] - 1s 2ms/step - loss: 0.2603 - accuracy: 0.9622 - val_loss: 0.2452 - val_accuracy: 0.9464\n",
            "Epoch 76/100\n",
            "503/503 [==============================] - 1s 2ms/step - loss: 0.2576 - accuracy: 0.9622 - val_loss: 0.2427 - val_accuracy: 0.9464\n",
            "Epoch 77/100\n",
            "503/503 [==============================] - 1s 2ms/step - loss: 0.2549 - accuracy: 0.9622 - val_loss: 0.2402 - val_accuracy: 0.9464\n",
            "Epoch 78/100\n",
            "503/503 [==============================] - 1s 2ms/step - loss: 0.2523 - accuracy: 0.9622 - val_loss: 0.2378 - val_accuracy: 0.9464\n",
            "Epoch 79/100\n",
            "503/503 [==============================] - 1s 2ms/step - loss: 0.2498 - accuracy: 0.9602 - val_loss: 0.2354 - val_accuracy: 0.9464\n",
            "Epoch 80/100\n",
            "503/503 [==============================] - 1s 2ms/step - loss: 0.2473 - accuracy: 0.9622 - val_loss: 0.2331 - val_accuracy: 0.9643\n",
            "Epoch 81/100\n",
            "503/503 [==============================] - 1s 2ms/step - loss: 0.2449 - accuracy: 0.9602 - val_loss: 0.2309 - val_accuracy: 0.9643\n",
            "Epoch 82/100\n",
            "503/503 [==============================] - 1s 2ms/step - loss: 0.2425 - accuracy: 0.9602 - val_loss: 0.2287 - val_accuracy: 0.9643\n",
            "Epoch 83/100\n",
            "503/503 [==============================] - 1s 2ms/step - loss: 0.2402 - accuracy: 0.9622 - val_loss: 0.2265 - val_accuracy: 0.9643\n",
            "Epoch 84/100\n",
            "503/503 [==============================] - 1s 2ms/step - loss: 0.2379 - accuracy: 0.9602 - val_loss: 0.2243 - val_accuracy: 0.9643\n",
            "Epoch 85/100\n",
            "503/503 [==============================] - 1s 2ms/step - loss: 0.2357 - accuracy: 0.9602 - val_loss: 0.2223 - val_accuracy: 0.9643\n",
            "Epoch 86/100\n",
            "503/503 [==============================] - 1s 2ms/step - loss: 0.2335 - accuracy: 0.9602 - val_loss: 0.2203 - val_accuracy: 0.9643\n",
            "Epoch 87/100\n",
            "503/503 [==============================] - 1s 2ms/step - loss: 0.2314 - accuracy: 0.9602 - val_loss: 0.2183 - val_accuracy: 0.9643\n",
            "Epoch 88/100\n",
            "503/503 [==============================] - 1s 2ms/step - loss: 0.2293 - accuracy: 0.9622 - val_loss: 0.2164 - val_accuracy: 0.9643\n",
            "Epoch 89/100\n",
            "503/503 [==============================] - 1s 2ms/step - loss: 0.2272 - accuracy: 0.9662 - val_loss: 0.2145 - val_accuracy: 0.9643\n",
            "Epoch 90/100\n",
            "503/503 [==============================] - 1s 2ms/step - loss: 0.2253 - accuracy: 0.9662 - val_loss: 0.2127 - val_accuracy: 0.9643\n",
            "Epoch 91/100\n",
            "503/503 [==============================] - 1s 2ms/step - loss: 0.2233 - accuracy: 0.9662 - val_loss: 0.2109 - val_accuracy: 0.9643\n",
            "Epoch 92/100\n",
            "503/503 [==============================] - 1s 2ms/step - loss: 0.2214 - accuracy: 0.9642 - val_loss: 0.2091 - val_accuracy: 0.9643\n",
            "Epoch 93/100\n",
            "503/503 [==============================] - 1s 2ms/step - loss: 0.2195 - accuracy: 0.9662 - val_loss: 0.2074 - val_accuracy: 0.9643\n",
            "Epoch 94/100\n",
            "503/503 [==============================] - 1s 2ms/step - loss: 0.2177 - accuracy: 0.9662 - val_loss: 0.2057 - val_accuracy: 0.9643\n",
            "Epoch 95/100\n",
            "503/503 [==============================] - 1s 2ms/step - loss: 0.2159 - accuracy: 0.9662 - val_loss: 0.2040 - val_accuracy: 0.9643\n",
            "Epoch 96/100\n",
            "503/503 [==============================] - 1s 2ms/step - loss: 0.2141 - accuracy: 0.9662 - val_loss: 0.2024 - val_accuracy: 0.9643\n",
            "Epoch 97/100\n",
            "503/503 [==============================] - 1s 2ms/step - loss: 0.2124 - accuracy: 0.9662 - val_loss: 0.2008 - val_accuracy: 0.9643\n",
            "Epoch 98/100\n",
            "503/503 [==============================] - 1s 2ms/step - loss: 0.2107 - accuracy: 0.9662 - val_loss: 0.1993 - val_accuracy: 0.9643\n",
            "Epoch 99/100\n",
            "503/503 [==============================] - 1s 2ms/step - loss: 0.2090 - accuracy: 0.9642 - val_loss: 0.1978 - val_accuracy: 0.9643\n",
            "Epoch 100/100\n",
            "503/503 [==============================] - 1s 2ms/step - loss: 0.2074 - accuracy: 0.9662 - val_loss: 0.1963 - val_accuracy: 0.9643\n"
          ]
        }
      ]
    },
    {
      "cell_type": "code",
      "metadata": {
        "id": "F27wXNLsD5lW",
        "colab": {
          "base_uri": "https://localhost:8080/",
          "height": 221
        },
        "outputId": "be3d80f2-3032-4e37-8d16-0a0e1e7b6810"
      },
      "source": [
        "hist = pd.DataFrame(history.history)\n",
        "hist['epoch'] = history.epoch\n",
        "hist.tail()\n"
      ],
      "execution_count": 29,
      "outputs": [
        {
          "output_type": "execute_result",
          "data": {
            "text/html": [
              "<div>\n",
              "<style scoped>\n",
              "    .dataframe tbody tr th:only-of-type {\n",
              "        vertical-align: middle;\n",
              "    }\n",
              "\n",
              "    .dataframe tbody tr th {\n",
              "        vertical-align: top;\n",
              "    }\n",
              "\n",
              "    .dataframe thead th {\n",
              "        text-align: right;\n",
              "    }\n",
              "</style>\n",
              "<table border=\"1\" class=\"dataframe\">\n",
              "  <thead>\n",
              "    <tr style=\"text-align: right;\">\n",
              "      <th></th>\n",
              "      <th>loss</th>\n",
              "      <th>accuracy</th>\n",
              "      <th>val_loss</th>\n",
              "      <th>val_accuracy</th>\n",
              "      <th>epoch</th>\n",
              "    </tr>\n",
              "  </thead>\n",
              "  <tbody>\n",
              "    <tr>\n",
              "      <th>95</th>\n",
              "      <td>0.214103</td>\n",
              "      <td>0.966203</td>\n",
              "      <td>0.202397</td>\n",
              "      <td>0.964286</td>\n",
              "      <td>95</td>\n",
              "    </tr>\n",
              "    <tr>\n",
              "      <th>96</th>\n",
              "      <td>0.212375</td>\n",
              "      <td>0.966203</td>\n",
              "      <td>0.200812</td>\n",
              "      <td>0.964286</td>\n",
              "      <td>96</td>\n",
              "    </tr>\n",
              "    <tr>\n",
              "      <th>97</th>\n",
              "      <td>0.210678</td>\n",
              "      <td>0.966203</td>\n",
              "      <td>0.199276</td>\n",
              "      <td>0.964286</td>\n",
              "      <td>97</td>\n",
              "    </tr>\n",
              "    <tr>\n",
              "      <th>98</th>\n",
              "      <td>0.209015</td>\n",
              "      <td>0.964215</td>\n",
              "      <td>0.197777</td>\n",
              "      <td>0.964286</td>\n",
              "      <td>98</td>\n",
              "    </tr>\n",
              "    <tr>\n",
              "      <th>99</th>\n",
              "      <td>0.207389</td>\n",
              "      <td>0.966203</td>\n",
              "      <td>0.196276</td>\n",
              "      <td>0.964286</td>\n",
              "      <td>99</td>\n",
              "    </tr>\n",
              "  </tbody>\n",
              "</table>\n",
              "</div>"
            ],
            "text/plain": [
              "        loss  accuracy  val_loss  val_accuracy  epoch\n",
              "95  0.214103  0.966203  0.202397      0.964286     95\n",
              "96  0.212375  0.966203  0.200812      0.964286     96\n",
              "97  0.210678  0.966203  0.199276      0.964286     97\n",
              "98  0.209015  0.964215  0.197777      0.964286     98\n",
              "99  0.207389  0.966203  0.196276      0.964286     99"
            ]
          },
          "metadata": {},
          "execution_count": 29
        }
      ]
    },
    {
      "cell_type": "code",
      "metadata": {
        "id": "r32zVkDAET_x",
        "colab": {
          "base_uri": "https://localhost:8080/",
          "height": 300
        },
        "outputId": "9a5f2d16-a8bf-4b93-9d24-1eeac80e898f"
      },
      "source": [
        "def plot_history(history):\n",
        "  hist = pd.DataFrame(history.history)\n",
        "  hist['epoch'] = history.epoch\n",
        "\n",
        "  plt.figure()\n",
        "  plt.xlabel('Epoch')\n",
        "  plt.ylabel('Accuracy')\n",
        "  plt.plot(hist['epoch'], hist['accuracy'],\n",
        "           label='Train Accuracy')\n",
        "  plt.plot(hist['epoch'], hist['val_accuracy'],\n",
        "           label = 'Val Accuracy')\n",
        "  plt.legend()\n",
        "  plt.show()\n",
        "\n",
        "plot_history(history)\n"
      ],
      "execution_count": 30,
      "outputs": [
        {
          "output_type": "display_data",
          "data": {
            "image/png": "[encoded data removed]",
            "text/plain": [
              "<Figure size 432x288 with 1 Axes>"
            ]
          },
          "metadata": {
            "needs_background": "light"
          }
        }
      ]
    },
    {
      "cell_type": "code",
      "metadata": {
        "id": "T1ZzB6TutAAh"
      },
      "source": [
        ""
      ],
      "execution_count": 30,
      "outputs": []
    }
  ]
}