{
  "nbformat": 4,
  "nbformat_minor": 0,
  "metadata": {
    "colab": {
      "name": "Rev1_1_LAB_6_Tensorflow-2.ipynb",
      "provenance": [],
      "collapsed_sections": []
    },
    "kernelspec": {
      "name": "python3",
      "display_name": "Python 3"
    },
    "language_info": {
      "name": "python"
    }
  },
  "cells": [
    {
      "cell_type": "code",
      "metadata": {
        "id": "D8qPF7NyqwgW",
        "colab": {
          "base_uri": "https://localhost:8080/"
        },
        "outputId": "53bb94ce-ae0a-49b8-fb40-df5aa92c8737"
      },
      "source": [
        "!pip install seaborn\n",
        "\n",
        "from __future__ import absolute_import, division, print_function, unicode_literals\n",
        "\n",
        "import pathlib\n",
        "\n",
        "import matplotlib.pyplot as plt\n",
        "import numpy as np\n",
        "import pandas as pd\n",
        "import seaborn as sns\n"
      ],
      "execution_count": 1,
      "outputs": [
        {
          "output_type": "stream",
          "name": "stdout",
          "text": [
            "Requirement already satisfied: seaborn in /usr/local/lib/python3.7/dist-packages (0.11.2)\n",
            "Requirement already satisfied: scipy>=1.0 in /usr/local/lib/python3.7/dist-packages (from seaborn) (1.4.1)\n",
            "Requirement already satisfied: numpy>=1.15 in /usr/local/lib/python3.7/dist-packages (from seaborn) (1.19.5)\n",
            "Requirement already satisfied: matplotlib>=2.2 in /usr/local/lib/python3.7/dist-packages (from seaborn) (3.2.2)\n",
            "Requirement already satisfied: pandas>=0.23 in /usr/local/lib/python3.7/dist-packages (from seaborn) (1.1.5)\n",
            "Requirement already satisfied: python-dateutil>=2.1 in /usr/local/lib/python3.7/dist-packages (from matplotlib>=2.2->seaborn) (2.8.2)\n",
            "Requirement already satisfied: kiwisolver>=1.0.1 in /usr/local/lib/python3.7/dist-packages (from matplotlib>=2.2->seaborn) (1.3.2)\n",
            "Requirement already satisfied: pyparsing!=2.0.4,!=2.1.2,!=2.1.6,>=2.0.1 in /usr/local/lib/python3.7/dist-packages (from matplotlib>=2.2->seaborn) (3.0.6)\n",
            "Requirement already satisfied: cycler>=0.10 in /usr/local/lib/python3.7/dist-packages (from matplotlib>=2.2->seaborn) (0.11.0)\n",
            "Requirement already satisfied: pytz>=2017.2 in /usr/local/lib/python3.7/dist-packages (from pandas>=0.23->seaborn) (2018.9)\n",
            "Requirement already satisfied: six>=1.5 in /usr/local/lib/python3.7/dist-packages (from python-dateutil>=2.1->matplotlib>=2.2->seaborn) (1.15.0)\n"
          ]
        }
      ]
    },
    {
      "cell_type": "code",
      "metadata": {
        "colab": {
          "base_uri": "https://localhost:8080/"
        },
        "id": "rqY55Q39B4F2",
        "outputId": "6581cdc9-ef50-46af-88e9-f276013e58d4"
      },
      "source": [
        "import tensorflow as tf\n",
        "\n",
        "from tensorflow import keras\n",
        "from tensorflow.keras import layers\n",
        "\n",
        "print(tf.__version__)"
      ],
      "execution_count": 2,
      "outputs": [
        {
          "output_type": "stream",
          "name": "stdout",
          "text": [
            "2.7.0\n"
          ]
        }
      ]
    },
    {
      "cell_type": "code",
      "metadata": {
        "id": "nuQmipHkDZvO"
      },
      "source": [
        "breast_cancer = 'https://archive.ics.uci.edu/ml/machine-learning-databases/breast-cancer-wisconsin/breast-cancer-wisconsin.data'"
      ],
      "execution_count": 4,
      "outputs": []
    },
    {
      "cell_type": "code",
      "metadata": {
        "id": "VJv8aSiKqyLr",
        "colab": {
          "base_uri": "https://localhost:8080/"
        },
        "outputId": "cd140f8e-1c8f-4776-8375-8336ce1a8982"
      },
      "source": [
        "path = keras.utils.get_file(\"breast-cancer-wisconsin.data\",breast_cancer)\n"
      ],
      "execution_count": 5,
      "outputs": [
        {
          "output_type": "stream",
          "name": "stdout",
          "text": [
            "Downloading data from https://archive.ics.uci.edu/ml/machine-learning-databases/breast-cancer-wisconsin/breast-cancer-wisconsin.data\n",
            "24576/19889 [=====================================] - 0s 0us/step\n",
            "32768/19889 [=================================================] - 0s 0us/step\n"
          ]
        }
      ]
    },
    {
      "cell_type": "code",
      "metadata": {
        "id": "kfMJmg9kq1Tq"
      },
      "source": [
        "columns = ['sample_code', 'clump_thickness', 'cell_size_uniformity',\n",
        "           'cell_shape_uniformity',\n",
        "           'marginal_adhesion', 'single_epithelial_cell_size',\n",
        "           'bare_nuclei', 'bland_chromatin',\n",
        "           'normal_nucleoli', 'mitoses', 'class']\n",
        "data = pd.read_csv(path, header=None, names=columns, na_values=[np.nan, '?'])### เนื่องจาก Meaning ของข้อมูลเป็น numerical type จึงใช้ na_value ตรวจหาและแทนทีค่าใน list ด้วย NULL เพื่อให้ dataframe เป็น numerical type ทังหมด\n"
      ],
      "execution_count": 6,
      "outputs": []
    },
    {
      "cell_type": "code",
      "metadata": {
        "id": "G1XUq4TJsSyL",
        "colab": {
          "base_uri": "https://localhost:8080/"
        },
        "outputId": "90ed6cd3-91b6-4f8b-aff7-a76013a70871"
      },
      "source": [
        "data.info()"
      ],
      "execution_count": 7,
      "outputs": [
        {
          "output_type": "stream",
          "name": "stdout",
          "text": [
            "<class 'pandas.core.frame.DataFrame'>\n",
            "RangeIndex: 699 entries, 0 to 698\n",
            "Data columns (total 11 columns):\n",
            " #   Column                       Non-Null Count  Dtype  \n",
            "---  ------                       --------------  -----  \n",
            " 0   sample_code                  699 non-null    int64  \n",
            " 1   clump_thickness              699 non-null    int64  \n",
            " 2   cell_size_uniformity         699 non-null    int64  \n",
            " 3   cell_shape_uniformity        699 non-null    int64  \n",
            " 4   marginal_adhesion            699 non-null    int64  \n",
            " 5   single_epithelial_cell_size  699 non-null    int64  \n",
            " 6   bare_nuclei                  683 non-null    float64\n",
            " 7   bland_chromatin              699 non-null    int64  \n",
            " 8   normal_nucleoli              699 non-null    int64  \n",
            " 9   mitoses                      699 non-null    int64  \n",
            " 10  class                        699 non-null    int64  \n",
            "dtypes: float64(1), int64(10)\n",
            "memory usage: 60.2 KB\n"
          ]
        }
      ]
    },
    {
      "cell_type": "code",
      "metadata": {
        "id": "bz577XGyq-0X",
        "colab": {
          "base_uri": "https://localhost:8080/"
        },
        "outputId": "1195b9b1-5de4-44e7-ae0a-2ab15cc6089e"
      },
      "source": [
        "data.isnull().sum()"
      ],
      "execution_count": 8,
      "outputs": [
        {
          "output_type": "execute_result",
          "data": {
            "text/plain": [
              "sample_code                     0\n",
              "clump_thickness                 0\n",
              "cell_size_uniformity            0\n",
              "cell_shape_uniformity           0\n",
              "marginal_adhesion               0\n",
              "single_epithelial_cell_size     0\n",
              "bare_nuclei                    16\n",
              "bland_chromatin                 0\n",
              "normal_nucleoli                 0\n",
              "mitoses                         0\n",
              "class                           0\n",
              "dtype: int64"
            ]
          },
          "metadata": {},
          "execution_count": 8
        }
      ]
    },
    {
      "cell_type": "code",
      "metadata": {
        "id": "BW4k49GIrPev",
        "colab": {
          "base_uri": "https://localhost:8080/"
        },
        "outputId": "69cda9a8-e7cb-4d82-e0b2-d2987f3b7419"
      },
      "source": [
        "data.shape"
      ],
      "execution_count": 9,
      "outputs": [
        {
          "output_type": "execute_result",
          "data": {
            "text/plain": [
              "(699, 11)"
            ]
          },
          "metadata": {},
          "execution_count": 9
        }
      ]
    },
    {
      "cell_type": "code",
      "metadata": {
        "id": "GgXpDSOrrXFH",
        "colab": {
          "base_uri": "https://localhost:8080/",
          "height": 221
        },
        "outputId": "fd2b531a-b5a1-46fe-e420-74f4a9c29a1b"
      },
      "source": [
        "data.loc[data['bare_nuclei'].isnull(),['bare_nuclei']].tail(5)"
      ],
      "execution_count": 10,
      "outputs": [
        {
          "output_type": "execute_result",
          "data": {
            "text/html": [
              "<div>\n",
              "<style scoped>\n",
              "    .dataframe tbody tr th:only-of-type {\n",
              "        vertical-align: middle;\n",
              "    }\n",
              "\n",
              "    .dataframe tbody tr th {\n",
              "        vertical-align: top;\n",
              "    }\n",
              "\n",
              "    .dataframe thead th {\n",
              "        text-align: right;\n",
              "    }\n",
              "</style>\n",
              "<table border=\"1\" class=\"dataframe\">\n",
              "  <thead>\n",
              "    <tr style=\"text-align: right;\">\n",
              "      <th></th>\n",
              "      <th>bare_nuclei</th>\n",
              "    </tr>\n",
              "  </thead>\n",
              "  <tbody>\n",
              "    <tr>\n",
              "      <th>297</th>\n",
              "      <td>NaN</td>\n",
              "    </tr>\n",
              "    <tr>\n",
              "      <th>315</th>\n",
              "      <td>NaN</td>\n",
              "    </tr>\n",
              "    <tr>\n",
              "      <th>321</th>\n",
              "      <td>NaN</td>\n",
              "    </tr>\n",
              "    <tr>\n",
              "      <th>411</th>\n",
              "      <td>NaN</td>\n",
              "    </tr>\n",
              "    <tr>\n",
              "      <th>617</th>\n",
              "      <td>NaN</td>\n",
              "    </tr>\n",
              "  </tbody>\n",
              "</table>\n",
              "</div>"
            ],
            "text/plain": [
              "     bare_nuclei\n",
              "297          NaN\n",
              "315          NaN\n",
              "321          NaN\n",
              "411          NaN\n",
              "617          NaN"
            ]
          },
          "metadata": {},
          "execution_count": 10
        }
      ]
    },
    {
      "cell_type": "code",
      "metadata": {
        "id": "PD_n5iftriAo"
      },
      "source": [
        "data = data.fillna(data.median())"
      ],
      "execution_count": 11,
      "outputs": []
    },
    {
      "cell_type": "code",
      "metadata": {
        "id": "EyTjVA87zipz",
        "colab": {
          "base_uri": "https://localhost:8080/",
          "height": 405
        },
        "outputId": "6df56216-768d-4434-b381-3ee3050b77d2"
      },
      "source": [
        "data.describe().transpose()"
      ],
      "execution_count": 12,
      "outputs": [
        {
          "output_type": "execute_result",
          "data": {
            "text/html": [
              "<div>\n",
              "<style scoped>\n",
              "    .dataframe tbody tr th:only-of-type {\n",
              "        vertical-align: middle;\n",
              "    }\n",
              "\n",
              "    .dataframe tbody tr th {\n",
              "        vertical-align: top;\n",
              "    }\n",
              "\n",
              "    .dataframe thead th {\n",
              "        text-align: right;\n",
              "    }\n",
              "</style>\n",
              "<table border=\"1\" class=\"dataframe\">\n",
              "  <thead>\n",
              "    <tr style=\"text-align: right;\">\n",
              "      <th></th>\n",
              "      <th>count</th>\n",
              "      <th>mean</th>\n",
              "      <th>std</th>\n",
              "      <th>min</th>\n",
              "      <th>25%</th>\n",
              "      <th>50%</th>\n",
              "      <th>75%</th>\n",
              "      <th>max</th>\n",
              "    </tr>\n",
              "  </thead>\n",
              "  <tbody>\n",
              "    <tr>\n",
              "      <th>sample_code</th>\n",
              "      <td>699.0</td>\n",
              "      <td>1.071704e+06</td>\n",
              "      <td>617095.729819</td>\n",
              "      <td>61634.0</td>\n",
              "      <td>870688.5</td>\n",
              "      <td>1171710.0</td>\n",
              "      <td>1238298.0</td>\n",
              "      <td>13454352.0</td>\n",
              "    </tr>\n",
              "    <tr>\n",
              "      <th>clump_thickness</th>\n",
              "      <td>699.0</td>\n",
              "      <td>4.417740e+00</td>\n",
              "      <td>2.815741</td>\n",
              "      <td>1.0</td>\n",
              "      <td>2.0</td>\n",
              "      <td>4.0</td>\n",
              "      <td>6.0</td>\n",
              "      <td>10.0</td>\n",
              "    </tr>\n",
              "    <tr>\n",
              "      <th>cell_size_uniformity</th>\n",
              "      <td>699.0</td>\n",
              "      <td>3.134478e+00</td>\n",
              "      <td>3.051459</td>\n",
              "      <td>1.0</td>\n",
              "      <td>1.0</td>\n",
              "      <td>1.0</td>\n",
              "      <td>5.0</td>\n",
              "      <td>10.0</td>\n",
              "    </tr>\n",
              "    <tr>\n",
              "      <th>cell_shape_uniformity</th>\n",
              "      <td>699.0</td>\n",
              "      <td>3.207439e+00</td>\n",
              "      <td>2.971913</td>\n",
              "      <td>1.0</td>\n",
              "      <td>1.0</td>\n",
              "      <td>1.0</td>\n",
              "      <td>5.0</td>\n",
              "      <td>10.0</td>\n",
              "    </tr>\n",
              "    <tr>\n",
              "      <th>marginal_adhesion</th>\n",
              "      <td>699.0</td>\n",
              "      <td>2.806867e+00</td>\n",
              "      <td>2.855379</td>\n",
              "      <td>1.0</td>\n",
              "      <td>1.0</td>\n",
              "      <td>1.0</td>\n",
              "      <td>4.0</td>\n",
              "      <td>10.0</td>\n",
              "    </tr>\n",
              "    <tr>\n",
              "      <th>single_epithelial_cell_size</th>\n",
              "      <td>699.0</td>\n",
              "      <td>3.216023e+00</td>\n",
              "      <td>2.214300</td>\n",
              "      <td>1.0</td>\n",
              "      <td>2.0</td>\n",
              "      <td>2.0</td>\n",
              "      <td>4.0</td>\n",
              "      <td>10.0</td>\n",
              "    </tr>\n",
              "    <tr>\n",
              "      <th>bare_nuclei</th>\n",
              "      <td>699.0</td>\n",
              "      <td>3.486409e+00</td>\n",
              "      <td>3.621929</td>\n",
              "      <td>1.0</td>\n",
              "      <td>1.0</td>\n",
              "      <td>1.0</td>\n",
              "      <td>5.0</td>\n",
              "      <td>10.0</td>\n",
              "    </tr>\n",
              "    <tr>\n",
              "      <th>bland_chromatin</th>\n",
              "      <td>699.0</td>\n",
              "      <td>3.437768e+00</td>\n",
              "      <td>2.438364</td>\n",
              "      <td>1.0</td>\n",
              "      <td>2.0</td>\n",
              "      <td>3.0</td>\n",
              "      <td>5.0</td>\n",
              "      <td>10.0</td>\n",
              "    </tr>\n",
              "    <tr>\n",
              "      <th>normal_nucleoli</th>\n",
              "      <td>699.0</td>\n",
              "      <td>2.866953e+00</td>\n",
              "      <td>3.053634</td>\n",
              "      <td>1.0</td>\n",
              "      <td>1.0</td>\n",
              "      <td>1.0</td>\n",
              "      <td>4.0</td>\n",
              "      <td>10.0</td>\n",
              "    </tr>\n",
              "    <tr>\n",
              "      <th>mitoses</th>\n",
              "      <td>699.0</td>\n",
              "      <td>1.589413e+00</td>\n",
              "      <td>1.715078</td>\n",
              "      <td>1.0</td>\n",
              "      <td>1.0</td>\n",
              "      <td>1.0</td>\n",
              "      <td>1.0</td>\n",
              "      <td>10.0</td>\n",
              "    </tr>\n",
              "    <tr>\n",
              "      <th>class</th>\n",
              "      <td>699.0</td>\n",
              "      <td>2.689557e+00</td>\n",
              "      <td>0.951273</td>\n",
              "      <td>2.0</td>\n",
              "      <td>2.0</td>\n",
              "      <td>2.0</td>\n",
              "      <td>4.0</td>\n",
              "      <td>4.0</td>\n",
              "    </tr>\n",
              "  </tbody>\n",
              "</table>\n",
              "</div>"
            ],
            "text/plain": [
              "                             count          mean  ...        75%         max\n",
              "sample_code                  699.0  1.071704e+06  ...  1238298.0  13454352.0\n",
              "clump_thickness              699.0  4.417740e+00  ...        6.0        10.0\n",
              "cell_size_uniformity         699.0  3.134478e+00  ...        5.0        10.0\n",
              "cell_shape_uniformity        699.0  3.207439e+00  ...        5.0        10.0\n",
              "marginal_adhesion            699.0  2.806867e+00  ...        4.0        10.0\n",
              "single_epithelial_cell_size  699.0  3.216023e+00  ...        4.0        10.0\n",
              "bare_nuclei                  699.0  3.486409e+00  ...        5.0        10.0\n",
              "bland_chromatin              699.0  3.437768e+00  ...        5.0        10.0\n",
              "normal_nucleoli              699.0  2.866953e+00  ...        4.0        10.0\n",
              "mitoses                      699.0  1.589413e+00  ...        1.0        10.0\n",
              "class                        699.0  2.689557e+00  ...        4.0         4.0\n",
              "\n",
              "[11 rows x 8 columns]"
            ]
          },
          "metadata": {},
          "execution_count": 12
        }
      ]
    },
    {
      "cell_type": "code",
      "metadata": {
        "id": "K8gZzgJRzJhM"
      },
      "source": [
        "np.random.seed(1) ###???"
      ],
      "execution_count": 13,
      "outputs": []
    },
    {
      "cell_type": "code",
      "metadata": {
        "id": "npQL5i3X0iVH",
        "colab": {
          "base_uri": "https://localhost:8080/",
          "height": 160
        },
        "outputId": "eb7e6b9a-d347-4dbc-9216-0d9f4a2c81a4"
      },
      "source": [
        "data.groupby(['class']).count()"
      ],
      "execution_count": 14,
      "outputs": [
        {
          "output_type": "execute_result",
          "data": {
            "text/html": [
              "<div>\n",
              "<style scoped>\n",
              "    .dataframe tbody tr th:only-of-type {\n",
              "        vertical-align: middle;\n",
              "    }\n",
              "\n",
              "    .dataframe tbody tr th {\n",
              "        vertical-align: top;\n",
              "    }\n",
              "\n",
              "    .dataframe thead th {\n",
              "        text-align: right;\n",
              "    }\n",
              "</style>\n",
              "<table border=\"1\" class=\"dataframe\">\n",
              "  <thead>\n",
              "    <tr style=\"text-align: right;\">\n",
              "      <th></th>\n",
              "      <th>sample_code</th>\n",
              "      <th>clump_thickness</th>\n",
              "      <th>cell_size_uniformity</th>\n",
              "      <th>cell_shape_uniformity</th>\n",
              "      <th>marginal_adhesion</th>\n",
              "      <th>single_epithelial_cell_size</th>\n",
              "      <th>bare_nuclei</th>\n",
              "      <th>bland_chromatin</th>\n",
              "      <th>normal_nucleoli</th>\n",
              "      <th>mitoses</th>\n",
              "    </tr>\n",
              "    <tr>\n",
              "      <th>class</th>\n",
              "      <th></th>\n",
              "      <th></th>\n",
              "      <th></th>\n",
              "      <th></th>\n",
              "      <th></th>\n",
              "      <th></th>\n",
              "      <th></th>\n",
              "      <th></th>\n",
              "      <th></th>\n",
              "      <th></th>\n",
              "    </tr>\n",
              "  </thead>\n",
              "  <tbody>\n",
              "    <tr>\n",
              "      <th>2</th>\n",
              "      <td>458</td>\n",
              "      <td>458</td>\n",
              "      <td>458</td>\n",
              "      <td>458</td>\n",
              "      <td>458</td>\n",
              "      <td>458</td>\n",
              "      <td>458</td>\n",
              "      <td>458</td>\n",
              "      <td>458</td>\n",
              "      <td>458</td>\n",
              "    </tr>\n",
              "    <tr>\n",
              "      <th>4</th>\n",
              "      <td>241</td>\n",
              "      <td>241</td>\n",
              "      <td>241</td>\n",
              "      <td>241</td>\n",
              "      <td>241</td>\n",
              "      <td>241</td>\n",
              "      <td>241</td>\n",
              "      <td>241</td>\n",
              "      <td>241</td>\n",
              "      <td>241</td>\n",
              "    </tr>\n",
              "  </tbody>\n",
              "</table>\n",
              "</div>"
            ],
            "text/plain": [
              "       sample_code  clump_thickness  ...  normal_nucleoli  mitoses\n",
              "class                                ...                          \n",
              "2              458              458  ...              458      458\n",
              "4              241              241  ...              241      241\n",
              "\n",
              "[2 rows x 10 columns]"
            ]
          },
          "metadata": {},
          "execution_count": 14
        }
      ]
    },
    {
      "cell_type": "code",
      "metadata": {
        "id": "OHwcvKof3x7E"
      },
      "source": [
        "data['label'] = (data['class']==4).astype(int) ### สร้าง Column ใหม่ขึ้นมาเป็น Label ให้มีค่าเป็น 0,1 ซึ่ง 1 คือ Malignant (ค่า 4 เดิม)"
      ],
      "execution_count": 15,
      "outputs": []
    },
    {
      "cell_type": "code",
      "metadata": {
        "id": "pvEbZo0e5NH6",
        "colab": {
          "base_uri": "https://localhost:8080/",
          "height": 160
        },
        "outputId": "c5a28891-4bf1-44ea-88d7-8ba2b3504fff"
      },
      "source": [
        "data.groupby(['class','label']).count()"
      ],
      "execution_count": 16,
      "outputs": [
        {
          "output_type": "execute_result",
          "data": {
            "text/html": [
              "<div>\n",
              "<style scoped>\n",
              "    .dataframe tbody tr th:only-of-type {\n",
              "        vertical-align: middle;\n",
              "    }\n",
              "\n",
              "    .dataframe tbody tr th {\n",
              "        vertical-align: top;\n",
              "    }\n",
              "\n",
              "    .dataframe thead th {\n",
              "        text-align: right;\n",
              "    }\n",
              "</style>\n",
              "<table border=\"1\" class=\"dataframe\">\n",
              "  <thead>\n",
              "    <tr style=\"text-align: right;\">\n",
              "      <th></th>\n",
              "      <th></th>\n",
              "      <th>sample_code</th>\n",
              "      <th>clump_thickness</th>\n",
              "      <th>cell_size_uniformity</th>\n",
              "      <th>cell_shape_uniformity</th>\n",
              "      <th>marginal_adhesion</th>\n",
              "      <th>single_epithelial_cell_size</th>\n",
              "      <th>bare_nuclei</th>\n",
              "      <th>bland_chromatin</th>\n",
              "      <th>normal_nucleoli</th>\n",
              "      <th>mitoses</th>\n",
              "    </tr>\n",
              "    <tr>\n",
              "      <th>class</th>\n",
              "      <th>label</th>\n",
              "      <th></th>\n",
              "      <th></th>\n",
              "      <th></th>\n",
              "      <th></th>\n",
              "      <th></th>\n",
              "      <th></th>\n",
              "      <th></th>\n",
              "      <th></th>\n",
              "      <th></th>\n",
              "      <th></th>\n",
              "    </tr>\n",
              "  </thead>\n",
              "  <tbody>\n",
              "    <tr>\n",
              "      <th>2</th>\n",
              "      <th>0</th>\n",
              "      <td>458</td>\n",
              "      <td>458</td>\n",
              "      <td>458</td>\n",
              "      <td>458</td>\n",
              "      <td>458</td>\n",
              "      <td>458</td>\n",
              "      <td>458</td>\n",
              "      <td>458</td>\n",
              "      <td>458</td>\n",
              "      <td>458</td>\n",
              "    </tr>\n",
              "    <tr>\n",
              "      <th>4</th>\n",
              "      <th>1</th>\n",
              "      <td>241</td>\n",
              "      <td>241</td>\n",
              "      <td>241</td>\n",
              "      <td>241</td>\n",
              "      <td>241</td>\n",
              "      <td>241</td>\n",
              "      <td>241</td>\n",
              "      <td>241</td>\n",
              "      <td>241</td>\n",
              "      <td>241</td>\n",
              "    </tr>\n",
              "  </tbody>\n",
              "</table>\n",
              "</div>"
            ],
            "text/plain": [
              "             sample_code  clump_thickness  ...  normal_nucleoli  mitoses\n",
              "class label                                ...                          \n",
              "2     0              458              458  ...              458      458\n",
              "4     1              241              241  ...              241      241\n",
              "\n",
              "[2 rows x 10 columns]"
            ]
          },
          "metadata": {},
          "execution_count": 16
        }
      ]
    },
    {
      "cell_type": "code",
      "metadata": {
        "id": "7kQzo2jAzL8U"
      },
      "source": [
        "train = data.sample(frac=0.8).copy()"
      ],
      "execution_count": 17,
      "outputs": []
    },
    {
      "cell_type": "code",
      "metadata": {
        "id": "2fuv8CJGzOSZ"
      },
      "source": [
        "y_train = train['label']"
      ],
      "execution_count": 18,
      "outputs": []
    },
    {
      "cell_type": "code",
      "metadata": {
        "id": "x9D7Pbbn1g1Q",
        "colab": {
          "base_uri": "https://localhost:8080/"
        },
        "outputId": "b46c9649-463c-4caf-d501-0651f2ecd483"
      },
      "source": [
        "y_train"
      ],
      "execution_count": 19,
      "outputs": [
        {
          "output_type": "execute_result",
          "data": {
            "text/plain": [
              "584    0\n",
              "417    0\n",
              "606    0\n",
              "349    1\n",
              "134    0\n",
              "      ..\n",
              "137    0\n",
              "536    0\n",
              "212    0\n",
              "673    0\n",
              "651    0\n",
              "Name: label, Length: 559, dtype: int64"
            ]
          },
          "metadata": {},
          "execution_count": 19
        }
      ]
    },
    {
      "cell_type": "code",
      "metadata": {
        "id": "sueXlgu-1iPk"
      },
      "source": [
        "train.drop(['sample_code', 'class','label'], axis=1, inplace=True)"
      ],
      "execution_count": 20,
      "outputs": []
    },
    {
      "cell_type": "code",
      "metadata": {
        "id": "lyv_T94j180B",
        "colab": {
          "base_uri": "https://localhost:8080/"
        },
        "outputId": "783f1e04-fbc1-4ad7-dbbd-11d64bd74e1f"
      },
      "source": [
        "train.info()"
      ],
      "execution_count": 21,
      "outputs": [
        {
          "output_type": "stream",
          "name": "stdout",
          "text": [
            "<class 'pandas.core.frame.DataFrame'>\n",
            "Int64Index: 559 entries, 584 to 651\n",
            "Data columns (total 9 columns):\n",
            " #   Column                       Non-Null Count  Dtype  \n",
            "---  ------                       --------------  -----  \n",
            " 0   clump_thickness              559 non-null    int64  \n",
            " 1   cell_size_uniformity         559 non-null    int64  \n",
            " 2   cell_shape_uniformity        559 non-null    int64  \n",
            " 3   marginal_adhesion            559 non-null    int64  \n",
            " 4   single_epithelial_cell_size  559 non-null    int64  \n",
            " 5   bare_nuclei                  559 non-null    float64\n",
            " 6   bland_chromatin              559 non-null    int64  \n",
            " 7   normal_nucleoli              559 non-null    int64  \n",
            " 8   mitoses                      559 non-null    int64  \n",
            "dtypes: float64(1), int64(8)\n",
            "memory usage: 43.7 KB\n"
          ]
        }
      ]
    },
    {
      "cell_type": "code",
      "metadata": {
        "id": "Wn-_4ZKN192A",
        "colab": {
          "base_uri": "https://localhost:8080/"
        },
        "outputId": "aff362a2-469d-4646-e495-2624feb4336a"
      },
      "source": [
        "train.shape"
      ],
      "execution_count": 22,
      "outputs": [
        {
          "output_type": "execute_result",
          "data": {
            "text/plain": [
              "(559, 9)"
            ]
          },
          "metadata": {},
          "execution_count": 22
        }
      ]
    },
    {
      "cell_type": "code",
      "metadata": {
        "id": "ZAkMa_Ub9W1Q"
      },
      "source": [
        ""
      ],
      "execution_count": 22,
      "outputs": []
    },
    {
      "cell_type": "code",
      "metadata": {
        "id": "B8Ov5VOM2WcX"
      },
      "source": [
        "test = data.drop(train.index)\n",
        "y_test = test['label']\n",
        "test.drop(['sample_code', 'class','label'], axis=1, inplace=True)"
      ],
      "execution_count": 23,
      "outputs": []
    },
    {
      "cell_type": "code",
      "metadata": {
        "id": "-mlVnwob8jht",
        "colab": {
          "base_uri": "https://localhost:8080/"
        },
        "outputId": "fc463bec-1def-4481-98a9-698fa3d07201"
      },
      "source": [
        "test.info()"
      ],
      "execution_count": 24,
      "outputs": [
        {
          "output_type": "stream",
          "name": "stdout",
          "text": [
            "<class 'pandas.core.frame.DataFrame'>\n",
            "Int64Index: 140 entries, 7 to 691\n",
            "Data columns (total 9 columns):\n",
            " #   Column                       Non-Null Count  Dtype  \n",
            "---  ------                       --------------  -----  \n",
            " 0   clump_thickness              140 non-null    int64  \n",
            " 1   cell_size_uniformity         140 non-null    int64  \n",
            " 2   cell_shape_uniformity        140 non-null    int64  \n",
            " 3   marginal_adhesion            140 non-null    int64  \n",
            " 4   single_epithelial_cell_size  140 non-null    int64  \n",
            " 5   bare_nuclei                  140 non-null    float64\n",
            " 6   bland_chromatin              140 non-null    int64  \n",
            " 7   normal_nucleoli              140 non-null    int64  \n",
            " 8   mitoses                      140 non-null    int64  \n",
            "dtypes: float64(1), int64(8)\n",
            "memory usage: 10.9 KB\n"
          ]
        }
      ]
    },
    {
      "cell_type": "code",
      "metadata": {
        "id": "HNOxa0_s8pL4",
        "colab": {
          "base_uri": "https://localhost:8080/"
        },
        "outputId": "d4f07468-e73b-46a9-f49e-ccb6e98fe685"
      },
      "source": [
        "test.shape"
      ],
      "execution_count": 25,
      "outputs": [
        {
          "output_type": "execute_result",
          "data": {
            "text/plain": [
              "(140, 9)"
            ]
          },
          "metadata": {},
          "execution_count": 25
        }
      ]
    },
    {
      "cell_type": "code",
      "metadata": {
        "id": "YdKnnjbi-Vj6",
        "colab": {
          "base_uri": "https://localhost:8080/",
          "height": 343
        },
        "outputId": "1b2a0ded-562f-4792-b471-1e78e28b4996"
      },
      "source": [
        "train.describe().transpose()"
      ],
      "execution_count": 26,
      "outputs": [
        {
          "output_type": "execute_result",
          "data": {
            "text/html": [
              "<div>\n",
              "<style scoped>\n",
              "    .dataframe tbody tr th:only-of-type {\n",
              "        vertical-align: middle;\n",
              "    }\n",
              "\n",
              "    .dataframe tbody tr th {\n",
              "        vertical-align: top;\n",
              "    }\n",
              "\n",
              "    .dataframe thead th {\n",
              "        text-align: right;\n",
              "    }\n",
              "</style>\n",
              "<table border=\"1\" class=\"dataframe\">\n",
              "  <thead>\n",
              "    <tr style=\"text-align: right;\">\n",
              "      <th></th>\n",
              "      <th>count</th>\n",
              "      <th>mean</th>\n",
              "      <th>std</th>\n",
              "      <th>min</th>\n",
              "      <th>25%</th>\n",
              "      <th>50%</th>\n",
              "      <th>75%</th>\n",
              "      <th>max</th>\n",
              "    </tr>\n",
              "  </thead>\n",
              "  <tbody>\n",
              "    <tr>\n",
              "      <th>clump_thickness</th>\n",
              "      <td>559.0</td>\n",
              "      <td>4.434705</td>\n",
              "      <td>2.850947</td>\n",
              "      <td>1.0</td>\n",
              "      <td>2.0</td>\n",
              "      <td>4.0</td>\n",
              "      <td>6.0</td>\n",
              "      <td>10.0</td>\n",
              "    </tr>\n",
              "    <tr>\n",
              "      <th>cell_size_uniformity</th>\n",
              "      <td>559.0</td>\n",
              "      <td>3.082290</td>\n",
              "      <td>3.029193</td>\n",
              "      <td>1.0</td>\n",
              "      <td>1.0</td>\n",
              "      <td>1.0</td>\n",
              "      <td>4.0</td>\n",
              "      <td>10.0</td>\n",
              "    </tr>\n",
              "    <tr>\n",
              "      <th>cell_shape_uniformity</th>\n",
              "      <td>559.0</td>\n",
              "      <td>3.223614</td>\n",
              "      <td>3.003895</td>\n",
              "      <td>1.0</td>\n",
              "      <td>1.0</td>\n",
              "      <td>1.0</td>\n",
              "      <td>5.0</td>\n",
              "      <td>10.0</td>\n",
              "    </tr>\n",
              "    <tr>\n",
              "      <th>marginal_adhesion</th>\n",
              "      <td>559.0</td>\n",
              "      <td>2.742397</td>\n",
              "      <td>2.818559</td>\n",
              "      <td>1.0</td>\n",
              "      <td>1.0</td>\n",
              "      <td>1.0</td>\n",
              "      <td>3.0</td>\n",
              "      <td>10.0</td>\n",
              "    </tr>\n",
              "    <tr>\n",
              "      <th>single_epithelial_cell_size</th>\n",
              "      <td>559.0</td>\n",
              "      <td>3.189624</td>\n",
              "      <td>2.190686</td>\n",
              "      <td>1.0</td>\n",
              "      <td>2.0</td>\n",
              "      <td>2.0</td>\n",
              "      <td>4.0</td>\n",
              "      <td>10.0</td>\n",
              "    </tr>\n",
              "    <tr>\n",
              "      <th>bare_nuclei</th>\n",
              "      <td>559.0</td>\n",
              "      <td>3.445438</td>\n",
              "      <td>3.603584</td>\n",
              "      <td>1.0</td>\n",
              "      <td>1.0</td>\n",
              "      <td>1.0</td>\n",
              "      <td>5.0</td>\n",
              "      <td>10.0</td>\n",
              "    </tr>\n",
              "    <tr>\n",
              "      <th>bland_chromatin</th>\n",
              "      <td>559.0</td>\n",
              "      <td>3.411449</td>\n",
              "      <td>2.446330</td>\n",
              "      <td>1.0</td>\n",
              "      <td>2.0</td>\n",
              "      <td>3.0</td>\n",
              "      <td>4.0</td>\n",
              "      <td>10.0</td>\n",
              "    </tr>\n",
              "    <tr>\n",
              "      <th>normal_nucleoli</th>\n",
              "      <td>559.0</td>\n",
              "      <td>2.844365</td>\n",
              "      <td>3.057824</td>\n",
              "      <td>1.0</td>\n",
              "      <td>1.0</td>\n",
              "      <td>1.0</td>\n",
              "      <td>3.5</td>\n",
              "      <td>10.0</td>\n",
              "    </tr>\n",
              "    <tr>\n",
              "      <th>mitoses</th>\n",
              "      <td>559.0</td>\n",
              "      <td>1.592129</td>\n",
              "      <td>1.742884</td>\n",
              "      <td>1.0</td>\n",
              "      <td>1.0</td>\n",
              "      <td>1.0</td>\n",
              "      <td>1.0</td>\n",
              "      <td>10.0</td>\n",
              "    </tr>\n",
              "  </tbody>\n",
              "</table>\n",
              "</div>"
            ],
            "text/plain": [
              "                             count      mean       std  ...  50%  75%   max\n",
              "clump_thickness              559.0  4.434705  2.850947  ...  4.0  6.0  10.0\n",
              "cell_size_uniformity         559.0  3.082290  3.029193  ...  1.0  4.0  10.0\n",
              "cell_shape_uniformity        559.0  3.223614  3.003895  ...  1.0  5.0  10.0\n",
              "marginal_adhesion            559.0  2.742397  2.818559  ...  1.0  3.0  10.0\n",
              "single_epithelial_cell_size  559.0  3.189624  2.190686  ...  2.0  4.0  10.0\n",
              "bare_nuclei                  559.0  3.445438  3.603584  ...  1.0  5.0  10.0\n",
              "bland_chromatin              559.0  3.411449  2.446330  ...  3.0  4.0  10.0\n",
              "normal_nucleoli              559.0  2.844365  3.057824  ...  1.0  3.5  10.0\n",
              "mitoses                      559.0  1.592129  1.742884  ...  1.0  1.0  10.0\n",
              "\n",
              "[9 rows x 8 columns]"
            ]
          },
          "metadata": {},
          "execution_count": 26
        }
      ]
    },
    {
      "cell_type": "code",
      "metadata": {
        "id": "uvAtMEel_2uP"
      },
      "source": [
        "def build_model():\n",
        "  model = keras.Sequential([\n",
        "    layers.Dense(9, activation='sigmoid',\n",
        "                 input_shape=(9,)),\n",
        "    layers.BatchNormalization(),\n",
        "    #layers.Dense(9, activation='sigmoid'),\n",
        "    layers.Dense(2, activation='softmax')\n",
        "   ])\n",
        "  \n",
        "  optimizer = tf.keras.optimizers.Adam()\n",
        "  model.compile(loss=tf.keras.losses.sparse_categorical_crossentropy,\n",
        "              optimizer=optimizer,\n",
        "              metrics=['accuracy'])\n",
        "  return model"
      ],
      "execution_count": 27,
      "outputs": []
    },
    {
      "cell_type": "code",
      "metadata": {
        "id": "opGwSGHtAy5a",
        "colab": {
          "base_uri": "https://localhost:8080/"
        },
        "outputId": "c7aa7933-2be8-4164-d390-076169696a8e"
      },
      "source": [
        "model = build_model()\n",
        "model.summary()"
      ],
      "execution_count": 28,
      "outputs": [
        {
          "output_type": "stream",
          "name": "stdout",
          "text": [
            "Model: \"sequential\"\n",
            "_________________________________________________________________\n",
            " Layer (type)                Output Shape              Param #   \n",
            "=================================================================\n",
            " dense (Dense)               (None, 9)                 90        \n",
            "                                                                 \n",
            " batch_normalization (BatchN  (None, 9)                36        \n",
            " ormalization)                                                   \n",
            "                                                                 \n",
            " dense_1 (Dense)             (None, 2)                 20        \n",
            "                                                                 \n",
            "=================================================================\n",
            "Total params: 146\n",
            "Trainable params: 128\n",
            "Non-trainable params: 18\n",
            "_________________________________________________________________\n"
          ]
        }
      ]
    },
    {
      "cell_type": "code",
      "metadata": {
        "id": "lZ9PNY2vA2qh",
        "colab": {
          "base_uri": "https://localhost:8080/"
        },
        "outputId": "2fd47d1b-b3a9-43a8-b0bd-580888284edb"
      },
      "source": [
        "class PrintDot(keras.callbacks.Callback):\n",
        " def on_epoch_end(self, epoch, logs):\n",
        "  if epoch % 100 == 0: print('')\n",
        "  print('.', end='')\n",
        "\n",
        "\n",
        "history = model.fit(train, y_train, \n",
        "          batch_size=1, \n",
        "          epochs=100, verbose=1, \n",
        "          validation_split=0.1)\n"
      ],
      "execution_count": 29,
      "outputs": [
        {
          "output_type": "stream",
          "name": "stdout",
          "text": [
            "Epoch 1/100\n",
            "503/503 [==============================] - 2s 3ms/step - loss: 0.6577 - accuracy: 0.6561 - val_loss: 1.6509 - val_accuracy: 0.4464\n",
            "Epoch 2/100\n",
            "503/503 [==============================] - 1s 2ms/step - loss: 0.6459 - accuracy: 0.6561 - val_loss: 4.2427 - val_accuracy: 0.3750\n",
            "Epoch 3/100\n",
            "503/503 [==============================] - 1s 2ms/step - loss: 0.6457 - accuracy: 0.6561 - val_loss: 4.3916 - val_accuracy: 0.2500\n",
            "Epoch 4/100\n",
            "503/503 [==============================] - 1s 2ms/step - loss: 0.6455 - accuracy: 0.6561 - val_loss: 4.8066 - val_accuracy: 0.2143\n",
            "Epoch 5/100\n",
            "503/503 [==============================] - 1s 2ms/step - loss: 0.6450 - accuracy: 0.6561 - val_loss: 4.0824 - val_accuracy: 0.4286\n",
            "Epoch 6/100\n",
            "503/503 [==============================] - 1s 2ms/step - loss: 0.6453 - accuracy: 0.6561 - val_loss: 4.3183 - val_accuracy: 0.3036\n",
            "Epoch 7/100\n",
            "503/503 [==============================] - 1s 2ms/step - loss: 0.6460 - accuracy: 0.6561 - val_loss: 4.1377 - val_accuracy: 0.4107\n",
            "Epoch 8/100\n",
            "503/503 [==============================] - 1s 2ms/step - loss: 0.6456 - accuracy: 0.6561 - val_loss: 4.2298 - val_accuracy: 0.3036\n",
            "Epoch 9/100\n",
            "503/503 [==============================] - 1s 2ms/step - loss: 0.6451 - accuracy: 0.6561 - val_loss: 4.1745 - val_accuracy: 0.3036\n",
            "Epoch 10/100\n",
            "503/503 [==============================] - 1s 2ms/step - loss: 0.6454 - accuracy: 0.6561 - val_loss: 4.2990 - val_accuracy: 0.2857\n",
            "Epoch 11/100\n",
            "503/503 [==============================] - 1s 2ms/step - loss: 0.6455 - accuracy: 0.6561 - val_loss: 4.2344 - val_accuracy: 0.2857\n",
            "Epoch 12/100\n",
            "503/503 [==============================] - 1s 2ms/step - loss: 0.6456 - accuracy: 0.6561 - val_loss: 4.1626 - val_accuracy: 0.2857\n",
            "Epoch 13/100\n",
            "503/503 [==============================] - 1s 2ms/step - loss: 0.6454 - accuracy: 0.6561 - val_loss: 4.1212 - val_accuracy: 0.3571\n",
            "Epoch 14/100\n",
            "503/503 [==============================] - 1s 2ms/step - loss: 0.6452 - accuracy: 0.6561 - val_loss: 4.2802 - val_accuracy: 0.2143\n",
            "Epoch 15/100\n",
            "503/503 [==============================] - 1s 2ms/step - loss: 0.6452 - accuracy: 0.6561 - val_loss: 4.4037 - val_accuracy: 0.2143\n",
            "Epoch 16/100\n",
            "503/503 [==============================] - 1s 2ms/step - loss: 0.6452 - accuracy: 0.6561 - val_loss: 3.9243 - val_accuracy: 0.4107\n",
            "Epoch 17/100\n",
            "503/503 [==============================] - 1s 2ms/step - loss: 0.6453 - accuracy: 0.6561 - val_loss: 3.9251 - val_accuracy: 0.3571\n",
            "Epoch 18/100\n",
            "503/503 [==============================] - 1s 2ms/step - loss: 0.6456 - accuracy: 0.6561 - val_loss: 3.9784 - val_accuracy: 0.2857\n",
            "Epoch 19/100\n",
            "503/503 [==============================] - 1s 2ms/step - loss: 0.6450 - accuracy: 0.6561 - val_loss: 3.8847 - val_accuracy: 0.3571\n",
            "Epoch 20/100\n",
            "503/503 [==============================] - 1s 2ms/step - loss: 0.6444 - accuracy: 0.6561 - val_loss: 4.0491 - val_accuracy: 0.3571\n",
            "Epoch 21/100\n",
            "503/503 [==============================] - 1s 2ms/step - loss: 0.6453 - accuracy: 0.6561 - val_loss: 3.9600 - val_accuracy: 0.3571\n",
            "Epoch 22/100\n",
            "503/503 [==============================] - 1s 2ms/step - loss: 0.6451 - accuracy: 0.6561 - val_loss: 3.9752 - val_accuracy: 0.2857\n",
            "Epoch 23/100\n",
            "503/503 [==============================] - 1s 2ms/step - loss: 0.6450 - accuracy: 0.6561 - val_loss: 4.0916 - val_accuracy: 0.2321\n",
            "Epoch 24/100\n",
            "503/503 [==============================] - 1s 2ms/step - loss: 0.6457 - accuracy: 0.6561 - val_loss: 3.9775 - val_accuracy: 0.2857\n",
            "Epoch 25/100\n",
            "503/503 [==============================] - 1s 2ms/step - loss: 0.6450 - accuracy: 0.6561 - val_loss: 3.9151 - val_accuracy: 0.2857\n",
            "Epoch 26/100\n",
            "503/503 [==============================] - 1s 2ms/step - loss: 0.6448 - accuracy: 0.6561 - val_loss: 3.9707 - val_accuracy: 0.2500\n",
            "Epoch 27/100\n",
            "503/503 [==============================] - 1s 2ms/step - loss: 0.6449 - accuracy: 0.6561 - val_loss: 3.8740 - val_accuracy: 0.3571\n",
            "Epoch 28/100\n",
            "503/503 [==============================] - 1s 2ms/step - loss: 0.6454 - accuracy: 0.6561 - val_loss: 3.7054 - val_accuracy: 0.3750\n",
            "Epoch 29/100\n",
            "503/503 [==============================] - 1s 2ms/step - loss: 0.6454 - accuracy: 0.6561 - val_loss: 3.5818 - val_accuracy: 0.4286\n",
            "Epoch 30/100\n",
            "503/503 [==============================] - 1s 2ms/step - loss: 0.6453 - accuracy: 0.6561 - val_loss: 3.7200 - val_accuracy: 0.2679\n",
            "Epoch 31/100\n",
            "503/503 [==============================] - 1s 2ms/step - loss: 0.6450 - accuracy: 0.6561 - val_loss: 3.7497 - val_accuracy: 0.2679\n",
            "Epoch 32/100\n",
            "503/503 [==============================] - 1s 2ms/step - loss: 0.6450 - accuracy: 0.6561 - val_loss: 3.6952 - val_accuracy: 0.3214\n",
            "Epoch 33/100\n",
            "503/503 [==============================] - 1s 2ms/step - loss: 0.6451 - accuracy: 0.6561 - val_loss: 3.7913 - val_accuracy: 0.2500\n",
            "Epoch 34/100\n",
            "503/503 [==============================] - 1s 2ms/step - loss: 0.6452 - accuracy: 0.6561 - val_loss: 3.6228 - val_accuracy: 0.3214\n",
            "Epoch 35/100\n",
            "503/503 [==============================] - 1s 2ms/step - loss: 0.6450 - accuracy: 0.6561 - val_loss: 3.7888 - val_accuracy: 0.2679\n",
            "Epoch 36/100\n",
            "503/503 [==============================] - 1s 2ms/step - loss: 0.6452 - accuracy: 0.6561 - val_loss: 3.5759 - val_accuracy: 0.3214\n",
            "Epoch 37/100\n",
            "503/503 [==============================] - 1s 2ms/step - loss: 0.6453 - accuracy: 0.6561 - val_loss: 3.4463 - val_accuracy: 0.4107\n",
            "Epoch 38/100\n",
            "503/503 [==============================] - 1s 3ms/step - loss: 0.6451 - accuracy: 0.6561 - val_loss: 3.5983 - val_accuracy: 0.2679\n",
            "Epoch 39/100\n",
            "503/503 [==============================] - 1s 2ms/step - loss: 0.6451 - accuracy: 0.6561 - val_loss: 3.8005 - val_accuracy: 0.2321\n",
            "Epoch 40/100\n",
            "503/503 [==============================] - 1s 2ms/step - loss: 0.6455 - accuracy: 0.6561 - val_loss: 3.7051 - val_accuracy: 0.2679\n",
            "Epoch 41/100\n",
            "503/503 [==============================] - 1s 2ms/step - loss: 0.6448 - accuracy: 0.6561 - val_loss: 3.7499 - val_accuracy: 0.2321\n",
            "Epoch 42/100\n",
            "503/503 [==============================] - 1s 2ms/step - loss: 0.6456 - accuracy: 0.6561 - val_loss: 3.7297 - val_accuracy: 0.2500\n",
            "Epoch 43/100\n",
            "503/503 [==============================] - 1s 2ms/step - loss: 0.6447 - accuracy: 0.6561 - val_loss: 3.4980 - val_accuracy: 0.2500\n",
            "Epoch 44/100\n",
            "503/503 [==============================] - 1s 2ms/step - loss: 0.6443 - accuracy: 0.6561 - val_loss: 3.7204 - val_accuracy: 0.2500\n",
            "Epoch 45/100\n",
            "503/503 [==============================] - 1s 2ms/step - loss: 0.6451 - accuracy: 0.6561 - val_loss: 3.4511 - val_accuracy: 0.3036\n",
            "Epoch 46/100\n",
            "503/503 [==============================] - 1s 2ms/step - loss: 0.6448 - accuracy: 0.6561 - val_loss: 3.5440 - val_accuracy: 0.3214\n",
            "Epoch 47/100\n",
            "503/503 [==============================] - 1s 2ms/step - loss: 0.6446 - accuracy: 0.6561 - val_loss: 3.4907 - val_accuracy: 0.2679\n",
            "Epoch 48/100\n",
            "503/503 [==============================] - 1s 3ms/step - loss: 0.6449 - accuracy: 0.6561 - val_loss: 3.5470 - val_accuracy: 0.2679\n",
            "Epoch 49/100\n",
            "503/503 [==============================] - 1s 2ms/step - loss: 0.6455 - accuracy: 0.6561 - val_loss: 3.4251 - val_accuracy: 0.3036\n",
            "Epoch 50/100\n",
            "503/503 [==============================] - 1s 2ms/step - loss: 0.6440 - accuracy: 0.6561 - val_loss: 3.3224 - val_accuracy: 0.2679\n",
            "Epoch 51/100\n",
            "503/503 [==============================] - 1s 3ms/step - loss: 0.6455 - accuracy: 0.6561 - val_loss: 3.3588 - val_accuracy: 0.3214\n",
            "Epoch 52/100\n",
            "503/503 [==============================] - 1s 2ms/step - loss: 0.6452 - accuracy: 0.6561 - val_loss: 3.3624 - val_accuracy: 0.3214\n",
            "Epoch 53/100\n",
            "503/503 [==============================] - 1s 2ms/step - loss: 0.6451 - accuracy: 0.6561 - val_loss: 3.5684 - val_accuracy: 0.2500\n",
            "Epoch 54/100\n",
            "503/503 [==============================] - 1s 2ms/step - loss: 0.6448 - accuracy: 0.6561 - val_loss: 3.4128 - val_accuracy: 0.3214\n",
            "Epoch 55/100\n",
            "503/503 [==============================] - 1s 3ms/step - loss: 0.6450 - accuracy: 0.6561 - val_loss: 3.3662 - val_accuracy: 0.3214\n",
            "Epoch 56/100\n",
            "503/503 [==============================] - 1s 2ms/step - loss: 0.6452 - accuracy: 0.6561 - val_loss: 3.2526 - val_accuracy: 0.3214\n",
            "Epoch 57/100\n",
            "503/503 [==============================] - 1s 2ms/step - loss: 0.6448 - accuracy: 0.6561 - val_loss: 3.3101 - val_accuracy: 0.2679\n",
            "Epoch 58/100\n",
            "503/503 [==============================] - 1s 2ms/step - loss: 0.6449 - accuracy: 0.6561 - val_loss: 3.3160 - val_accuracy: 0.2857\n",
            "Epoch 59/100\n",
            "503/503 [==============================] - 1s 2ms/step - loss: 0.6441 - accuracy: 0.6561 - val_loss: 3.1918 - val_accuracy: 0.3393\n",
            "Epoch 60/100\n",
            "503/503 [==============================] - 1s 2ms/step - loss: 0.6453 - accuracy: 0.6561 - val_loss: 3.2300 - val_accuracy: 0.3393\n",
            "Epoch 61/100\n",
            "503/503 [==============================] - 1s 2ms/step - loss: 0.6454 - accuracy: 0.6561 - val_loss: 3.2461 - val_accuracy: 0.3214\n",
            "Epoch 62/100\n",
            "503/503 [==============================] - 1s 2ms/step - loss: 0.6453 - accuracy: 0.6561 - val_loss: 3.1982 - val_accuracy: 0.3214\n",
            "Epoch 63/100\n",
            "503/503 [==============================] - 1s 2ms/step - loss: 0.6445 - accuracy: 0.6561 - val_loss: 3.1504 - val_accuracy: 0.3214\n",
            "Epoch 64/100\n",
            "503/503 [==============================] - 1s 2ms/step - loss: 0.6446 - accuracy: 0.6561 - val_loss: 3.1762 - val_accuracy: 0.3214\n",
            "Epoch 65/100\n",
            "503/503 [==============================] - 1s 2ms/step - loss: 0.6451 - accuracy: 0.6561 - val_loss: 3.1666 - val_accuracy: 0.3393\n",
            "Epoch 66/100\n",
            "503/503 [==============================] - 1s 2ms/step - loss: 0.6448 - accuracy: 0.6561 - val_loss: 3.2316 - val_accuracy: 0.2679\n",
            "Epoch 67/100\n",
            "503/503 [==============================] - 1s 2ms/step - loss: 0.6445 - accuracy: 0.6561 - val_loss: 3.4233 - val_accuracy: 0.2143\n",
            "Epoch 68/100\n",
            "503/503 [==============================] - 1s 2ms/step - loss: 0.6447 - accuracy: 0.6561 - val_loss: 3.2450 - val_accuracy: 0.2857\n",
            "Epoch 69/100\n",
            "503/503 [==============================] - 1s 2ms/step - loss: 0.6448 - accuracy: 0.6561 - val_loss: 3.2563 - val_accuracy: 0.2679\n",
            "Epoch 70/100\n",
            "503/503 [==============================] - 1s 2ms/step - loss: 0.6453 - accuracy: 0.6561 - val_loss: 3.1976 - val_accuracy: 0.2857\n",
            "Epoch 71/100\n",
            "503/503 [==============================] - 1s 2ms/step - loss: 0.6446 - accuracy: 0.6561 - val_loss: 3.2083 - val_accuracy: 0.3393\n",
            "Epoch 72/100\n",
            "503/503 [==============================] - 1s 2ms/step - loss: 0.6449 - accuracy: 0.6561 - val_loss: 3.1323 - val_accuracy: 0.3571\n",
            "Epoch 73/100\n",
            "503/503 [==============================] - 1s 2ms/step - loss: 0.6450 - accuracy: 0.6561 - val_loss: 3.3458 - val_accuracy: 0.2500\n",
            "Epoch 74/100\n",
            "503/503 [==============================] - 1s 2ms/step - loss: 0.6450 - accuracy: 0.6561 - val_loss: 3.2738 - val_accuracy: 0.2679\n",
            "Epoch 75/100\n",
            "503/503 [==============================] - 1s 2ms/step - loss: 0.6448 - accuracy: 0.6561 - val_loss: 3.1340 - val_accuracy: 0.3214\n",
            "Epoch 76/100\n",
            "503/503 [==============================] - 1s 2ms/step - loss: 0.6449 - accuracy: 0.6561 - val_loss: 2.9797 - val_accuracy: 0.4107\n",
            "Epoch 77/100\n",
            "503/503 [==============================] - 1s 2ms/step - loss: 0.6445 - accuracy: 0.6561 - val_loss: 3.0324 - val_accuracy: 0.4107\n",
            "Epoch 78/100\n",
            "503/503 [==============================] - 1s 2ms/step - loss: 0.6449 - accuracy: 0.6561 - val_loss: 3.0026 - val_accuracy: 0.3750\n",
            "Epoch 79/100\n",
            "503/503 [==============================] - 1s 2ms/step - loss: 0.6447 - accuracy: 0.6561 - val_loss: 3.1051 - val_accuracy: 0.2679\n",
            "Epoch 80/100\n",
            "503/503 [==============================] - 1s 2ms/step - loss: 0.6451 - accuracy: 0.6561 - val_loss: 3.0269 - val_accuracy: 0.2679\n",
            "Epoch 81/100\n",
            "503/503 [==============================] - 1s 2ms/step - loss: 0.6448 - accuracy: 0.6561 - val_loss: 2.8646 - val_accuracy: 0.3571\n",
            "Epoch 82/100\n",
            "503/503 [==============================] - 1s 2ms/step - loss: 0.6446 - accuracy: 0.6561 - val_loss: 2.9735 - val_accuracy: 0.2679\n",
            "Epoch 83/100\n",
            "503/503 [==============================] - 1s 2ms/step - loss: 0.6450 - accuracy: 0.6561 - val_loss: 2.9080 - val_accuracy: 0.3214\n",
            "Epoch 84/100\n",
            "503/503 [==============================] - 1s 2ms/step - loss: 0.6449 - accuracy: 0.6561 - val_loss: 2.9514 - val_accuracy: 0.2679\n",
            "Epoch 85/100\n",
            "503/503 [==============================] - 1s 2ms/step - loss: 0.6446 - accuracy: 0.6561 - val_loss: 2.7944 - val_accuracy: 0.3571\n",
            "Epoch 86/100\n",
            "503/503 [==============================] - 1s 2ms/step - loss: 0.6451 - accuracy: 0.6561 - val_loss: 2.8072 - val_accuracy: 0.3214\n",
            "Epoch 87/100\n",
            "503/503 [==============================] - 1s 2ms/step - loss: 0.6447 - accuracy: 0.6561 - val_loss: 2.6470 - val_accuracy: 0.3750\n",
            "Epoch 88/100\n",
            "503/503 [==============================] - 1s 2ms/step - loss: 0.6448 - accuracy: 0.6561 - val_loss: 2.8006 - val_accuracy: 0.3214\n",
            "Epoch 89/100\n",
            "503/503 [==============================] - 1s 2ms/step - loss: 0.6447 - accuracy: 0.6561 - val_loss: 2.8112 - val_accuracy: 0.3571\n",
            "Epoch 90/100\n",
            "503/503 [==============================] - 1s 2ms/step - loss: 0.6449 - accuracy: 0.6561 - val_loss: 2.7211 - val_accuracy: 0.2857\n",
            "Epoch 91/100\n",
            "503/503 [==============================] - 1s 2ms/step - loss: 0.6454 - accuracy: 0.6561 - val_loss: 2.7256 - val_accuracy: 0.2321\n",
            "Epoch 92/100\n",
            "503/503 [==============================] - 1s 2ms/step - loss: 0.6454 - accuracy: 0.6561 - val_loss: 2.6582 - val_accuracy: 0.3214\n",
            "Epoch 93/100\n",
            "503/503 [==============================] - 1s 2ms/step - loss: 0.6450 - accuracy: 0.6561 - val_loss: 2.7603 - val_accuracy: 0.2857\n",
            "Epoch 94/100\n",
            "503/503 [==============================] - 1s 2ms/step - loss: 0.6448 - accuracy: 0.6561 - val_loss: 2.7130 - val_accuracy: 0.2857\n",
            "Epoch 95/100\n",
            "503/503 [==============================] - 1s 2ms/step - loss: 0.6446 - accuracy: 0.6561 - val_loss: 2.8182 - val_accuracy: 0.2321\n",
            "Epoch 96/100\n",
            "503/503 [==============================] - 1s 2ms/step - loss: 0.6450 - accuracy: 0.6561 - val_loss: 2.6212 - val_accuracy: 0.3036\n",
            "Epoch 97/100\n",
            "503/503 [==============================] - 1s 2ms/step - loss: 0.6451 - accuracy: 0.6561 - val_loss: 2.5515 - val_accuracy: 0.3036\n",
            "Epoch 98/100\n",
            "503/503 [==============================] - 1s 2ms/step - loss: 0.6444 - accuracy: 0.6561 - val_loss: 2.6144 - val_accuracy: 0.2500\n",
            "Epoch 99/100\n",
            "503/503 [==============================] - 1s 2ms/step - loss: 0.6446 - accuracy: 0.6561 - val_loss: 2.5293 - val_accuracy: 0.3036\n",
            "Epoch 100/100\n",
            "503/503 [==============================] - 1s 2ms/step - loss: 0.6441 - accuracy: 0.6561 - val_loss: 2.5389 - val_accuracy: 0.3036\n"
          ]
        }
      ]
    },
    {
      "cell_type": "code",
      "metadata": {
        "id": "F27wXNLsD5lW",
        "colab": {
          "base_uri": "https://localhost:8080/",
          "height": 221
        },
        "outputId": "9ca6783d-d62b-44ea-95b6-c33503964254"
      },
      "source": [
        "hist = pd.DataFrame(history.history)\n",
        "hist['epoch'] = history.epoch\n",
        "hist.tail()\n"
      ],
      "execution_count": 30,
      "outputs": [
        {
          "output_type": "execute_result",
          "data": {
            "text/html": [
              "<div>\n",
              "<style scoped>\n",
              "    .dataframe tbody tr th:only-of-type {\n",
              "        vertical-align: middle;\n",
              "    }\n",
              "\n",
              "    .dataframe tbody tr th {\n",
              "        vertical-align: top;\n",
              "    }\n",
              "\n",
              "    .dataframe thead th {\n",
              "        text-align: right;\n",
              "    }\n",
              "</style>\n",
              "<table border=\"1\" class=\"dataframe\">\n",
              "  <thead>\n",
              "    <tr style=\"text-align: right;\">\n",
              "      <th></th>\n",
              "      <th>loss</th>\n",
              "      <th>accuracy</th>\n",
              "      <th>val_loss</th>\n",
              "      <th>val_accuracy</th>\n",
              "      <th>epoch</th>\n",
              "    </tr>\n",
              "  </thead>\n",
              "  <tbody>\n",
              "    <tr>\n",
              "      <th>95</th>\n",
              "      <td>0.644974</td>\n",
              "      <td>0.656064</td>\n",
              "      <td>2.621215</td>\n",
              "      <td>0.303571</td>\n",
              "      <td>95</td>\n",
              "    </tr>\n",
              "    <tr>\n",
              "      <th>96</th>\n",
              "      <td>0.645109</td>\n",
              "      <td>0.656064</td>\n",
              "      <td>2.551467</td>\n",
              "      <td>0.303571</td>\n",
              "      <td>96</td>\n",
              "    </tr>\n",
              "    <tr>\n",
              "      <th>97</th>\n",
              "      <td>0.644392</td>\n",
              "      <td>0.656064</td>\n",
              "      <td>2.614365</td>\n",
              "      <td>0.250000</td>\n",
              "      <td>97</td>\n",
              "    </tr>\n",
              "    <tr>\n",
              "      <th>98</th>\n",
              "      <td>0.644574</td>\n",
              "      <td>0.656064</td>\n",
              "      <td>2.529318</td>\n",
              "      <td>0.303571</td>\n",
              "      <td>98</td>\n",
              "    </tr>\n",
              "    <tr>\n",
              "      <th>99</th>\n",
              "      <td>0.644118</td>\n",
              "      <td>0.656064</td>\n",
              "      <td>2.538949</td>\n",
              "      <td>0.303571</td>\n",
              "      <td>99</td>\n",
              "    </tr>\n",
              "  </tbody>\n",
              "</table>\n",
              "</div>"
            ],
            "text/plain": [
              "        loss  accuracy  val_loss  val_accuracy  epoch\n",
              "95  0.644974  0.656064  2.621215      0.303571     95\n",
              "96  0.645109  0.656064  2.551467      0.303571     96\n",
              "97  0.644392  0.656064  2.614365      0.250000     97\n",
              "98  0.644574  0.656064  2.529318      0.303571     98\n",
              "99  0.644118  0.656064  2.538949      0.303571     99"
            ]
          },
          "metadata": {},
          "execution_count": 30
        }
      ]
    },
    {
      "cell_type": "code",
      "metadata": {
        "id": "r32zVkDAET_x",
        "colab": {
          "base_uri": "https://localhost:8080/",
          "height": 300
        },
        "outputId": "ed116b94-1424-4274-c20e-9282ee3f46b8"
      },
      "source": [
        "def plot_history(history):\n",
        "  hist = pd.DataFrame(history.history)\n",
        "  hist['epoch'] = history.epoch\n",
        "\n",
        "  plt.figure()\n",
        "  plt.xlabel('Epoch')\n",
        "  plt.ylabel('Accuracy')\n",
        "  plt.plot(hist['epoch'], hist['accuracy'],\n",
        "           label='Train Accuracy')\n",
        "  plt.plot(hist['epoch'], hist['val_accuracy'],\n",
        "           label = 'Val Accuracy')\n",
        "  plt.legend()\n",
        "  plt.show()\n",
        "\n",
        "plot_history(history)\n"
      ],
      "execution_count": 31,
      "outputs": [
        {
          "output_type": "display_data",
          "data": {
            "image/png": "[encoded data removed]",
            "text/plain": [
              "<Figure size 432x288 with 1 Axes>"
            ]
          },
          "metadata": {
            "needs_background": "light"
          }
        }
      ]
    },
    {
      "cell_type": "code",
      "metadata": {
        "id": "T1ZzB6TutAAh"
      },
      "source": [
        ""
      ],
      "execution_count": 31,
      "outputs": []
    }
  ]
}