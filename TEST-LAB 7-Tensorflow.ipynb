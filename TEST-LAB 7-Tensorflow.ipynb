{
 "cells": [
  {
   "cell_type": "code",
   "execution_count": 1,
   "id": "609dcbcd-4f5c-457c-80cb-430dc2f4883e",
   "metadata": {},
   "outputs": [
    {
     "name": "stdout",
     "output_type": "stream",
     "text": [
      "Executing query with job ID: 307f8aab-dfdf-443c-85f7-68bd0cfc7731\n",
      "Query executing: 0.50s\n",
      "Query complete after 0.84s\n"
     ]
    },
    {
     "name": "stderr",
     "output_type": "stream",
     "text": [
      "Query complete after 0.00s: 100%|██████████| 1/1 [00:00<00:00, 880.05query/s] \n",
      "Downloading: 100%|██████████| 134990/134990 [00:01<00:00, 94771.63rows/s]\n"
     ]
    }
   ],
   "source": [
    "%%bigquery flights_df --verbose\n",
    "SELECT date,\n",
    "       airline,\n",
    "       departure_airport,\n",
    "       arrival_airport,\n",
    "       departure_lat,\n",
    "       departure_lon,\n",
    "       arrival_lat,\n",
    "       arrival_lon,\n",
    "       departure_delay,\n",
    "       arrival_delay\n",
    "FROM `bigquery-samples.airline_ontime_data.flights`\n",
    "Where departure_airport = 'SFO' AND date >= '2009-01-01' AND date <= '2009-12-31'\n"
   ]
  },
  {
   "cell_type": "code",
   "execution_count": 2,
   "id": "b9e70341-a624-401b-9efa-3bf09d67b32f",
   "metadata": {},
   "outputs": [
    {
     "name": "stdout",
     "output_type": "stream",
     "text": [
      "(134990, 10)\n"
     ]
    },
    {
     "data": {
      "text/html": [
       "<div>\n",
       "<style scoped>\n",
       "    .dataframe tbody tr th:only-of-type {\n",
       "        vertical-align: middle;\n",
       "    }\n",
       "\n",
       "    .dataframe tbody tr th {\n",
       "        vertical-align: top;\n",
       "    }\n",
       "\n",
       "    .dataframe thead th {\n",
       "        text-align: right;\n",
       "    }\n",
       "</style>\n",
       "<table border=\"1\" class=\"dataframe\">\n",
       "  <thead>\n",
       "    <tr style=\"text-align: right;\">\n",
       "      <th></th>\n",
       "      <th>date</th>\n",
       "      <th>airline</th>\n",
       "      <th>departure_airport</th>\n",
       "      <th>arrival_airport</th>\n",
       "      <th>departure_lat</th>\n",
       "      <th>departure_lon</th>\n",
       "      <th>arrival_lat</th>\n",
       "      <th>arrival_lon</th>\n",
       "      <th>departure_delay</th>\n",
       "      <th>arrival_delay</th>\n",
       "    </tr>\n",
       "  </thead>\n",
       "  <tbody>\n",
       "    <tr>\n",
       "      <th>0</th>\n",
       "      <td>2009-03-19</td>\n",
       "      <td>B6</td>\n",
       "      <td>SFO</td>\n",
       "      <td>AUS</td>\n",
       "      <td>37.61</td>\n",
       "      <td>-122.37</td>\n",
       "      <td>30.19</td>\n",
       "      <td>-97.67</td>\n",
       "      <td>-5.0</td>\n",
       "      <td>-2.0</td>\n",
       "    </tr>\n",
       "    <tr>\n",
       "      <th>1</th>\n",
       "      <td>2009-03-18</td>\n",
       "      <td>B6</td>\n",
       "      <td>SFO</td>\n",
       "      <td>AUS</td>\n",
       "      <td>37.61</td>\n",
       "      <td>-122.37</td>\n",
       "      <td>30.19</td>\n",
       "      <td>-97.67</td>\n",
       "      <td>-10.0</td>\n",
       "      <td>-18.0</td>\n",
       "    </tr>\n",
       "    <tr>\n",
       "      <th>2</th>\n",
       "      <td>2009-03-20</td>\n",
       "      <td>B6</td>\n",
       "      <td>SFO</td>\n",
       "      <td>AUS</td>\n",
       "      <td>37.61</td>\n",
       "      <td>-122.37</td>\n",
       "      <td>30.19</td>\n",
       "      <td>-97.67</td>\n",
       "      <td>-4.0</td>\n",
       "      <td>-10.0</td>\n",
       "    </tr>\n",
       "    <tr>\n",
       "      <th>3</th>\n",
       "      <td>2009-03-21</td>\n",
       "      <td>B6</td>\n",
       "      <td>SFO</td>\n",
       "      <td>AUS</td>\n",
       "      <td>37.61</td>\n",
       "      <td>-122.37</td>\n",
       "      <td>30.19</td>\n",
       "      <td>-97.67</td>\n",
       "      <td>0.0</td>\n",
       "      <td>8.0</td>\n",
       "    </tr>\n",
       "    <tr>\n",
       "      <th>4</th>\n",
       "      <td>2009-03-22</td>\n",
       "      <td>B6</td>\n",
       "      <td>SFO</td>\n",
       "      <td>AUS</td>\n",
       "      <td>37.61</td>\n",
       "      <td>-122.37</td>\n",
       "      <td>30.19</td>\n",
       "      <td>-97.67</td>\n",
       "      <td>-5.0</td>\n",
       "      <td>-25.0</td>\n",
       "    </tr>\n",
       "  </tbody>\n",
       "</table>\n",
       "</div>"
      ],
      "text/plain": [
       "         date airline departure_airport arrival_airport  departure_lat  \\\n",
       "0  2009-03-19      B6               SFO             AUS          37.61   \n",
       "1  2009-03-18      B6               SFO             AUS          37.61   \n",
       "2  2009-03-20      B6               SFO             AUS          37.61   \n",
       "3  2009-03-21      B6               SFO             AUS          37.61   \n",
       "4  2009-03-22      B6               SFO             AUS          37.61   \n",
       "\n",
       "   departure_lon  arrival_lat  arrival_lon  departure_delay  arrival_delay  \n",
       "0        -122.37        30.19       -97.67             -5.0           -2.0  \n",
       "1        -122.37        30.19       -97.67            -10.0          -18.0  \n",
       "2        -122.37        30.19       -97.67             -4.0          -10.0  \n",
       "3        -122.37        30.19       -97.67              0.0            8.0  \n",
       "4        -122.37        30.19       -97.67             -5.0          -25.0  "
      ]
     },
     "execution_count": 2,
     "metadata": {},
     "output_type": "execute_result"
    }
   ],
   "source": [
    "import tensorflow as tf\n",
    "import numpy as np\n",
    "import pandas as pd\n",
    "import matplotlib.pyplot as plt\n",
    "\n",
    "\n",
    "print(flights_df.shape)\n",
    "\n",
    "flights_df.head()\n"
   ]
  },
  {
   "cell_type": "code",
   "execution_count": 3,
   "id": "20e9d0aa-0ee7-434b-96bd-f52cf383bb89",
   "metadata": {},
   "outputs": [
    {
     "data": {
      "text/plain": [
       "<AxesSubplot:xlabel='departure_delay', ylabel='arrival_delay'>"
      ]
     },
     "execution_count": 3,
     "metadata": {},
     "output_type": "execute_result"
    },
    {
     "data": {
      "image/png": "[encoded data removed]",
      "text/plain": [
       "<Figure size 432x288 with 1 Axes>"
      ]
     },
     "metadata": {
      "needs_background": "light"
     },
     "output_type": "display_data"
    }
   ],
   "source": [
    "flights_processed_df = (flights_df\n",
    "                        .query('1 <= departure_delay <= 120')\n",
    "                        .dropna()\n",
    "                        .filter(['departure_delay', 'arrival_delay'])\n",
    "                       )\n",
    "\n",
    "(flights_processed_df\n",
    " .sample(n=100, random_state = 123)\n",
    " .plot.scatter('departure_delay', 'arrival_delay'))\n"
   ]
  },
  {
   "cell_type": "code",
   "execution_count": 4,
   "id": "0e02249d-e2cc-48ec-bdf5-14891d4d670c",
   "metadata": {},
   "outputs": [],
   "source": [
    "train_df = flights_processed_df.sample(frac=0.8,random_state=123)\n",
    "test_df = flights_processed_df.drop(train_df.index)\n",
    "\n",
    "train_labels = train_df.pop('arrival_delay')\n",
    "test_labels = test_df.pop('arrival_delay')"
   ]
  },
  {
   "cell_type": "code",
   "execution_count": 5,
   "id": "0bf6b60a-8f40-4eb6-9b4d-33d29eb88bba",
   "metadata": {},
   "outputs": [
    {
     "name": "stdout",
     "output_type": "stream",
     "text": [
      "<class 'pandas.core.frame.DataFrame'>\n",
      "Int64Index: 38228 entries, 82669 to 21400\n",
      "Data columns (total 1 columns):\n",
      " #   Column           Non-Null Count  Dtype  \n",
      "---  ------           --------------  -----  \n",
      " 0   departure_delay  38228 non-null  float64\n",
      "dtypes: float64(1)\n",
      "memory usage: 597.3 KB\n"
     ]
    }
   ],
   "source": [
    "train_df.info()"
   ]
  },
  {
   "cell_type": "code",
   "execution_count": 11,
   "id": "b05ac153-1f7a-45ed-82a5-b119e22fef88",
   "metadata": {},
   "outputs": [
    {
     "data": {
      "text/plain": [
       "(38228, 1)"
      ]
     },
     "execution_count": 11,
     "metadata": {},
     "output_type": "execute_result"
    }
   ],
   "source": [
    "train_df.shape"
   ]
  },
  {
   "cell_type": "code",
   "execution_count": 6,
   "id": "8a9d88fe-2bdb-4c5d-bf3c-707ac82b7f24",
   "metadata": {},
   "outputs": [
    {
     "name": "stdout",
     "output_type": "stream",
     "text": [
      "Model: \"sequential\"\n",
      "_________________________________________________________________\n",
      "Layer (type)                 Output Shape              Param #   \n",
      "=================================================================\n",
      "dense (Dense)                (None, 1)                 2         \n",
      "=================================================================\n",
      "Total params: 2\n",
      "Trainable params: 2\n",
      "Non-trainable params: 0\n",
      "_________________________________________________________________\n"
     ]
    },
    {
     "name": "stderr",
     "output_type": "stream",
     "text": [
      "2021-11-24 07:39:06.774865: I tensorflow/core/platform/profile_utils/cpu_utils.cc:104] CPU Frequency: 2200220000 Hz\n",
      "2021-11-24 07:39:06.775853: I tensorflow/compiler/xla/service/service.cc:168] XLA service 0x561a84833f80 initialized for platform Host (this does not guarantee that XLA will be used). Devices:\n",
      "2021-11-24 07:39:06.775890: I tensorflow/compiler/xla/service/service.cc:176]   StreamExecutor device (0): Host, Default Version\n",
      "2021-11-24 07:39:06.776058: I tensorflow/core/common_runtime/process_util.cc:146] Creating new thread pool with default inter op setting: 2. Tune using inter_op_parallelism_threads for best performance.\n"
     ]
    }
   ],
   "source": [
    "tf.keras.backend.clear_session()\n",
    "\n",
    "model = tf.keras.models.Sequential([\n",
    "    \n",
    "    # Adds a densely-connected layer with 1 unit to the model:\n",
    "    tf.keras.layers.Dense(1, activation='linear', input_shape = [len(train_df.keys())])\n",
    "    \n",
    "])\n",
    "\n",
    "\n",
    "model.compile(optimizer=tf.keras.optimizers.RMSprop(),\n",
    "              loss='mean_squared_error',\n",
    "              metrics=['mean_absolute_error', 'mean_squared_error'],\n",
    "             )\n",
    "\n",
    "\n",
    "model.summary()\n"
   ]
  },
  {
   "cell_type": "code",
   "execution_count": 7,
   "id": "63f7d438-4a1b-433b-983b-1be67c9aca29",
   "metadata": {},
   "outputs": [
    {
     "name": "stdout",
     "output_type": "stream",
     "text": [
      "Epoch 1/10\n"
     ]
    },
    {
     "name": "stderr",
     "output_type": "stream",
     "text": [
      "2021-11-24 07:39:06.808189: I tensorflow/core/profiler/lib/profiler_session.cc:164] Profiler session started.\n"
     ]
    },
    {
     "name": "stdout",
     "output_type": "stream",
     "text": [
      "   1/1195 [..............................] - ETA: 0s - loss: 446.5667 - mean_absolute_error: 18.8717 - mean_squared_error: 446.5667WARNING:tensorflow:From /opt/conda/lib/python3.7/site-packages/tensorflow/python/ops/summary_ops_v2.py:1277: stop (from tensorflow.python.eager.profiler) is deprecated and will be removed after 2020-07-01.\n",
      "Instructions for updating:\n",
      "use `tf.profiler.experimental.stop` instead.\n",
      "WARNING:tensorflow:Callbacks method `on_train_batch_end` is slow compared to the batch time (batch time: 0.0055s vs `on_train_batch_end` time: 0.0175s). Check your callbacks.\n",
      "  63/1195 [>.............................] - ETA: 2s - loss: 506.4531 - mean_absolute_error: 17.8268 - mean_squared_error: 506.4531"
     ]
    },
    {
     "name": "stderr",
     "output_type": "stream",
     "text": [
      "2021-11-24 07:39:07.548725: I tensorflow/core/profiler/lib/profiler_session.cc:164] Profiler session started.\n",
      "2021-11-24 07:39:07.560701: I tensorflow/core/profiler/rpc/client/save_profile.cc:176] Creating directory: logs/simple-regression/train/plugins/profile/2021_11_24_07_39_07\n",
      "2021-11-24 07:39:07.562229: I tensorflow/core/profiler/rpc/client/save_profile.cc:182] Dumped gzipped tool data for trace.json.gz to logs/simple-regression/train/plugins/profile/2021_11_24_07_39_07/tensorflow-2-3-20211124-135420.trace.json.gz\n",
      "2021-11-24 07:39:07.566817: I tensorflow/core/profiler/rpc/client/save_profile.cc:176] Creating directory: logs/simple-regression/train/plugins/profile/2021_11_24_07_39_07\n",
      "2021-11-24 07:39:07.567126: I tensorflow/core/profiler/rpc/client/save_profile.cc:182] Dumped gzipped tool data for memory_profile.json.gz to logs/simple-regression/train/plugins/profile/2021_11_24_07_39_07/tensorflow-2-3-20211124-135420.memory_profile.json.gz\n",
      "2021-11-24 07:39:07.567533: I tensorflow/python/profiler/internal/profiler_wrapper.cc:111] Creating directory: logs/simple-regression/train/plugins/profile/2021_11_24_07_39_07Dumped tool data for xplane.pb to logs/simple-regression/train/plugins/profile/2021_11_24_07_39_07/tensorflow-2-3-20211124-135420.xplane.pb\n",
      "Dumped tool data for overview_page.pb to logs/simple-regression/train/plugins/profile/2021_11_24_07_39_07/tensorflow-2-3-20211124-135420.overview_page.pb\n",
      "Dumped tool data for input_pipeline.pb to logs/simple-regression/train/plugins/profile/2021_11_24_07_39_07/tensorflow-2-3-20211124-135420.input_pipeline.pb\n",
      "Dumped tool data for tensorflow_stats.pb to logs/simple-regression/train/plugins/profile/2021_11_24_07_39_07/tensorflow-2-3-20211124-135420.tensorflow_stats.pb\n",
      "Dumped tool data for kernel_stats.pb to logs/simple-regression/train/plugins/profile/2021_11_24_07_39_07/tensorflow-2-3-20211124-135420.kernel_stats.pb\n",
      "\n"
     ]
    },
    {
     "name": "stdout",
     "output_type": "stream",
     "text": [
      "1195/1195 [==============================] - 2s 2ms/step - loss: 225.6781 - mean_absolute_error: 11.2320 - mean_squared_error: 225.6781\n",
      "Epoch 2/10\n",
      "1195/1195 [==============================] - 2s 2ms/step - loss: 167.3015 - mean_absolute_error: 9.5143 - mean_squared_error: 167.3015\n",
      "Epoch 3/10\n",
      "1195/1195 [==============================] - 2s 2ms/step - loss: 164.3759 - mean_absolute_error: 9.3840 - mean_squared_error: 164.3759\n",
      "Epoch 4/10\n",
      "1195/1195 [==============================] - 2s 2ms/step - loss: 162.2658 - mean_absolute_error: 9.2842 - mean_squared_error: 162.2658\n",
      "Epoch 5/10\n",
      "1195/1195 [==============================] - 2s 2ms/step - loss: 160.8819 - mean_absolute_error: 9.2180 - mean_squared_error: 160.8819\n",
      "Epoch 6/10\n",
      "1195/1195 [==============================] - 2s 2ms/step - loss: 159.9850 - mean_absolute_error: 9.1718 - mean_squared_error: 159.9850\n",
      "Epoch 7/10\n",
      "1195/1195 [==============================] - 3s 3ms/step - loss: 159.4396 - mean_absolute_error: 9.1441 - mean_squared_error: 159.4396\n",
      "Epoch 8/10\n",
      "1195/1195 [==============================] - 2s 2ms/step - loss: 159.0949 - mean_absolute_error: 9.1236 - mean_squared_error: 159.0949\n",
      "Epoch 9/10\n",
      "1195/1195 [==============================] - 2s 2ms/step - loss: 158.8690 - mean_absolute_error: 9.1080 - mean_squared_error: 158.8690\n",
      "Epoch 10/10\n",
      "1195/1195 [==============================] - 2s 2ms/step - loss: 158.7533 - mean_absolute_error: 9.0982 - mean_squared_error: 158.7533\n"
     ]
    }
   ],
   "source": [
    "history = model.fit(train_df, train_labels, \n",
    "                    epochs=10,\n",
    "                    callbacks=[tf.keras.callbacks.TensorBoard(\"logs/simple-regression\")])"
   ]
  },
  {
   "cell_type": "code",
   "execution_count": 8,
   "id": "1f3056b7-35ed-4891-ab3b-9af369024328",
   "metadata": {},
   "outputs": [
    {
     "data": {
      "text/html": [
       "<div>\n",
       "<style scoped>\n",
       "    .dataframe tbody tr th:only-of-type {\n",
       "        vertical-align: middle;\n",
       "    }\n",
       "\n",
       "    .dataframe tbody tr th {\n",
       "        vertical-align: top;\n",
       "    }\n",
       "\n",
       "    .dataframe thead th {\n",
       "        text-align: right;\n",
       "    }\n",
       "</style>\n",
       "<table border=\"1\" class=\"dataframe\">\n",
       "  <thead>\n",
       "    <tr style=\"text-align: right;\">\n",
       "      <th></th>\n",
       "      <th>Predicted</th>\n",
       "      <th>Actual</th>\n",
       "    </tr>\n",
       "  </thead>\n",
       "  <tbody>\n",
       "    <tr>\n",
       "      <th>8</th>\n",
       "      <td>7.931259</td>\n",
       "      <td>7.0</td>\n",
       "    </tr>\n",
       "    <tr>\n",
       "      <th>18</th>\n",
       "      <td>18.822500</td>\n",
       "      <td>11.0</td>\n",
       "    </tr>\n",
       "    <tr>\n",
       "      <th>51</th>\n",
       "      <td>0.010357</td>\n",
       "      <td>-7.0</td>\n",
       "    </tr>\n",
       "    <tr>\n",
       "      <th>68</th>\n",
       "      <td>12.881823</td>\n",
       "      <td>31.0</td>\n",
       "    </tr>\n",
       "    <tr>\n",
       "      <th>94</th>\n",
       "      <td>82.189720</td>\n",
       "      <td>90.0</td>\n",
       "    </tr>\n",
       "  </tbody>\n",
       "</table>\n",
       "</div>"
      ],
      "text/plain": [
       "    Predicted  Actual\n",
       "8    7.931259     7.0\n",
       "18  18.822500    11.0\n",
       "51   0.010357    -7.0\n",
       "68  12.881823    31.0\n",
       "94  82.189720    90.0"
      ]
     },
     "execution_count": 8,
     "metadata": {},
     "output_type": "execute_result"
    }
   ],
   "source": [
    "test_predictions = model.predict(test_df).flatten()\n",
    "results_df = pd.DataFrame({'Predicted': test_predictions, 'Actual': test_labels})\n",
    "results_df.head(5)\n"
   ]
  },
  {
   "cell_type": "code",
   "execution_count": 9,
   "id": "e57ffff5-b0b3-4ecb-9fdd-3974487e1c80",
   "metadata": {},
   "outputs": [
    {
     "data": {
      "text/plain": [
       "<AxesSubplot:xlabel='Actual', ylabel='Predicted'>"
      ]
     },
     "execution_count": 9,
     "metadata": {},
     "output_type": "execute_result"
    },
    {
     "data": {
      "image/png": "[encoded data removed]",
      "text/plain": [
       "<Figure size 432x288 with 1 Axes>"
      ]
     },
     "metadata": {
      "needs_background": "light"
     },
     "output_type": "display_data"
    }
   ],
   "source": [
    "(results_df\n",
    " .sample(n=200, random_state = 123)\n",
    " .plot.scatter('Actual', 'Predicted')\n",
    ")"
   ]
  },
  {
   "cell_type": "code",
   "execution_count": 10,
   "id": "87bbe909-4ee3-4f69-9b1a-7edc0cdd5c03",
   "metadata": {},
   "outputs": [
    {
     "data": {
      "text/plain": [
       "9.087873803979248"
      ]
     },
     "execution_count": 10,
     "metadata": {},
     "output_type": "execute_result"
    },
    {
     "data": {
      "image/png": "[encoded data removed]",
      "text/plain": [
       "<Figure size 432x288 with 1 Axes>"
      ]
     },
     "metadata": {
      "needs_background": "light"
     },
     "output_type": "display_data"
    }
   ],
   "source": [
    "error = test_predictions - test_labels\n",
    "plt.hist(error, bins = 25)\n",
    "plt.xlabel(\"Prediction Error [Departure_Delay]\")\n",
    "_ = plt.ylabel(\"Count\")\n",
    "\n",
    "\n",
    "test_mae = abs(error).mean()\n",
    "\n",
    "test_mae\n"
   ]
  },
  {
   "cell_type": "code",
   "execution_count": null,
   "id": "77904f27-b709-40eb-adfd-bee5f83c4717",
   "metadata": {},
   "outputs": [],
   "source": []
  }
 ],
 "metadata": {
  "environment": {
   "kernel": "python3",
   "name": "tf2-gpu.2-3.m86",
   "type": "gcloud",
   "uri": "gcr.io/deeplearning-platform-release/tf2-gpu.2-3:m86"
  },
  "kernelspec": {
   "display_name": "Python 3",
   "language": "python",
   "name": "python3"
  },
  "language_info": {
   "codemirror_mode": {
    "name": "ipython",
    "version": 3
   },
   "file_extension": ".py",
   "mimetype": "text/x-python",
   "name": "python",
   "nbconvert_exporter": "python",
   "pygments_lexer": "ipython3",
   "version": "3.7.12"
  }
 },
 "nbformat": 4,
 "nbformat_minor": 5
}
