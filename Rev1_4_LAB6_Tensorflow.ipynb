{
  "nbformat": 4,
  "nbformat_minor": 0,
  "metadata": {
    "colab": {
      "name": "Rev1.4-LAB6-Tensorflow.ipynb",
      "provenance": [],
      "collapsed_sections": []
    },
    "kernelspec": {
      "name": "python3",
      "display_name": "Python 3"
    },
    "language_info": {
      "name": "python"
    }
  },
  "cells": [
    {
      "cell_type": "code",
      "metadata": {
        "id": "D8qPF7NyqwgW",
        "colab": {
          "base_uri": "https://localhost:8080/"
        },
        "outputId": "3b665202-adec-4c72-fe46-b77dad0a0851"
      },
      "source": [
        "!pip install seaborn\n",
        "\n",
        "from __future__ import absolute_import, division, print_function, unicode_literals\n",
        "\n",
        "import pathlib\n",
        "\n",
        "import matplotlib.pyplot as plt\n",
        "import numpy as np\n",
        "import pandas as pd\n",
        "import seaborn as sns\n"
      ],
      "execution_count": 1,
      "outputs": [
        {
          "output_type": "stream",
          "name": "stdout",
          "text": [
            "Requirement already satisfied: seaborn in /usr/local/lib/python3.7/dist-packages (0.11.2)\n",
            "Requirement already satisfied: pandas>=0.23 in /usr/local/lib/python3.7/dist-packages (from seaborn) (1.1.5)\n",
            "Requirement already satisfied: scipy>=1.0 in /usr/local/lib/python3.7/dist-packages (from seaborn) (1.4.1)\n",
            "Requirement already satisfied: numpy>=1.15 in /usr/local/lib/python3.7/dist-packages (from seaborn) (1.19.5)\n",
            "Requirement already satisfied: matplotlib>=2.2 in /usr/local/lib/python3.7/dist-packages (from seaborn) (3.2.2)\n",
            "Requirement already satisfied: python-dateutil>=2.1 in /usr/local/lib/python3.7/dist-packages (from matplotlib>=2.2->seaborn) (2.8.2)\n",
            "Requirement already satisfied: pyparsing!=2.0.4,!=2.1.2,!=2.1.6,>=2.0.1 in /usr/local/lib/python3.7/dist-packages (from matplotlib>=2.2->seaborn) (3.0.6)\n",
            "Requirement already satisfied: kiwisolver>=1.0.1 in /usr/local/lib/python3.7/dist-packages (from matplotlib>=2.2->seaborn) (1.3.2)\n",
            "Requirement already satisfied: cycler>=0.10 in /usr/local/lib/python3.7/dist-packages (from matplotlib>=2.2->seaborn) (0.11.0)\n",
            "Requirement already satisfied: pytz>=2017.2 in /usr/local/lib/python3.7/dist-packages (from pandas>=0.23->seaborn) (2018.9)\n",
            "Requirement already satisfied: six>=1.5 in /usr/local/lib/python3.7/dist-packages (from python-dateutil>=2.1->matplotlib>=2.2->seaborn) (1.15.0)\n"
          ]
        }
      ]
    },
    {
      "cell_type": "code",
      "metadata": {
        "colab": {
          "base_uri": "https://localhost:8080/"
        },
        "id": "rqY55Q39B4F2",
        "outputId": "c2f288d2-224a-48a8-8f97-7c27aa414d2c"
      },
      "source": [
        "import tensorflow as tf\n",
        "\n",
        "from tensorflow import keras\n",
        "from tensorflow.keras import layers\n",
        "\n",
        "print(tf.__version__)"
      ],
      "execution_count": 2,
      "outputs": [
        {
          "output_type": "stream",
          "name": "stdout",
          "text": [
            "2.7.0\n"
          ]
        }
      ]
    },
    {
      "cell_type": "markdown",
      "metadata": {
        "id": "B9MV-hzTUPWd"
      },
      "source": [
        "**1. Load raw data into Pandas dataframe**"
      ]
    },
    {
      "cell_type": "code",
      "metadata": {
        "id": "nuQmipHkDZvO"
      },
      "source": [
        "breast_cancer = 'https://archive.ics.uci.edu/ml/machine-learning-databases/breast-cancer-wisconsin/breast-cancer-wisconsin.data'"
      ],
      "execution_count": 3,
      "outputs": []
    },
    {
      "cell_type": "code",
      "metadata": {
        "id": "VJv8aSiKqyLr",
        "colab": {
          "base_uri": "https://localhost:8080/"
        },
        "outputId": "dafe9fdc-dcec-420e-b7a7-1b92e8629199"
      },
      "source": [
        "path = keras.utils.get_file(\"breast-cancer-wisconsin.data\",breast_cancer)\n"
      ],
      "execution_count": 4,
      "outputs": [
        {
          "output_type": "stream",
          "name": "stdout",
          "text": [
            "Downloading data from https://archive.ics.uci.edu/ml/machine-learning-databases/breast-cancer-wisconsin/breast-cancer-wisconsin.data\n",
            "24576/19889 [=====================================] - 0s 0us/step\n",
            "32768/19889 [=================================================] - 0s 0us/step\n"
          ]
        }
      ]
    },
    {
      "cell_type": "code",
      "metadata": {
        "id": "kfMJmg9kq1Tq"
      },
      "source": [
        "columns = ['sample_code', 'clump_thickness', 'cell_size_uniformity',\n",
        "           'cell_shape_uniformity',\n",
        "           'marginal_adhesion', 'single_epithelial_cell_size',\n",
        "           'bare_nuclei', 'bland_chromatin',\n",
        "           'normal_nucleoli', 'mitoses', 'class']\n",
        "raw_pd = pd.read_csv(path, header=None, names=columns, na_values=[np.nan, '?'])### เนื่องจาก Meaning ของข้อมูลเป็น numerical type จึงใช้ na_value ตรวจหาและแทนทีค่าใน list ด้วย NULL เพื่อให้ dataframe เป็น numerical type ทังหมด\n"
      ],
      "execution_count": 5,
      "outputs": []
    },
    {
      "cell_type": "code",
      "metadata": {
        "id": "Zp6w7xX1UZa-"
      },
      "source": [
        ""
      ],
      "execution_count": 5,
      "outputs": []
    },
    {
      "cell_type": "markdown",
      "metadata": {
        "id": "pfn1Gp_kUaHv"
      },
      "source": [
        "**2.Look for NULL values and treat them**"
      ]
    },
    {
      "cell_type": "code",
      "metadata": {
        "id": "G1XUq4TJsSyL",
        "colab": {
          "base_uri": "https://localhost:8080/"
        },
        "outputId": "e8539f00-3a0b-499c-8519-05f88a2b1f80"
      },
      "source": [
        "raw_pd.info()"
      ],
      "execution_count": 6,
      "outputs": [
        {
          "output_type": "stream",
          "name": "stdout",
          "text": [
            "<class 'pandas.core.frame.DataFrame'>\n",
            "RangeIndex: 699 entries, 0 to 698\n",
            "Data columns (total 11 columns):\n",
            " #   Column                       Non-Null Count  Dtype  \n",
            "---  ------                       --------------  -----  \n",
            " 0   sample_code                  699 non-null    int64  \n",
            " 1   clump_thickness              699 non-null    int64  \n",
            " 2   cell_size_uniformity         699 non-null    int64  \n",
            " 3   cell_shape_uniformity        699 non-null    int64  \n",
            " 4   marginal_adhesion            699 non-null    int64  \n",
            " 5   single_epithelial_cell_size  699 non-null    int64  \n",
            " 6   bare_nuclei                  683 non-null    float64\n",
            " 7   bland_chromatin              699 non-null    int64  \n",
            " 8   normal_nucleoli              699 non-null    int64  \n",
            " 9   mitoses                      699 non-null    int64  \n",
            " 10  class                        699 non-null    int64  \n",
            "dtypes: float64(1), int64(10)\n",
            "memory usage: 60.2 KB\n"
          ]
        }
      ]
    },
    {
      "cell_type": "code",
      "metadata": {
        "id": "bz577XGyq-0X",
        "colab": {
          "base_uri": "https://localhost:8080/"
        },
        "outputId": "7e86e57f-10ec-4d39-e875-8678c64928a2"
      },
      "source": [
        "raw_pd.isnull().sum()"
      ],
      "execution_count": 7,
      "outputs": [
        {
          "output_type": "execute_result",
          "data": {
            "text/plain": [
              "sample_code                     0\n",
              "clump_thickness                 0\n",
              "cell_size_uniformity            0\n",
              "cell_shape_uniformity           0\n",
              "marginal_adhesion               0\n",
              "single_epithelial_cell_size     0\n",
              "bare_nuclei                    16\n",
              "bland_chromatin                 0\n",
              "normal_nucleoli                 0\n",
              "mitoses                         0\n",
              "class                           0\n",
              "dtype: int64"
            ]
          },
          "metadata": {},
          "execution_count": 7
        }
      ]
    },
    {
      "cell_type": "code",
      "metadata": {
        "id": "BW4k49GIrPev",
        "colab": {
          "base_uri": "https://localhost:8080/"
        },
        "outputId": "0f7997ba-0fee-4c6b-f618-9a97952eef10"
      },
      "source": [
        "raw_pd.shape"
      ],
      "execution_count": 8,
      "outputs": [
        {
          "output_type": "execute_result",
          "data": {
            "text/plain": [
              "(699, 11)"
            ]
          },
          "metadata": {},
          "execution_count": 8
        }
      ]
    },
    {
      "cell_type": "code",
      "metadata": {
        "id": "GgXpDSOrrXFH",
        "colab": {
          "base_uri": "https://localhost:8080/",
          "height": 221
        },
        "outputId": "85f82fb0-8461-4135-b85c-5f44f60f2b34"
      },
      "source": [
        "raw_pd.loc[raw_pd['bare_nuclei'].isnull(),['bare_nuclei']].tail(5)"
      ],
      "execution_count": 9,
      "outputs": [
        {
          "output_type": "execute_result",
          "data": {
            "text/html": [
              "<div>\n",
              "<style scoped>\n",
              "    .dataframe tbody tr th:only-of-type {\n",
              "        vertical-align: middle;\n",
              "    }\n",
              "\n",
              "    .dataframe tbody tr th {\n",
              "        vertical-align: top;\n",
              "    }\n",
              "\n",
              "    .dataframe thead th {\n",
              "        text-align: right;\n",
              "    }\n",
              "</style>\n",
              "<table border=\"1\" class=\"dataframe\">\n",
              "  <thead>\n",
              "    <tr style=\"text-align: right;\">\n",
              "      <th></th>\n",
              "      <th>bare_nuclei</th>\n",
              "    </tr>\n",
              "  </thead>\n",
              "  <tbody>\n",
              "    <tr>\n",
              "      <th>297</th>\n",
              "      <td>NaN</td>\n",
              "    </tr>\n",
              "    <tr>\n",
              "      <th>315</th>\n",
              "      <td>NaN</td>\n",
              "    </tr>\n",
              "    <tr>\n",
              "      <th>321</th>\n",
              "      <td>NaN</td>\n",
              "    </tr>\n",
              "    <tr>\n",
              "      <th>411</th>\n",
              "      <td>NaN</td>\n",
              "    </tr>\n",
              "    <tr>\n",
              "      <th>617</th>\n",
              "      <td>NaN</td>\n",
              "    </tr>\n",
              "  </tbody>\n",
              "</table>\n",
              "</div>"
            ],
            "text/plain": [
              "     bare_nuclei\n",
              "297          NaN\n",
              "315          NaN\n",
              "321          NaN\n",
              "411          NaN\n",
              "617          NaN"
            ]
          },
          "metadata": {},
          "execution_count": 9
        }
      ]
    },
    {
      "cell_type": "code",
      "metadata": {
        "colab": {
          "base_uri": "https://localhost:8080/"
        },
        "id": "6_XAPQ3sU1A1",
        "outputId": "eafcfe6e-4cc1-4e16-e8ab-1dc043a14280"
      },
      "source": [
        "raw_pd.median()"
      ],
      "execution_count": 10,
      "outputs": [
        {
          "output_type": "execute_result",
          "data": {
            "text/plain": [
              "sample_code                    1171710.0\n",
              "clump_thickness                      4.0\n",
              "cell_size_uniformity                 1.0\n",
              "cell_shape_uniformity                1.0\n",
              "marginal_adhesion                    1.0\n",
              "single_epithelial_cell_size          2.0\n",
              "bare_nuclei                          1.0\n",
              "bland_chromatin                      3.0\n",
              "normal_nucleoli                      1.0\n",
              "mitoses                              1.0\n",
              "class                                2.0\n",
              "dtype: float64"
            ]
          },
          "metadata": {},
          "execution_count": 10
        }
      ]
    },
    {
      "cell_type": "code",
      "metadata": {
        "id": "PD_n5iftriAo"
      },
      "source": [
        "raw_pd = raw_pd.fillna(raw_pd.median())"
      ],
      "execution_count": 11,
      "outputs": []
    },
    {
      "cell_type": "markdown",
      "metadata": {
        "id": "1oasebHkWRTP"
      },
      "source": [
        "**3. Other Data Preparation - Labeling**"
      ]
    },
    {
      "cell_type": "code",
      "metadata": {
        "id": "EyTjVA87zipz",
        "colab": {
          "base_uri": "https://localhost:8080/",
          "height": 405
        },
        "outputId": "2fca4b29-4486-41e2-932a-e2466f65b0c9"
      },
      "source": [
        "raw_pd.describe().transpose()"
      ],
      "execution_count": 12,
      "outputs": [
        {
          "output_type": "execute_result",
          "data": {
            "text/html": [
              "<div>\n",
              "<style scoped>\n",
              "    .dataframe tbody tr th:only-of-type {\n",
              "        vertical-align: middle;\n",
              "    }\n",
              "\n",
              "    .dataframe tbody tr th {\n",
              "        vertical-align: top;\n",
              "    }\n",
              "\n",
              "    .dataframe thead th {\n",
              "        text-align: right;\n",
              "    }\n",
              "</style>\n",
              "<table border=\"1\" class=\"dataframe\">\n",
              "  <thead>\n",
              "    <tr style=\"text-align: right;\">\n",
              "      <th></th>\n",
              "      <th>count</th>\n",
              "      <th>mean</th>\n",
              "      <th>std</th>\n",
              "      <th>min</th>\n",
              "      <th>25%</th>\n",
              "      <th>50%</th>\n",
              "      <th>75%</th>\n",
              "      <th>max</th>\n",
              "    </tr>\n",
              "  </thead>\n",
              "  <tbody>\n",
              "    <tr>\n",
              "      <th>sample_code</th>\n",
              "      <td>699.0</td>\n",
              "      <td>1.071704e+06</td>\n",
              "      <td>617095.729819</td>\n",
              "      <td>61634.0</td>\n",
              "      <td>870688.5</td>\n",
              "      <td>1171710.0</td>\n",
              "      <td>1238298.0</td>\n",
              "      <td>13454352.0</td>\n",
              "    </tr>\n",
              "    <tr>\n",
              "      <th>clump_thickness</th>\n",
              "      <td>699.0</td>\n",
              "      <td>4.417740e+00</td>\n",
              "      <td>2.815741</td>\n",
              "      <td>1.0</td>\n",
              "      <td>2.0</td>\n",
              "      <td>4.0</td>\n",
              "      <td>6.0</td>\n",
              "      <td>10.0</td>\n",
              "    </tr>\n",
              "    <tr>\n",
              "      <th>cell_size_uniformity</th>\n",
              "      <td>699.0</td>\n",
              "      <td>3.134478e+00</td>\n",
              "      <td>3.051459</td>\n",
              "      <td>1.0</td>\n",
              "      <td>1.0</td>\n",
              "      <td>1.0</td>\n",
              "      <td>5.0</td>\n",
              "      <td>10.0</td>\n",
              "    </tr>\n",
              "    <tr>\n",
              "      <th>cell_shape_uniformity</th>\n",
              "      <td>699.0</td>\n",
              "      <td>3.207439e+00</td>\n",
              "      <td>2.971913</td>\n",
              "      <td>1.0</td>\n",
              "      <td>1.0</td>\n",
              "      <td>1.0</td>\n",
              "      <td>5.0</td>\n",
              "      <td>10.0</td>\n",
              "    </tr>\n",
              "    <tr>\n",
              "      <th>marginal_adhesion</th>\n",
              "      <td>699.0</td>\n",
              "      <td>2.806867e+00</td>\n",
              "      <td>2.855379</td>\n",
              "      <td>1.0</td>\n",
              "      <td>1.0</td>\n",
              "      <td>1.0</td>\n",
              "      <td>4.0</td>\n",
              "      <td>10.0</td>\n",
              "    </tr>\n",
              "    <tr>\n",
              "      <th>single_epithelial_cell_size</th>\n",
              "      <td>699.0</td>\n",
              "      <td>3.216023e+00</td>\n",
              "      <td>2.214300</td>\n",
              "      <td>1.0</td>\n",
              "      <td>2.0</td>\n",
              "      <td>2.0</td>\n",
              "      <td>4.0</td>\n",
              "      <td>10.0</td>\n",
              "    </tr>\n",
              "    <tr>\n",
              "      <th>bare_nuclei</th>\n",
              "      <td>699.0</td>\n",
              "      <td>3.486409e+00</td>\n",
              "      <td>3.621929</td>\n",
              "      <td>1.0</td>\n",
              "      <td>1.0</td>\n",
              "      <td>1.0</td>\n",
              "      <td>5.0</td>\n",
              "      <td>10.0</td>\n",
              "    </tr>\n",
              "    <tr>\n",
              "      <th>bland_chromatin</th>\n",
              "      <td>699.0</td>\n",
              "      <td>3.437768e+00</td>\n",
              "      <td>2.438364</td>\n",
              "      <td>1.0</td>\n",
              "      <td>2.0</td>\n",
              "      <td>3.0</td>\n",
              "      <td>5.0</td>\n",
              "      <td>10.0</td>\n",
              "    </tr>\n",
              "    <tr>\n",
              "      <th>normal_nucleoli</th>\n",
              "      <td>699.0</td>\n",
              "      <td>2.866953e+00</td>\n",
              "      <td>3.053634</td>\n",
              "      <td>1.0</td>\n",
              "      <td>1.0</td>\n",
              "      <td>1.0</td>\n",
              "      <td>4.0</td>\n",
              "      <td>10.0</td>\n",
              "    </tr>\n",
              "    <tr>\n",
              "      <th>mitoses</th>\n",
              "      <td>699.0</td>\n",
              "      <td>1.589413e+00</td>\n",
              "      <td>1.715078</td>\n",
              "      <td>1.0</td>\n",
              "      <td>1.0</td>\n",
              "      <td>1.0</td>\n",
              "      <td>1.0</td>\n",
              "      <td>10.0</td>\n",
              "    </tr>\n",
              "    <tr>\n",
              "      <th>class</th>\n",
              "      <td>699.0</td>\n",
              "      <td>2.689557e+00</td>\n",
              "      <td>0.951273</td>\n",
              "      <td>2.0</td>\n",
              "      <td>2.0</td>\n",
              "      <td>2.0</td>\n",
              "      <td>4.0</td>\n",
              "      <td>4.0</td>\n",
              "    </tr>\n",
              "  </tbody>\n",
              "</table>\n",
              "</div>"
            ],
            "text/plain": [
              "                             count          mean  ...        75%         max\n",
              "sample_code                  699.0  1.071704e+06  ...  1238298.0  13454352.0\n",
              "clump_thickness              699.0  4.417740e+00  ...        6.0        10.0\n",
              "cell_size_uniformity         699.0  3.134478e+00  ...        5.0        10.0\n",
              "cell_shape_uniformity        699.0  3.207439e+00  ...        5.0        10.0\n",
              "marginal_adhesion            699.0  2.806867e+00  ...        4.0        10.0\n",
              "single_epithelial_cell_size  699.0  3.216023e+00  ...        4.0        10.0\n",
              "bare_nuclei                  699.0  3.486409e+00  ...        5.0        10.0\n",
              "bland_chromatin              699.0  3.437768e+00  ...        5.0        10.0\n",
              "normal_nucleoli              699.0  2.866953e+00  ...        4.0        10.0\n",
              "mitoses                      699.0  1.589413e+00  ...        1.0        10.0\n",
              "class                        699.0  2.689557e+00  ...        4.0         4.0\n",
              "\n",
              "[11 rows x 8 columns]"
            ]
          },
          "metadata": {},
          "execution_count": 12
        }
      ]
    },
    {
      "cell_type": "code",
      "metadata": {
        "id": "npQL5i3X0iVH",
        "colab": {
          "base_uri": "https://localhost:8080/",
          "height": 160
        },
        "outputId": "c8c4b4b6-592a-403c-d7dd-25ca843e76ff"
      },
      "source": [
        "raw_pd.groupby(['class']).count()"
      ],
      "execution_count": 13,
      "outputs": [
        {
          "output_type": "execute_result",
          "data": {
            "text/html": [
              "<div>\n",
              "<style scoped>\n",
              "    .dataframe tbody tr th:only-of-type {\n",
              "        vertical-align: middle;\n",
              "    }\n",
              "\n",
              "    .dataframe tbody tr th {\n",
              "        vertical-align: top;\n",
              "    }\n",
              "\n",
              "    .dataframe thead th {\n",
              "        text-align: right;\n",
              "    }\n",
              "</style>\n",
              "<table border=\"1\" class=\"dataframe\">\n",
              "  <thead>\n",
              "    <tr style=\"text-align: right;\">\n",
              "      <th></th>\n",
              "      <th>sample_code</th>\n",
              "      <th>clump_thickness</th>\n",
              "      <th>cell_size_uniformity</th>\n",
              "      <th>cell_shape_uniformity</th>\n",
              "      <th>marginal_adhesion</th>\n",
              "      <th>single_epithelial_cell_size</th>\n",
              "      <th>bare_nuclei</th>\n",
              "      <th>bland_chromatin</th>\n",
              "      <th>normal_nucleoli</th>\n",
              "      <th>mitoses</th>\n",
              "    </tr>\n",
              "    <tr>\n",
              "      <th>class</th>\n",
              "      <th></th>\n",
              "      <th></th>\n",
              "      <th></th>\n",
              "      <th></th>\n",
              "      <th></th>\n",
              "      <th></th>\n",
              "      <th></th>\n",
              "      <th></th>\n",
              "      <th></th>\n",
              "      <th></th>\n",
              "    </tr>\n",
              "  </thead>\n",
              "  <tbody>\n",
              "    <tr>\n",
              "      <th>2</th>\n",
              "      <td>458</td>\n",
              "      <td>458</td>\n",
              "      <td>458</td>\n",
              "      <td>458</td>\n",
              "      <td>458</td>\n",
              "      <td>458</td>\n",
              "      <td>458</td>\n",
              "      <td>458</td>\n",
              "      <td>458</td>\n",
              "      <td>458</td>\n",
              "    </tr>\n",
              "    <tr>\n",
              "      <th>4</th>\n",
              "      <td>241</td>\n",
              "      <td>241</td>\n",
              "      <td>241</td>\n",
              "      <td>241</td>\n",
              "      <td>241</td>\n",
              "      <td>241</td>\n",
              "      <td>241</td>\n",
              "      <td>241</td>\n",
              "      <td>241</td>\n",
              "      <td>241</td>\n",
              "    </tr>\n",
              "  </tbody>\n",
              "</table>\n",
              "</div>"
            ],
            "text/plain": [
              "       sample_code  clump_thickness  ...  normal_nucleoli  mitoses\n",
              "class                                ...                          \n",
              "2              458              458  ...              458      458\n",
              "4              241              241  ...              241      241\n",
              "\n",
              "[2 rows x 10 columns]"
            ]
          },
          "metadata": {},
          "execution_count": 13
        }
      ]
    },
    {
      "cell_type": "code",
      "metadata": {
        "id": "OHwcvKof3x7E"
      },
      "source": [
        "raw_pd['label'] = (raw_pd['class']==4).astype(int) ### สร้าง Column ใหม่ขึ้นมาเป็น Label ให้มีค่าเป็น 0,1 ซึ่ง 1 คือ Malignant (ค่า 4 เดิม)"
      ],
      "execution_count": 14,
      "outputs": []
    },
    {
      "cell_type": "code",
      "metadata": {
        "id": "pvEbZo0e5NH6",
        "colab": {
          "base_uri": "https://localhost:8080/",
          "height": 160
        },
        "outputId": "4eefa932-0d4a-4fb7-bfe8-0222f5de90d1"
      },
      "source": [
        "raw_pd.groupby(['class','label']).count()"
      ],
      "execution_count": 15,
      "outputs": [
        {
          "output_type": "execute_result",
          "data": {
            "text/html": [
              "<div>\n",
              "<style scoped>\n",
              "    .dataframe tbody tr th:only-of-type {\n",
              "        vertical-align: middle;\n",
              "    }\n",
              "\n",
              "    .dataframe tbody tr th {\n",
              "        vertical-align: top;\n",
              "    }\n",
              "\n",
              "    .dataframe thead th {\n",
              "        text-align: right;\n",
              "    }\n",
              "</style>\n",
              "<table border=\"1\" class=\"dataframe\">\n",
              "  <thead>\n",
              "    <tr style=\"text-align: right;\">\n",
              "      <th></th>\n",
              "      <th></th>\n",
              "      <th>sample_code</th>\n",
              "      <th>clump_thickness</th>\n",
              "      <th>cell_size_uniformity</th>\n",
              "      <th>cell_shape_uniformity</th>\n",
              "      <th>marginal_adhesion</th>\n",
              "      <th>single_epithelial_cell_size</th>\n",
              "      <th>bare_nuclei</th>\n",
              "      <th>bland_chromatin</th>\n",
              "      <th>normal_nucleoli</th>\n",
              "      <th>mitoses</th>\n",
              "    </tr>\n",
              "    <tr>\n",
              "      <th>class</th>\n",
              "      <th>label</th>\n",
              "      <th></th>\n",
              "      <th></th>\n",
              "      <th></th>\n",
              "      <th></th>\n",
              "      <th></th>\n",
              "      <th></th>\n",
              "      <th></th>\n",
              "      <th></th>\n",
              "      <th></th>\n",
              "      <th></th>\n",
              "    </tr>\n",
              "  </thead>\n",
              "  <tbody>\n",
              "    <tr>\n",
              "      <th>2</th>\n",
              "      <th>0</th>\n",
              "      <td>458</td>\n",
              "      <td>458</td>\n",
              "      <td>458</td>\n",
              "      <td>458</td>\n",
              "      <td>458</td>\n",
              "      <td>458</td>\n",
              "      <td>458</td>\n",
              "      <td>458</td>\n",
              "      <td>458</td>\n",
              "      <td>458</td>\n",
              "    </tr>\n",
              "    <tr>\n",
              "      <th>4</th>\n",
              "      <th>1</th>\n",
              "      <td>241</td>\n",
              "      <td>241</td>\n",
              "      <td>241</td>\n",
              "      <td>241</td>\n",
              "      <td>241</td>\n",
              "      <td>241</td>\n",
              "      <td>241</td>\n",
              "      <td>241</td>\n",
              "      <td>241</td>\n",
              "      <td>241</td>\n",
              "    </tr>\n",
              "  </tbody>\n",
              "</table>\n",
              "</div>"
            ],
            "text/plain": [
              "             sample_code  clump_thickness  ...  normal_nucleoli  mitoses\n",
              "class label                                ...                          \n",
              "2     0              458              458  ...              458      458\n",
              "4     1              241              241  ...              241      241\n",
              "\n",
              "[2 rows x 10 columns]"
            ]
          },
          "metadata": {},
          "execution_count": 15
        }
      ]
    },
    {
      "cell_type": "markdown",
      "metadata": {
        "id": "7WlUk0nrW0hS"
      },
      "source": [
        "**4. Split data into Training set and Testing set**"
      ]
    },
    {
      "cell_type": "code",
      "metadata": {
        "id": "7kQzo2jAzL8U"
      },
      "source": [
        "x_train = raw_pd.sample(frac=0.8).copy()"
      ],
      "execution_count": 16,
      "outputs": []
    },
    {
      "cell_type": "code",
      "metadata": {
        "id": "DPPVSKYVcwGa"
      },
      "source": [
        "x_test = raw_pd.drop(x_train.index)"
      ],
      "execution_count": 17,
      "outputs": []
    },
    {
      "cell_type": "code",
      "metadata": {
        "id": "N7VjFMaIcytE"
      },
      "source": [
        ""
      ],
      "execution_count": 17,
      "outputs": []
    },
    {
      "cell_type": "markdown",
      "metadata": {
        "id": "j2JeE1SreDZx"
      },
      "source": [
        "**5. Separate Label from Features**"
      ]
    },
    {
      "cell_type": "code",
      "metadata": {
        "id": "2fuv8CJGzOSZ"
      },
      "source": [
        "y_train = x_train['label']"
      ],
      "execution_count": 18,
      "outputs": []
    },
    {
      "cell_type": "code",
      "metadata": {
        "id": "a-av6HOtZ4Gk"
      },
      "source": [
        "x_train.drop(['sample_code', 'class','label'], axis=1, inplace=True)"
      ],
      "execution_count": 19,
      "outputs": []
    },
    {
      "cell_type": "code",
      "metadata": {
        "id": "lyv_T94j180B",
        "colab": {
          "base_uri": "https://localhost:8080/"
        },
        "outputId": "8457f1e3-5a48-4a21-dcf0-ee4aab0bfe99"
      },
      "source": [
        "x_train.info()"
      ],
      "execution_count": 20,
      "outputs": [
        {
          "output_type": "stream",
          "name": "stdout",
          "text": [
            "<class 'pandas.core.frame.DataFrame'>\n",
            "Int64Index: 559 entries, 181 to 404\n",
            "Data columns (total 9 columns):\n",
            " #   Column                       Non-Null Count  Dtype  \n",
            "---  ------                       --------------  -----  \n",
            " 0   clump_thickness              559 non-null    int64  \n",
            " 1   cell_size_uniformity         559 non-null    int64  \n",
            " 2   cell_shape_uniformity        559 non-null    int64  \n",
            " 3   marginal_adhesion            559 non-null    int64  \n",
            " 4   single_epithelial_cell_size  559 non-null    int64  \n",
            " 5   bare_nuclei                  559 non-null    float64\n",
            " 6   bland_chromatin              559 non-null    int64  \n",
            " 7   normal_nucleoli              559 non-null    int64  \n",
            " 8   mitoses                      559 non-null    int64  \n",
            "dtypes: float64(1), int64(8)\n",
            "memory usage: 43.7 KB\n"
          ]
        }
      ]
    },
    {
      "cell_type": "code",
      "metadata": {
        "id": "Wn-_4ZKN192A",
        "colab": {
          "base_uri": "https://localhost:8080/"
        },
        "outputId": "bc666553-718c-4f49-fe60-081b39cd9ff5"
      },
      "source": [
        "x_train.shape"
      ],
      "execution_count": 21,
      "outputs": [
        {
          "output_type": "execute_result",
          "data": {
            "text/plain": [
              "(559, 9)"
            ]
          },
          "metadata": {},
          "execution_count": 21
        }
      ]
    },
    {
      "cell_type": "code",
      "metadata": {
        "id": "x9D7Pbbn1g1Q",
        "colab": {
          "base_uri": "https://localhost:8080/"
        },
        "outputId": "2f0d80e9-a1f3-4d5e-f010-95a1cb27d572"
      },
      "source": [
        "y_train.shape"
      ],
      "execution_count": 22,
      "outputs": [
        {
          "output_type": "execute_result",
          "data": {
            "text/plain": [
              "(559,)"
            ]
          },
          "metadata": {},
          "execution_count": 22
        }
      ]
    },
    {
      "cell_type": "code",
      "metadata": {
        "id": "ZAkMa_Ub9W1Q"
      },
      "source": [
        ""
      ],
      "execution_count": 22,
      "outputs": []
    },
    {
      "cell_type": "code",
      "metadata": {
        "id": "B8Ov5VOM2WcX"
      },
      "source": [
        "y_test = x_test['label']\n",
        "x_test.drop(['sample_code', 'class','label'], axis=1, inplace=True)"
      ],
      "execution_count": 23,
      "outputs": []
    },
    {
      "cell_type": "code",
      "metadata": {
        "id": "-mlVnwob8jht",
        "colab": {
          "base_uri": "https://localhost:8080/"
        },
        "outputId": "be09275e-1726-4d0a-c472-0b8afebd0325"
      },
      "source": [
        "x_test.info()"
      ],
      "execution_count": 24,
      "outputs": [
        {
          "output_type": "stream",
          "name": "stdout",
          "text": [
            "<class 'pandas.core.frame.DataFrame'>\n",
            "Int64Index: 140 entries, 4 to 698\n",
            "Data columns (total 9 columns):\n",
            " #   Column                       Non-Null Count  Dtype  \n",
            "---  ------                       --------------  -----  \n",
            " 0   clump_thickness              140 non-null    int64  \n",
            " 1   cell_size_uniformity         140 non-null    int64  \n",
            " 2   cell_shape_uniformity        140 non-null    int64  \n",
            " 3   marginal_adhesion            140 non-null    int64  \n",
            " 4   single_epithelial_cell_size  140 non-null    int64  \n",
            " 5   bare_nuclei                  140 non-null    float64\n",
            " 6   bland_chromatin              140 non-null    int64  \n",
            " 7   normal_nucleoli              140 non-null    int64  \n",
            " 8   mitoses                      140 non-null    int64  \n",
            "dtypes: float64(1), int64(8)\n",
            "memory usage: 10.9 KB\n"
          ]
        }
      ]
    },
    {
      "cell_type": "code",
      "metadata": {
        "id": "HNOxa0_s8pL4",
        "colab": {
          "base_uri": "https://localhost:8080/"
        },
        "outputId": "820baca7-d642-4b3d-c12a-981f14c03e28"
      },
      "source": [
        "x_test.shape"
      ],
      "execution_count": 25,
      "outputs": [
        {
          "output_type": "execute_result",
          "data": {
            "text/plain": [
              "(140, 9)"
            ]
          },
          "metadata": {},
          "execution_count": 25
        }
      ]
    },
    {
      "cell_type": "code",
      "metadata": {
        "colab": {
          "base_uri": "https://localhost:8080/"
        },
        "id": "cIkwWUP7bn-1",
        "outputId": "b06dc163-e74c-4385-894f-5b7b1231a3c2"
      },
      "source": [
        "y_test.shape"
      ],
      "execution_count": 26,
      "outputs": [
        {
          "output_type": "execute_result",
          "data": {
            "text/plain": [
              "(140,)"
            ]
          },
          "metadata": {},
          "execution_count": 26
        }
      ]
    },
    {
      "cell_type": "markdown",
      "metadata": {
        "id": "XyU7b5XQeVjy"
      },
      "source": [
        "**6. Designing a neural network for model training**"
      ]
    },
    {
      "cell_type": "code",
      "metadata": {
        "id": "uvAtMEel_2uP"
      },
      "source": [
        "def build_model():\n",
        "  model = keras.Sequential([\n",
        "    layers.Dense(9, activation='sigmoid',\n",
        "                 input_shape=(9,)),\n",
        "    layers.Dense(9, activation='sigmoid'),\n",
        "    layers.Dense(1, activation='sigmoid')\n",
        "   ])\n",
        "  \n",
        "  optimizer = keras.optimizers.Ftrl(learning_rate=0.007)\n",
        "  model.compile(loss='binary_crossentropy',\n",
        "              optimizer=optimizer,\n",
        "              metrics=['accuracy'])\n",
        "  return model"
      ],
      "execution_count": 27,
      "outputs": []
    },
    {
      "cell_type": "code",
      "metadata": {
        "id": "opGwSGHtAy5a",
        "colab": {
          "base_uri": "https://localhost:8080/"
        },
        "outputId": "290f3dd9-bbdb-43c7-8351-c17bccd421e4"
      },
      "source": [
        "model = build_model()\n",
        "model.summary()"
      ],
      "execution_count": 28,
      "outputs": [
        {
          "output_type": "stream",
          "name": "stdout",
          "text": [
            "Model: \"sequential\"\n",
            "_________________________________________________________________\n",
            " Layer (type)                Output Shape              Param #   \n",
            "=================================================================\n",
            " dense (Dense)               (None, 9)                 90        \n",
            "                                                                 \n",
            " dense_1 (Dense)             (None, 9)                 90        \n",
            "                                                                 \n",
            " dense_2 (Dense)             (None, 1)                 10        \n",
            "                                                                 \n",
            "=================================================================\n",
            "Total params: 190\n",
            "Trainable params: 190\n",
            "Non-trainable params: 0\n",
            "_________________________________________________________________\n"
          ]
        }
      ]
    },
    {
      "cell_type": "markdown",
      "metadata": {
        "id": "FaIjnN6lelTE"
      },
      "source": [
        "**7. Launch the model training**"
      ]
    },
    {
      "cell_type": "code",
      "metadata": {
        "id": "lZ9PNY2vA2qh",
        "colab": {
          "base_uri": "https://localhost:8080/"
        },
        "outputId": "5a350a5e-efdc-4646-a1f4-e2bf3d26cbc0"
      },
      "source": [
        "class PrintDot(keras.callbacks.Callback):\n",
        " def on_epoch_end(self, epoch, logs):\n",
        "  if epoch % 100 == 0: print('')\n",
        "  print('.', end='')\n",
        "\n",
        "\n",
        "history = model.fit(x_train, y_train, \n",
        "          batch_size=1, \n",
        "          epochs=100, verbose=1, \n",
        "          validation_split=0.1)\n"
      ],
      "execution_count": 29,
      "outputs": [
        {
          "output_type": "stream",
          "name": "stdout",
          "text": [
            "Epoch 1/100\n",
            "503/503 [==============================] - 2s 2ms/step - loss: 0.6715 - accuracy: 0.6282 - val_loss: 0.6207 - val_accuracy: 0.7679\n",
            "Epoch 2/100\n",
            "503/503 [==============================] - 1s 2ms/step - loss: 0.6578 - accuracy: 0.6402 - val_loss: 0.6030 - val_accuracy: 0.7679\n",
            "Epoch 3/100\n",
            "503/503 [==============================] - 1s 2ms/step - loss: 0.6522 - accuracy: 0.6402 - val_loss: 0.5915 - val_accuracy: 0.7679\n",
            "Epoch 4/100\n",
            "503/503 [==============================] - 1s 2ms/step - loss: 0.6475 - accuracy: 0.6402 - val_loss: 0.5828 - val_accuracy: 0.7679\n",
            "Epoch 5/100\n",
            "503/503 [==============================] - 1s 2ms/step - loss: 0.6434 - accuracy: 0.6402 - val_loss: 0.5756 - val_accuracy: 0.7679\n",
            "Epoch 6/100\n",
            "503/503 [==============================] - 1s 2ms/step - loss: 0.6395 - accuracy: 0.6402 - val_loss: 0.5688 - val_accuracy: 0.7679\n",
            "Epoch 7/100\n",
            "503/503 [==============================] - 1s 2ms/step - loss: 0.6356 - accuracy: 0.6402 - val_loss: 0.5625 - val_accuracy: 0.7679\n",
            "Epoch 8/100\n",
            "503/503 [==============================] - 1s 2ms/step - loss: 0.6316 - accuracy: 0.6402 - val_loss: 0.5564 - val_accuracy: 0.7679\n",
            "Epoch 9/100\n",
            "503/503 [==============================] - 1s 2ms/step - loss: 0.6275 - accuracy: 0.6402 - val_loss: 0.5503 - val_accuracy: 0.7679\n",
            "Epoch 10/100\n",
            "503/503 [==============================] - 1s 2ms/step - loss: 0.6233 - accuracy: 0.6402 - val_loss: 0.5445 - val_accuracy: 0.7679\n",
            "Epoch 11/100\n",
            "503/503 [==============================] - 1s 2ms/step - loss: 0.6189 - accuracy: 0.6402 - val_loss: 0.5386 - val_accuracy: 0.7679\n",
            "Epoch 12/100\n",
            "503/503 [==============================] - 1s 2ms/step - loss: 0.6144 - accuracy: 0.6402 - val_loss: 0.5330 - val_accuracy: 0.7679\n",
            "Epoch 13/100\n",
            "503/503 [==============================] - 1s 2ms/step - loss: 0.6097 - accuracy: 0.6402 - val_loss: 0.5272 - val_accuracy: 0.7679\n",
            "Epoch 14/100\n",
            "503/503 [==============================] - 1s 2ms/step - loss: 0.6050 - accuracy: 0.6402 - val_loss: 0.5216 - val_accuracy: 0.7679\n",
            "Epoch 15/100\n",
            "503/503 [==============================] - 1s 2ms/step - loss: 0.6001 - accuracy: 0.6402 - val_loss: 0.5157 - val_accuracy: 0.7679\n",
            "Epoch 16/100\n",
            "503/503 [==============================] - 1s 2ms/step - loss: 0.5951 - accuracy: 0.6402 - val_loss: 0.5105 - val_accuracy: 0.7679\n",
            "Epoch 17/100\n",
            "503/503 [==============================] - 1s 2ms/step - loss: 0.5901 - accuracy: 0.6402 - val_loss: 0.5049 - val_accuracy: 0.7679\n",
            "Epoch 18/100\n",
            "503/503 [==============================] - 1s 2ms/step - loss: 0.5850 - accuracy: 0.6402 - val_loss: 0.4993 - val_accuracy: 0.7679\n",
            "Epoch 19/100\n",
            "503/503 [==============================] - 1s 2ms/step - loss: 0.5798 - accuracy: 0.6402 - val_loss: 0.4936 - val_accuracy: 0.7679\n",
            "Epoch 20/100\n",
            "503/503 [==============================] - 1s 2ms/step - loss: 0.5745 - accuracy: 0.6402 - val_loss: 0.4882 - val_accuracy: 0.7679\n",
            "Epoch 21/100\n",
            "503/503 [==============================] - 1s 2ms/step - loss: 0.5692 - accuracy: 0.6402 - val_loss: 0.4831 - val_accuracy: 0.7679\n",
            "Epoch 22/100\n",
            "503/503 [==============================] - 1s 2ms/step - loss: 0.5638 - accuracy: 0.6402 - val_loss: 0.4776 - val_accuracy: 0.7679\n",
            "Epoch 23/100\n",
            "503/503 [==============================] - 1s 2ms/step - loss: 0.5583 - accuracy: 0.6402 - val_loss: 0.4721 - val_accuracy: 0.7679\n",
            "Epoch 24/100\n",
            "503/503 [==============================] - 1s 2ms/step - loss: 0.5528 - accuracy: 0.6402 - val_loss: 0.4666 - val_accuracy: 0.7679\n",
            "Epoch 25/100\n",
            "503/503 [==============================] - 1s 2ms/step - loss: 0.5472 - accuracy: 0.6402 - val_loss: 0.4614 - val_accuracy: 0.7679\n",
            "Epoch 26/100\n",
            "503/503 [==============================] - 1s 2ms/step - loss: 0.5416 - accuracy: 0.6402 - val_loss: 0.4560 - val_accuracy: 0.7679\n",
            "Epoch 27/100\n",
            "503/503 [==============================] - 1s 2ms/step - loss: 0.5359 - accuracy: 0.6402 - val_loss: 0.4507 - val_accuracy: 0.7679\n",
            "Epoch 28/100\n",
            "503/503 [==============================] - 1s 2ms/step - loss: 0.5303 - accuracy: 0.6402 - val_loss: 0.4456 - val_accuracy: 0.7679\n",
            "Epoch 29/100\n",
            "503/503 [==============================] - 1s 2ms/step - loss: 0.5245 - accuracy: 0.6402 - val_loss: 0.4404 - val_accuracy: 0.7679\n",
            "Epoch 30/100\n",
            "503/503 [==============================] - 1s 2ms/step - loss: 0.5188 - accuracy: 0.6402 - val_loss: 0.4353 - val_accuracy: 0.7679\n",
            "Epoch 31/100\n",
            "503/503 [==============================] - 1s 2ms/step - loss: 0.5131 - accuracy: 0.6402 - val_loss: 0.4299 - val_accuracy: 0.7679\n",
            "Epoch 32/100\n",
            "503/503 [==============================] - 1s 2ms/step - loss: 0.5074 - accuracy: 0.6402 - val_loss: 0.4247 - val_accuracy: 0.7679\n",
            "Epoch 33/100\n",
            "503/503 [==============================] - 1s 2ms/step - loss: 0.5017 - accuracy: 0.6402 - val_loss: 0.4196 - val_accuracy: 0.7679\n",
            "Epoch 34/100\n",
            "503/503 [==============================] - 1s 2ms/step - loss: 0.4959 - accuracy: 0.6402 - val_loss: 0.4144 - val_accuracy: 0.7679\n",
            "Epoch 35/100\n",
            "503/503 [==============================] - 1s 2ms/step - loss: 0.4902 - accuracy: 0.6402 - val_loss: 0.4093 - val_accuracy: 0.7679\n",
            "Epoch 36/100\n",
            "503/503 [==============================] - 1s 2ms/step - loss: 0.4846 - accuracy: 0.6402 - val_loss: 0.4044 - val_accuracy: 0.7679\n",
            "Epoch 37/100\n",
            "503/503 [==============================] - 1s 2ms/step - loss: 0.4789 - accuracy: 0.6402 - val_loss: 0.3995 - val_accuracy: 0.7679\n",
            "Epoch 38/100\n",
            "503/503 [==============================] - 1s 2ms/step - loss: 0.4733 - accuracy: 0.6402 - val_loss: 0.3946 - val_accuracy: 0.7679\n",
            "Epoch 39/100\n",
            "503/503 [==============================] - 1s 2ms/step - loss: 0.4677 - accuracy: 0.6402 - val_loss: 0.3897 - val_accuracy: 0.7679\n",
            "Epoch 40/100\n",
            "503/503 [==============================] - 1s 2ms/step - loss: 0.4622 - accuracy: 0.6402 - val_loss: 0.3850 - val_accuracy: 0.7679\n",
            "Epoch 41/100\n",
            "503/503 [==============================] - 1s 2ms/step - loss: 0.4567 - accuracy: 0.6402 - val_loss: 0.3803 - val_accuracy: 0.7679\n",
            "Epoch 42/100\n",
            "503/503 [==============================] - 1s 2ms/step - loss: 0.4512 - accuracy: 0.6402 - val_loss: 0.3754 - val_accuracy: 0.7679\n",
            "Epoch 43/100\n",
            "503/503 [==============================] - 1s 2ms/step - loss: 0.4458 - accuracy: 0.6402 - val_loss: 0.3708 - val_accuracy: 0.7679\n",
            "Epoch 44/100\n",
            "503/503 [==============================] - 1s 2ms/step - loss: 0.4405 - accuracy: 0.6402 - val_loss: 0.3662 - val_accuracy: 0.7679\n",
            "Epoch 45/100\n",
            "503/503 [==============================] - 1s 2ms/step - loss: 0.4352 - accuracy: 0.6421 - val_loss: 0.3617 - val_accuracy: 0.8214\n",
            "Epoch 46/100\n",
            "503/503 [==============================] - 1s 2ms/step - loss: 0.4299 - accuracy: 0.7654 - val_loss: 0.3573 - val_accuracy: 0.8750\n",
            "Epoch 47/100\n",
            "503/503 [==============================] - 1s 2ms/step - loss: 0.4247 - accuracy: 0.8310 - val_loss: 0.3529 - val_accuracy: 0.8929\n",
            "Epoch 48/100\n",
            "503/503 [==============================] - 1s 2ms/step - loss: 0.4196 - accuracy: 0.8628 - val_loss: 0.3486 - val_accuracy: 0.8929\n",
            "Epoch 49/100\n",
            "503/503 [==============================] - 1s 2ms/step - loss: 0.4146 - accuracy: 0.8887 - val_loss: 0.3443 - val_accuracy: 0.8929\n",
            "Epoch 50/100\n",
            "503/503 [==============================] - 1s 2ms/step - loss: 0.4096 - accuracy: 0.9125 - val_loss: 0.3401 - val_accuracy: 0.9107\n",
            "Epoch 51/100\n",
            "503/503 [==============================] - 1s 2ms/step - loss: 0.4047 - accuracy: 0.9245 - val_loss: 0.3360 - val_accuracy: 0.9286\n",
            "Epoch 52/100\n",
            "503/503 [==============================] - 1s 2ms/step - loss: 0.3998 - accuracy: 0.9324 - val_loss: 0.3319 - val_accuracy: 0.9464\n",
            "Epoch 53/100\n",
            "503/503 [==============================] - 1s 2ms/step - loss: 0.3950 - accuracy: 0.9384 - val_loss: 0.3278 - val_accuracy: 0.9464\n",
            "Epoch 54/100\n",
            "503/503 [==============================] - 1s 2ms/step - loss: 0.3903 - accuracy: 0.9384 - val_loss: 0.3239 - val_accuracy: 0.9464\n",
            "Epoch 55/100\n",
            "503/503 [==============================] - 1s 2ms/step - loss: 0.3856 - accuracy: 0.9404 - val_loss: 0.3200 - val_accuracy: 0.9464\n",
            "Epoch 56/100\n",
            "503/503 [==============================] - 1s 2ms/step - loss: 0.3810 - accuracy: 0.9384 - val_loss: 0.3161 - val_accuracy: 0.9464\n",
            "Epoch 57/100\n",
            "503/503 [==============================] - 1s 2ms/step - loss: 0.3765 - accuracy: 0.9384 - val_loss: 0.3124 - val_accuracy: 0.9464\n",
            "Epoch 58/100\n",
            "503/503 [==============================] - 1s 2ms/step - loss: 0.3721 - accuracy: 0.9404 - val_loss: 0.3088 - val_accuracy: 0.9643\n",
            "Epoch 59/100\n",
            "503/503 [==============================] - 1s 2ms/step - loss: 0.3677 - accuracy: 0.9423 - val_loss: 0.3052 - val_accuracy: 0.9643\n",
            "Epoch 60/100\n",
            "503/503 [==============================] - 1s 2ms/step - loss: 0.3634 - accuracy: 0.9443 - val_loss: 0.3016 - val_accuracy: 0.9643\n",
            "Epoch 61/100\n",
            "503/503 [==============================] - 1s 2ms/step - loss: 0.3592 - accuracy: 0.9483 - val_loss: 0.2981 - val_accuracy: 0.9643\n",
            "Epoch 62/100\n",
            "503/503 [==============================] - 1s 2ms/step - loss: 0.3550 - accuracy: 0.9523 - val_loss: 0.2946 - val_accuracy: 0.9643\n",
            "Epoch 63/100\n",
            "503/503 [==============================] - 1s 2ms/step - loss: 0.3510 - accuracy: 0.9523 - val_loss: 0.2912 - val_accuracy: 0.9821\n",
            "Epoch 64/100\n",
            "503/503 [==============================] - 1s 2ms/step - loss: 0.3469 - accuracy: 0.9543 - val_loss: 0.2879 - val_accuracy: 0.9821\n",
            "Epoch 65/100\n",
            "503/503 [==============================] - 1s 2ms/step - loss: 0.3430 - accuracy: 0.9543 - val_loss: 0.2847 - val_accuracy: 0.9821\n",
            "Epoch 66/100\n",
            "503/503 [==============================] - 1s 2ms/step - loss: 0.3391 - accuracy: 0.9563 - val_loss: 0.2816 - val_accuracy: 0.9821\n",
            "Epoch 67/100\n",
            "503/503 [==============================] - 1s 2ms/step - loss: 0.3353 - accuracy: 0.9583 - val_loss: 0.2783 - val_accuracy: 0.9821\n",
            "Epoch 68/100\n",
            "503/503 [==============================] - 1s 2ms/step - loss: 0.3316 - accuracy: 0.9583 - val_loss: 0.2753 - val_accuracy: 0.9643\n",
            "Epoch 69/100\n",
            "503/503 [==============================] - 1s 2ms/step - loss: 0.3279 - accuracy: 0.9583 - val_loss: 0.2723 - val_accuracy: 0.9643\n",
            "Epoch 70/100\n",
            "503/503 [==============================] - 1s 2ms/step - loss: 0.3243 - accuracy: 0.9583 - val_loss: 0.2694 - val_accuracy: 0.9643\n",
            "Epoch 71/100\n",
            "503/503 [==============================] - 1s 2ms/step - loss: 0.3207 - accuracy: 0.9583 - val_loss: 0.2665 - val_accuracy: 0.9643\n",
            "Epoch 72/100\n",
            "503/503 [==============================] - 1s 2ms/step - loss: 0.3173 - accuracy: 0.9583 - val_loss: 0.2637 - val_accuracy: 0.9643\n",
            "Epoch 73/100\n",
            "503/503 [==============================] - 1s 2ms/step - loss: 0.3138 - accuracy: 0.9583 - val_loss: 0.2608 - val_accuracy: 0.9643\n",
            "Epoch 74/100\n",
            "503/503 [==============================] - 1s 2ms/step - loss: 0.3105 - accuracy: 0.9583 - val_loss: 0.2581 - val_accuracy: 0.9643\n",
            "Epoch 75/100\n",
            "503/503 [==============================] - 1s 2ms/step - loss: 0.3072 - accuracy: 0.9543 - val_loss: 0.2554 - val_accuracy: 0.9643\n",
            "Epoch 76/100\n",
            "503/503 [==============================] - 1s 2ms/step - loss: 0.3040 - accuracy: 0.9543 - val_loss: 0.2528 - val_accuracy: 0.9643\n",
            "Epoch 77/100\n",
            "503/503 [==============================] - 1s 2ms/step - loss: 0.3008 - accuracy: 0.9543 - val_loss: 0.2502 - val_accuracy: 0.9643\n",
            "Epoch 78/100\n",
            "503/503 [==============================] - 1s 2ms/step - loss: 0.2977 - accuracy: 0.9543 - val_loss: 0.2476 - val_accuracy: 0.9643\n",
            "Epoch 79/100\n",
            "503/503 [==============================] - 1s 2ms/step - loss: 0.2946 - accuracy: 0.9543 - val_loss: 0.2452 - val_accuracy: 0.9643\n",
            "Epoch 80/100\n",
            "503/503 [==============================] - 1s 2ms/step - loss: 0.2916 - accuracy: 0.9543 - val_loss: 0.2427 - val_accuracy: 0.9643\n",
            "Epoch 81/100\n",
            "503/503 [==============================] - 1s 2ms/step - loss: 0.2887 - accuracy: 0.9543 - val_loss: 0.2404 - val_accuracy: 0.9643\n",
            "Epoch 82/100\n",
            "503/503 [==============================] - 1s 2ms/step - loss: 0.2858 - accuracy: 0.9543 - val_loss: 0.2381 - val_accuracy: 0.9643\n",
            "Epoch 83/100\n",
            "503/503 [==============================] - 1s 2ms/step - loss: 0.2830 - accuracy: 0.9543 - val_loss: 0.2357 - val_accuracy: 0.9643\n",
            "Epoch 84/100\n",
            "503/503 [==============================] - 1s 2ms/step - loss: 0.2802 - accuracy: 0.9543 - val_loss: 0.2336 - val_accuracy: 0.9643\n",
            "Epoch 85/100\n",
            "503/503 [==============================] - 1s 2ms/step - loss: 0.2775 - accuracy: 0.9543 - val_loss: 0.2314 - val_accuracy: 0.9643\n",
            "Epoch 86/100\n",
            "503/503 [==============================] - 1s 2ms/step - loss: 0.2748 - accuracy: 0.9543 - val_loss: 0.2293 - val_accuracy: 0.9643\n",
            "Epoch 87/100\n",
            "503/503 [==============================] - 1s 2ms/step - loss: 0.2722 - accuracy: 0.9543 - val_loss: 0.2273 - val_accuracy: 0.9643\n",
            "Epoch 88/100\n",
            "503/503 [==============================] - 1s 2ms/step - loss: 0.2696 - accuracy: 0.9523 - val_loss: 0.2252 - val_accuracy: 0.9643\n",
            "Epoch 89/100\n",
            "503/503 [==============================] - 1s 2ms/step - loss: 0.2671 - accuracy: 0.9523 - val_loss: 0.2231 - val_accuracy: 0.9643\n",
            "Epoch 90/100\n",
            "503/503 [==============================] - 1s 2ms/step - loss: 0.2646 - accuracy: 0.9523 - val_loss: 0.2210 - val_accuracy: 0.9643\n",
            "Epoch 91/100\n",
            "503/503 [==============================] - 1s 2ms/step - loss: 0.2622 - accuracy: 0.9523 - val_loss: 0.2191 - val_accuracy: 0.9643\n",
            "Epoch 92/100\n",
            "503/503 [==============================] - 1s 2ms/step - loss: 0.2598 - accuracy: 0.9523 - val_loss: 0.2173 - val_accuracy: 0.9643\n",
            "Epoch 93/100\n",
            "503/503 [==============================] - 1s 2ms/step - loss: 0.2575 - accuracy: 0.9523 - val_loss: 0.2154 - val_accuracy: 0.9643\n",
            "Epoch 94/100\n",
            "503/503 [==============================] - 1s 2ms/step - loss: 0.2552 - accuracy: 0.9523 - val_loss: 0.2137 - val_accuracy: 0.9643\n",
            "Epoch 95/100\n",
            "503/503 [==============================] - 1s 2ms/step - loss: 0.2529 - accuracy: 0.9523 - val_loss: 0.2119 - val_accuracy: 0.9643\n",
            "Epoch 96/100\n",
            "503/503 [==============================] - 1s 2ms/step - loss: 0.2507 - accuracy: 0.9523 - val_loss: 0.2102 - val_accuracy: 0.9643\n",
            "Epoch 97/100\n",
            "503/503 [==============================] - 1s 2ms/step - loss: 0.2486 - accuracy: 0.9583 - val_loss: 0.2085 - val_accuracy: 0.9643\n",
            "Epoch 98/100\n",
            "503/503 [==============================] - 1s 2ms/step - loss: 0.2464 - accuracy: 0.9583 - val_loss: 0.2068 - val_accuracy: 0.9643\n",
            "Epoch 99/100\n",
            "503/503 [==============================] - 1s 2ms/step - loss: 0.2443 - accuracy: 0.9563 - val_loss: 0.2052 - val_accuracy: 0.9643\n",
            "Epoch 100/100\n",
            "503/503 [==============================] - 1s 2ms/step - loss: 0.2423 - accuracy: 0.9583 - val_loss: 0.2035 - val_accuracy: 0.9643\n"
          ]
        }
      ]
    },
    {
      "cell_type": "code",
      "metadata": {
        "id": "F27wXNLsD5lW",
        "colab": {
          "base_uri": "https://localhost:8080/",
          "height": 221
        },
        "outputId": "b88bc0d1-2658-4b8c-e767-5f10b0607977"
      },
      "source": [
        "hist = pd.DataFrame(history.history)\n",
        "hist['epoch'] = history.epoch\n",
        "hist.tail()\n"
      ],
      "execution_count": 30,
      "outputs": [
        {
          "output_type": "execute_result",
          "data": {
            "text/html": [
              "<div>\n",
              "<style scoped>\n",
              "    .dataframe tbody tr th:only-of-type {\n",
              "        vertical-align: middle;\n",
              "    }\n",
              "\n",
              "    .dataframe tbody tr th {\n",
              "        vertical-align: top;\n",
              "    }\n",
              "\n",
              "    .dataframe thead th {\n",
              "        text-align: right;\n",
              "    }\n",
              "</style>\n",
              "<table border=\"1\" class=\"dataframe\">\n",
              "  <thead>\n",
              "    <tr style=\"text-align: right;\">\n",
              "      <th></th>\n",
              "      <th>loss</th>\n",
              "      <th>accuracy</th>\n",
              "      <th>val_loss</th>\n",
              "      <th>val_accuracy</th>\n",
              "      <th>epoch</th>\n",
              "    </tr>\n",
              "  </thead>\n",
              "  <tbody>\n",
              "    <tr>\n",
              "      <th>95</th>\n",
              "      <td>0.250725</td>\n",
              "      <td>0.952286</td>\n",
              "      <td>0.210230</td>\n",
              "      <td>0.964286</td>\n",
              "      <td>95</td>\n",
              "    </tr>\n",
              "    <tr>\n",
              "      <th>96</th>\n",
              "      <td>0.248556</td>\n",
              "      <td>0.958251</td>\n",
              "      <td>0.208465</td>\n",
              "      <td>0.964286</td>\n",
              "      <td>96</td>\n",
              "    </tr>\n",
              "    <tr>\n",
              "      <th>97</th>\n",
              "      <td>0.246425</td>\n",
              "      <td>0.958251</td>\n",
              "      <td>0.206793</td>\n",
              "      <td>0.964286</td>\n",
              "      <td>97</td>\n",
              "    </tr>\n",
              "    <tr>\n",
              "      <th>98</th>\n",
              "      <td>0.244334</td>\n",
              "      <td>0.956262</td>\n",
              "      <td>0.205167</td>\n",
              "      <td>0.964286</td>\n",
              "      <td>98</td>\n",
              "    </tr>\n",
              "    <tr>\n",
              "      <th>99</th>\n",
              "      <td>0.242280</td>\n",
              "      <td>0.958251</td>\n",
              "      <td>0.203538</td>\n",
              "      <td>0.964286</td>\n",
              "      <td>99</td>\n",
              "    </tr>\n",
              "  </tbody>\n",
              "</table>\n",
              "</div>"
            ],
            "text/plain": [
              "        loss  accuracy  val_loss  val_accuracy  epoch\n",
              "95  0.250725  0.952286  0.210230      0.964286     95\n",
              "96  0.248556  0.958251  0.208465      0.964286     96\n",
              "97  0.246425  0.958251  0.206793      0.964286     97\n",
              "98  0.244334  0.956262  0.205167      0.964286     98\n",
              "99  0.242280  0.958251  0.203538      0.964286     99"
            ]
          },
          "metadata": {},
          "execution_count": 30
        }
      ]
    },
    {
      "cell_type": "code",
      "metadata": {
        "id": "r32zVkDAET_x",
        "colab": {
          "base_uri": "https://localhost:8080/",
          "height": 300
        },
        "outputId": "2137943d-f974-4674-ac58-e1152bb7dfcd"
      },
      "source": [
        "def plot_history(history):\n",
        "  hist = pd.DataFrame(history.history)\n",
        "  hist['epoch'] = history.epoch\n",
        "\n",
        "  plt.figure()\n",
        "  plt.xlabel('Epoch')\n",
        "  plt.ylabel('Accuracy')\n",
        "  plt.plot(hist['epoch'], hist['accuracy'],\n",
        "           label='Train Accuracy')\n",
        "  plt.plot(hist['epoch'], hist['val_accuracy'],\n",
        "           label = 'Val Accuracy')\n",
        "  plt.legend()\n",
        "  plt.show()\n",
        "\n",
        "plot_history(history)\n"
      ],
      "execution_count": 31,
      "outputs": [
        {
          "output_type": "display_data",
          "data": {
            "image/png": "[encoded data removed]",
            "text/plain": [
              "<Figure size 432x288 with 1 Axes>"
            ]
          },
          "metadata": {
            "needs_background": "light"
          }
        }
      ]
    },
    {
      "cell_type": "markdown",
      "metadata": {
        "id": "9JEgwoAarkbU"
      },
      "source": [
        "**8. Model Evaluation**"
      ]
    },
    {
      "cell_type": "code",
      "metadata": {
        "id": "T1ZzB6TutAAh",
        "colab": {
          "base_uri": "https://localhost:8080/"
        },
        "outputId": "90583b9f-1717-4526-a9af-395246f1a692"
      },
      "source": [
        "# Generate generalization metrics\n",
        "score = model.evaluate(x_test, y_test, verbose=0)\n",
        "print(f'Test loss: {score[0]} / Test accuracy: {score[1]}')"
      ],
      "execution_count": 32,
      "outputs": [
        {
          "output_type": "stream",
          "name": "stdout",
          "text": [
            "Test loss: 0.2532975375652313 / Test accuracy: 0.9571428298950195\n"
          ]
        }
      ]
    },
    {
      "cell_type": "code",
      "metadata": {
        "id": "iZJNG0p3NMIF"
      },
      "source": [
        ""
      ],
      "execution_count": 32,
      "outputs": []
    }
  ]
}