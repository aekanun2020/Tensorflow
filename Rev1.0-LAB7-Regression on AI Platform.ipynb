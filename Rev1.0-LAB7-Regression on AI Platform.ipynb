{
 "cells": [
  {
   "cell_type": "code",
   "execution_count": 5,
   "metadata": {},
   "outputs": [
    {
     "name": "stdout",
     "output_type": "stream",
     "text": [
      "Executing query with job ID: 084428ea-1d4e-4132-9dd8-39e17435f446\n",
      "Query executing: 0.39s\n",
      "Query complete after 0.72s\n"
     ]
    },
    {
     "name": "stderr",
     "output_type": "stream",
     "text": [
      "Query complete after 0.00s: 100%|██████████| 1/1 [00:00<00:00, 779.03query/s] \n",
      "Downloading: 100%|██████████| 134990/134990 [00:01<00:00, 118386.87rows/s]\n"
     ]
    }
   ],
   "source": [
    "%%bigquery raw_pd --verbose\n",
    "SELECT date,\n",
    "       airline,\n",
    "       departure_airport,\n",
    "       arrival_airport,\n",
    "       departure_lat,\n",
    "       departure_lon,\n",
    "       arrival_lat,\n",
    "       arrival_lon,\n",
    "       departure_delay,\n",
    "       arrival_delay\n",
    "FROM `bigquery-samples.airline_ontime_data.flights`\n",
    "Where departure_airport = 'SFO' AND date >= '2009-01-01' AND date <= '2009-12-31'"
   ]
  },
  {
   "cell_type": "code",
   "execution_count": 27,
   "metadata": {
    "colab": {
     "base_uri": "https://localhost:8080/"
    },
    "id": "D8qPF7NyqwgW",
    "outputId": "e0ebd0c1-8b8b-45c9-e94a-2af11b758ff2"
   },
   "outputs": [],
   "source": [
    "import tensorflow as tf\n",
    "from tensorflow import keras\n",
    "from tensorflow.keras import layers\n",
    "import numpy as np\n",
    "import pandas as pd\n",
    "import matplotlib.pyplot as plt"
   ]
  },
  {
   "cell_type": "markdown",
   "metadata": {
    "id": "B9MV-hzTUPWd"
   },
   "source": [
    "**1. Load raw data into Pandas dataframe**"
   ]
  },
  {
   "cell_type": "code",
   "execution_count": null,
   "metadata": {},
   "outputs": [],
   "source": []
  },
  {
   "cell_type": "markdown",
   "metadata": {
    "id": "pfn1Gp_kUaHv"
   },
   "source": [
    "**2.Look for NULL values and treat them**"
   ]
  },
  {
   "cell_type": "code",
   "execution_count": 7,
   "metadata": {
    "colab": {
     "base_uri": "https://localhost:8080/"
    },
    "id": "G1XUq4TJsSyL",
    "outputId": "61533330-9918-4a6d-8f23-1ed31d0072c4"
   },
   "outputs": [
    {
     "name": "stdout",
     "output_type": "stream",
     "text": [
      "<class 'pandas.core.frame.DataFrame'>\n",
      "RangeIndex: 134990 entries, 0 to 134989\n",
      "Data columns (total 10 columns):\n",
      " #   Column             Non-Null Count   Dtype  \n",
      "---  ------             --------------   -----  \n",
      " 0   date               134990 non-null  object \n",
      " 1   airline            134990 non-null  object \n",
      " 2   departure_airport  134990 non-null  object \n",
      " 3   arrival_airport    134990 non-null  object \n",
      " 4   departure_lat      134990 non-null  float64\n",
      " 5   departure_lon      134990 non-null  float64\n",
      " 6   arrival_lat        134990 non-null  float64\n",
      " 7   arrival_lon        134990 non-null  float64\n",
      " 8   departure_delay    134990 non-null  float64\n",
      " 9   arrival_delay      134990 non-null  float64\n",
      "dtypes: float64(6), object(4)\n",
      "memory usage: 10.3+ MB\n"
     ]
    }
   ],
   "source": [
    "raw_pd.info()"
   ]
  },
  {
   "cell_type": "code",
   "execution_count": 8,
   "metadata": {
    "colab": {
     "base_uri": "https://localhost:8080/"
    },
    "id": "bz577XGyq-0X",
    "outputId": "131ad778-76a4-4aa5-d4f4-8ea5c56f1b4b"
   },
   "outputs": [
    {
     "data": {
      "text/plain": [
       "date                 0\n",
       "airline              0\n",
       "departure_airport    0\n",
       "arrival_airport      0\n",
       "departure_lat        0\n",
       "departure_lon        0\n",
       "arrival_lat          0\n",
       "arrival_lon          0\n",
       "departure_delay      0\n",
       "arrival_delay        0\n",
       "dtype: int64"
      ]
     },
     "execution_count": 8,
     "metadata": {},
     "output_type": "execute_result"
    }
   ],
   "source": [
    "raw_pd.isnull().sum()"
   ]
  },
  {
   "cell_type": "code",
   "execution_count": 9,
   "metadata": {
    "colab": {
     "base_uri": "https://localhost:8080/"
    },
    "id": "BW4k49GIrPev",
    "outputId": "ecbfe75a-f2a9-4de1-edd9-bb21f5c7a393"
   },
   "outputs": [
    {
     "data": {
      "text/plain": [
       "(134990, 10)"
      ]
     },
     "execution_count": 9,
     "metadata": {},
     "output_type": "execute_result"
    }
   ],
   "source": [
    "raw_pd.shape"
   ]
  },
  {
   "cell_type": "code",
   "execution_count": 10,
   "metadata": {},
   "outputs": [
    {
     "data": {
      "text/plain": [
       "<AxesSubplot:xlabel='departure_delay', ylabel='arrival_delay'>"
      ]
     },
     "execution_count": 10,
     "metadata": {},
     "output_type": "execute_result"
    },
    {
     "data": {
      "image/png": "[encoded data removed]",
      "text/plain": [
       "<Figure size 432x288 with 1 Axes>"
      ]
     },
     "metadata": {
      "needs_background": "light"
     },
     "output_type": "display_data"
    }
   ],
   "source": [
    "raw_pd = (raw_pd\n",
    "                        .query('1 <= departure_delay <= 120')\n",
    "                        .dropna()\n",
    "                        .filter(['departure_delay', 'arrival_delay'])\n",
    "                       )\n",
    "\n",
    "(raw_pd\n",
    " .sample(n=100, random_state = 123)\n",
    " .plot.scatter('departure_delay', 'arrival_delay'))"
   ]
  },
  {
   "cell_type": "markdown",
   "metadata": {
    "id": "1oasebHkWRTP"
   },
   "source": [
    "**3. Other Data Preparation - Labeling**"
   ]
  },
  {
   "cell_type": "code",
   "execution_count": null,
   "metadata": {
    "id": "61agmPNiNRe_"
   },
   "outputs": [],
   "source": []
  },
  {
   "cell_type": "markdown",
   "metadata": {
    "id": "7WlUk0nrW0hS"
   },
   "source": [
    "**4. Split data into Training set and Testing set**"
   ]
  },
  {
   "cell_type": "code",
   "execution_count": 11,
   "metadata": {
    "id": "7kQzo2jAzL8U"
   },
   "outputs": [],
   "source": [
    "x_train = raw_pd.sample(frac=0.8).copy()"
   ]
  },
  {
   "cell_type": "code",
   "execution_count": 12,
   "metadata": {
    "id": "DPPVSKYVcwGa"
   },
   "outputs": [],
   "source": [
    "x_test = raw_pd.drop(x_train.index)"
   ]
  },
  {
   "cell_type": "code",
   "execution_count": null,
   "metadata": {
    "id": "N7VjFMaIcytE"
   },
   "outputs": [],
   "source": []
  },
  {
   "cell_type": "markdown",
   "metadata": {
    "id": "j2JeE1SreDZx"
   },
   "source": [
    "**5. Separate Label from Features**"
   ]
  },
  {
   "cell_type": "code",
   "execution_count": 13,
   "metadata": {
    "id": "2fuv8CJGzOSZ"
   },
   "outputs": [],
   "source": [
    "y_train = x_train['arrival_delay']"
   ]
  },
  {
   "cell_type": "code",
   "execution_count": 15,
   "metadata": {
    "id": "a-av6HOtZ4Gk"
   },
   "outputs": [],
   "source": [
    "x_train = x_train.drop(['arrival_delay'], axis=1)"
   ]
  },
  {
   "cell_type": "code",
   "execution_count": 16,
   "metadata": {
    "colab": {
     "base_uri": "https://localhost:8080/"
    },
    "id": "lyv_T94j180B",
    "outputId": "7cf2e5e1-81fa-4484-fd98-c4225f1fd944"
   },
   "outputs": [
    {
     "name": "stdout",
     "output_type": "stream",
     "text": [
      "<class 'pandas.core.frame.DataFrame'>\n",
      "Int64Index: 38228 entries, 110890 to 49331\n",
      "Data columns (total 1 columns):\n",
      " #   Column           Non-Null Count  Dtype  \n",
      "---  ------           --------------  -----  \n",
      " 0   departure_delay  38228 non-null  float64\n",
      "dtypes: float64(1)\n",
      "memory usage: 597.3 KB\n"
     ]
    }
   ],
   "source": [
    "x_train.info()"
   ]
  },
  {
   "cell_type": "code",
   "execution_count": 17,
   "metadata": {
    "colab": {
     "base_uri": "https://localhost:8080/"
    },
    "id": "Wn-_4ZKN192A",
    "outputId": "c20e56d8-4c75-4971-8bae-c54b8ecd1271"
   },
   "outputs": [
    {
     "data": {
      "text/plain": [
       "(38228, 1)"
      ]
     },
     "execution_count": 17,
     "metadata": {},
     "output_type": "execute_result"
    }
   ],
   "source": [
    "x_train.shape"
   ]
  },
  {
   "cell_type": "code",
   "execution_count": 18,
   "metadata": {
    "colab": {
     "base_uri": "https://localhost:8080/"
    },
    "id": "x9D7Pbbn1g1Q",
    "outputId": "5791c690-2b71-4800-d0f2-ed9bafa491f2"
   },
   "outputs": [
    {
     "data": {
      "text/plain": [
       "(38228,)"
      ]
     },
     "execution_count": 18,
     "metadata": {},
     "output_type": "execute_result"
    }
   ],
   "source": [
    "y_train.shape"
   ]
  },
  {
   "cell_type": "code",
   "execution_count": 19,
   "metadata": {
    "id": "B8Ov5VOM2WcX"
   },
   "outputs": [],
   "source": [
    "y_test = x_test['arrival_delay']"
   ]
  },
  {
   "cell_type": "code",
   "execution_count": 21,
   "metadata": {
    "id": "mkAbOlGDQanh"
   },
   "outputs": [],
   "source": [
    "x_test = x_test.drop(['arrival_delay'], axis=1)"
   ]
  },
  {
   "cell_type": "code",
   "execution_count": 22,
   "metadata": {
    "colab": {
     "base_uri": "https://localhost:8080/"
    },
    "id": "-mlVnwob8jht",
    "outputId": "f4981ac2-9255-4b84-fa65-6189654b044e"
   },
   "outputs": [
    {
     "name": "stdout",
     "output_type": "stream",
     "text": [
      "<class 'pandas.core.frame.DataFrame'>\n",
      "Int64Index: 9557 entries, 16 to 134975\n",
      "Data columns (total 1 columns):\n",
      " #   Column           Non-Null Count  Dtype  \n",
      "---  ------           --------------  -----  \n",
      " 0   departure_delay  9557 non-null   float64\n",
      "dtypes: float64(1)\n",
      "memory usage: 149.3 KB\n"
     ]
    }
   ],
   "source": [
    "x_test.info()"
   ]
  },
  {
   "cell_type": "code",
   "execution_count": 23,
   "metadata": {
    "colab": {
     "base_uri": "https://localhost:8080/"
    },
    "id": "HNOxa0_s8pL4",
    "outputId": "4154fff9-aebf-422e-8113-c9c1910a0403"
   },
   "outputs": [
    {
     "data": {
      "text/plain": [
       "(9557, 1)"
      ]
     },
     "execution_count": 23,
     "metadata": {},
     "output_type": "execute_result"
    }
   ],
   "source": [
    "x_test.shape"
   ]
  },
  {
   "cell_type": "code",
   "execution_count": 24,
   "metadata": {
    "colab": {
     "base_uri": "https://localhost:8080/"
    },
    "id": "cIkwWUP7bn-1",
    "outputId": "9db1fcf3-1ca3-4037-9a2e-2bf550d79e7b"
   },
   "outputs": [
    {
     "data": {
      "text/plain": [
       "(9557,)"
      ]
     },
     "execution_count": 24,
     "metadata": {},
     "output_type": "execute_result"
    }
   ],
   "source": [
    "y_test.shape"
   ]
  },
  {
   "cell_type": "markdown",
   "metadata": {
    "id": "XyU7b5XQeVjy"
   },
   "source": [
    "**6. Designing a neural network for model training**"
   ]
  },
  {
   "cell_type": "code",
   "execution_count": 25,
   "metadata": {
    "id": "uvAtMEel_2uP"
   },
   "outputs": [],
   "source": [
    "def build_model():\n",
    "  model = keras.Sequential([\n",
    "    layers.Dense(1, activation='linear', input_shape = (1,))\n",
    "   ])\n",
    "  \n",
    "  optimizer = tf.keras.optimizers.RMSprop()\n",
    "  model.compile(loss='mse',\n",
    "              optimizer=optimizer,\n",
    "              metrics=['mae', 'mse'])\n",
    "  return model"
   ]
  },
  {
   "cell_type": "code",
   "execution_count": 28,
   "metadata": {
    "colab": {
     "base_uri": "https://localhost:8080/"
    },
    "id": "opGwSGHtAy5a",
    "outputId": "25b69277-404a-4cf2-87cb-d67e81dc58cb"
   },
   "outputs": [
    {
     "name": "stdout",
     "output_type": "stream",
     "text": [
      "Model: \"sequential\"\n",
      "_________________________________________________________________\n",
      "Layer (type)                 Output Shape              Param #   \n",
      "=================================================================\n",
      "dense (Dense)                (None, 1)                 2         \n",
      "=================================================================\n",
      "Total params: 2\n",
      "Trainable params: 2\n",
      "Non-trainable params: 0\n",
      "_________________________________________________________________\n"
     ]
    },
    {
     "name": "stderr",
     "output_type": "stream",
     "text": [
      "2021-11-24 16:23:22.065818: I tensorflow/core/platform/profile_utils/cpu_utils.cc:104] CPU Frequency: 2199995000 Hz\n",
      "2021-11-24 16:23:22.066866: I tensorflow/compiler/xla/service/service.cc:168] XLA service 0x55ca35f24750 initialized for platform Host (this does not guarantee that XLA will be used). Devices:\n",
      "2021-11-24 16:23:22.066900: I tensorflow/compiler/xla/service/service.cc:176]   StreamExecutor device (0): Host, Default Version\n",
      "2021-11-24 16:23:22.069389: I tensorflow/core/common_runtime/process_util.cc:146] Creating new thread pool with default inter op setting: 2. Tune using inter_op_parallelism_threads for best performance.\n"
     ]
    }
   ],
   "source": [
    "model = build_model()\n",
    "model.summary()"
   ]
  },
  {
   "cell_type": "markdown",
   "metadata": {
    "id": "FaIjnN6lelTE"
   },
   "source": [
    "**7. Launch the model training**"
   ]
  },
  {
   "cell_type": "code",
   "execution_count": 29,
   "metadata": {
    "colab": {
     "base_uri": "https://localhost:8080/"
    },
    "id": "lZ9PNY2vA2qh",
    "outputId": "cff672b8-8a3f-436d-871a-41358b4fd2d3"
   },
   "outputs": [
    {
     "name": "stderr",
     "output_type": "stream",
     "text": [
      "2021-11-24 16:24:40.276477: I tensorflow/core/profiler/lib/profiler_session.cc:164] Profiler session started.\n"
     ]
    },
    {
     "name": "stdout",
     "output_type": "stream",
     "text": [
      "Epoch 1/10\n",
      "   1/1195 [..............................] - ETA: 0s - loss: 9497.2227 - mae: 69.1799 - mse: 9497.2227WARNING:tensorflow:From /opt/conda/lib/python3.7/site-packages/tensorflow/python/ops/summary_ops_v2.py:1277: stop (from tensorflow.python.eager.profiler) is deprecated and will be removed after 2020-07-01.\n",
      "Instructions for updating:\n",
      "use `tf.profiler.experimental.stop` instead.\n",
      "   2/1195 [..............................] - ETA: 34s - loss: 7529.8022 - mae: 59.1191 - mse: 7529.8022WARNING:tensorflow:Callbacks method `on_train_batch_end` is slow compared to the batch time (batch time: 0.0088s vs `on_train_batch_end` time: 0.0487s). Check your callbacks.\n",
      "  46/1195 [>.............................] - ETA: 3s - loss: 6809.8765 - mae: 55.8910 - mse: 6809.8765"
     ]
    },
    {
     "name": "stderr",
     "output_type": "stream",
     "text": [
      "2021-11-24 16:24:41.183133: I tensorflow/core/profiler/lib/profiler_session.cc:164] Profiler session started.\n",
      "2021-11-24 16:24:41.218357: I tensorflow/core/profiler/rpc/client/save_profile.cc:176] Creating directory: logs/simple-regression/train/plugins/profile/2021_11_24_16_24_41\n",
      "2021-11-24 16:24:41.220059: I tensorflow/core/profiler/rpc/client/save_profile.cc:182] Dumped gzipped tool data for trace.json.gz to logs/simple-regression/train/plugins/profile/2021_11_24_16_24_41/tensorflow-2-3-20211124-225315.trace.json.gz\n",
      "2021-11-24 16:24:41.236377: I tensorflow/core/profiler/rpc/client/save_profile.cc:176] Creating directory: logs/simple-regression/train/plugins/profile/2021_11_24_16_24_41\n",
      "2021-11-24 16:24:41.236754: I tensorflow/core/profiler/rpc/client/save_profile.cc:182] Dumped gzipped tool data for memory_profile.json.gz to logs/simple-regression/train/plugins/profile/2021_11_24_16_24_41/tensorflow-2-3-20211124-225315.memory_profile.json.gz\n",
      "2021-11-24 16:24:41.237326: I tensorflow/python/profiler/internal/profiler_wrapper.cc:111] Creating directory: logs/simple-regression/train/plugins/profile/2021_11_24_16_24_41Dumped tool data for xplane.pb to logs/simple-regression/train/plugins/profile/2021_11_24_16_24_41/tensorflow-2-3-20211124-225315.xplane.pb\n",
      "Dumped tool data for overview_page.pb to logs/simple-regression/train/plugins/profile/2021_11_24_16_24_41/tensorflow-2-3-20211124-225315.overview_page.pb\n",
      "Dumped tool data for input_pipeline.pb to logs/simple-regression/train/plugins/profile/2021_11_24_16_24_41/tensorflow-2-3-20211124-225315.input_pipeline.pb\n",
      "Dumped tool data for tensorflow_stats.pb to logs/simple-regression/train/plugins/profile/2021_11_24_16_24_41/tensorflow-2-3-20211124-225315.tensorflow_stats.pb\n",
      "Dumped tool data for kernel_stats.pb to logs/simple-regression/train/plugins/profile/2021_11_24_16_24_41/tensorflow-2-3-20211124-225315.kernel_stats.pb\n",
      "\n"
     ]
    },
    {
     "name": "stdout",
     "output_type": "stream",
     "text": [
      "1195/1195 [==============================] - 2s 2ms/step - loss: 4053.4883 - mae: 42.2086 - mse: 4053.4883\n",
      "Epoch 2/10\n",
      "1195/1195 [==============================] - 2s 2ms/step - loss: 580.8887 - mae: 16.2271 - mse: 580.8887\n",
      "Epoch 3/10\n",
      "1195/1195 [==============================] - 2s 2ms/step - loss: 181.4493 - mae: 10.1239 - mse: 181.4493\n",
      "Epoch 4/10\n",
      "1195/1195 [==============================] - 2s 2ms/step - loss: 175.1755 - mae: 9.8683 - mse: 175.1755\n",
      "Epoch 5/10\n",
      "1195/1195 [==============================] - 2s 2ms/step - loss: 170.2709 - mae: 9.6644 - mse: 170.2709\n",
      "Epoch 6/10\n",
      "1195/1195 [==============================] - 2s 2ms/step - loss: 166.4552 - mae: 9.4976 - mse: 166.4552\n",
      "Epoch 7/10\n",
      "1195/1195 [==============================] - 2s 2ms/step - loss: 163.7059 - mae: 9.3740 - mse: 163.7059\n",
      "Epoch 8/10\n",
      "1195/1195 [==============================] - 2s 2ms/step - loss: 161.7702 - mae: 9.2829 - mse: 161.7702\n",
      "Epoch 9/10\n",
      "1195/1195 [==============================] - 2s 2ms/step - loss: 160.5196 - mae: 9.2213 - mse: 160.5196\n",
      "Epoch 10/10\n",
      "1195/1195 [==============================] - 2s 2ms/step - loss: 159.6557 - mae: 9.1754 - mse: 159.6557\n"
     ]
    }
   ],
   "source": [
    "EPOCHS = 10\n",
    "\n",
    "history = model.fit(\n",
    " x_train, y_train,\n",
    " epochs=EPOCHS, callbacks=[tf.keras.callbacks.TensorBoard(\"logs/simple-regression\")])\n"
   ]
  },
  {
   "cell_type": "code",
   "execution_count": 30,
   "metadata": {
    "colab": {
     "base_uri": "https://localhost:8080/",
     "height": 221
    },
    "id": "F27wXNLsD5lW",
    "outputId": "bb75227b-5b2e-4e0f-cf57-6c1a34eec63d"
   },
   "outputs": [
    {
     "data": {
      "text/html": [
       "<div>\n",
       "<style scoped>\n",
       "    .dataframe tbody tr th:only-of-type {\n",
       "        vertical-align: middle;\n",
       "    }\n",
       "\n",
       "    .dataframe tbody tr th {\n",
       "        vertical-align: top;\n",
       "    }\n",
       "\n",
       "    .dataframe thead th {\n",
       "        text-align: right;\n",
       "    }\n",
       "</style>\n",
       "<table border=\"1\" class=\"dataframe\">\n",
       "  <thead>\n",
       "    <tr style=\"text-align: right;\">\n",
       "      <th></th>\n",
       "      <th>Predicted</th>\n",
       "      <th>Actual</th>\n",
       "    </tr>\n",
       "  </thead>\n",
       "  <tbody>\n",
       "    <tr>\n",
       "      <th>16</th>\n",
       "      <td>78.099861</td>\n",
       "      <td>75.0</td>\n",
       "    </tr>\n",
       "    <tr>\n",
       "      <th>74</th>\n",
       "      <td>-0.149586</td>\n",
       "      <td>-2.0</td>\n",
       "    </tr>\n",
       "    <tr>\n",
       "      <th>130</th>\n",
       "      <td>12.565948</td>\n",
       "      <td>9.0</td>\n",
       "    </tr>\n",
       "    <tr>\n",
       "      <th>146</th>\n",
       "      <td>34.084549</td>\n",
       "      <td>16.0</td>\n",
       "    </tr>\n",
       "    <tr>\n",
       "      <th>149</th>\n",
       "      <td>6.697240</td>\n",
       "      <td>4.0</td>\n",
       "    </tr>\n",
       "  </tbody>\n",
       "</table>\n",
       "</div>"
      ],
      "text/plain": [
       "     Predicted  Actual\n",
       "16   78.099861    75.0\n",
       "74   -0.149586    -2.0\n",
       "130  12.565948     9.0\n",
       "146  34.084549    16.0\n",
       "149   6.697240     4.0"
      ]
     },
     "execution_count": 30,
     "metadata": {},
     "output_type": "execute_result"
    }
   ],
   "source": [
    "test_predictions = model.predict(x_test).flatten()\n",
    "results_df = pd.DataFrame({'Predicted': test_predictions, 'Actual': y_test})\n",
    "results_df.head(5)"
   ]
  },
  {
   "cell_type": "code",
   "execution_count": 31,
   "metadata": {
    "colab": {
     "base_uri": "https://localhost:8080/",
     "height": 569
    },
    "id": "r32zVkDAET_x",
    "outputId": "d7217e2d-0c7a-47ff-e40f-39d54e5004be"
   },
   "outputs": [
    {
     "data": {
      "text/plain": [
       "<AxesSubplot:xlabel='Actual', ylabel='Predicted'>"
      ]
     },
     "execution_count": 31,
     "metadata": {},
     "output_type": "execute_result"
    },
    {
     "data": {
      "image/png": "[encoded data removed]",
      "text/plain": [
       "<Figure size 432x288 with 1 Axes>"
      ]
     },
     "metadata": {
      "needs_background": "light"
     },
     "output_type": "display_data"
    }
   ],
   "source": [
    "(results_df\n",
    " .sample(n=200, random_state = 123)\n",
    " .plot.scatter('Actual', 'Predicted')\n",
    ")"
   ]
  },
  {
   "cell_type": "markdown",
   "metadata": {
    "id": "9JEgwoAarkbU"
   },
   "source": [
    "**8. Model Evaluation**"
   ]
  },
  {
   "cell_type": "code",
   "execution_count": 32,
   "metadata": {
    "id": "B19k8s_1ZrTu"
   },
   "outputs": [
    {
     "data": {
      "text/plain": [
       "9.111366197680459"
      ]
     },
     "execution_count": 32,
     "metadata": {},
     "output_type": "execute_result"
    },
    {
     "data": {
      "image/png": "[encoded data removed]",
      "text/plain": [
       "<Figure size 432x288 with 1 Axes>"
      ]
     },
     "metadata": {
      "needs_background": "light"
     },
     "output_type": "display_data"
    }
   ],
   "source": [
    "error = test_predictions - y_test\n",
    "plt.hist(error, bins = 25)\n",
    "plt.xlabel(\"Prediction Error [Departure_Delay]\")\n",
    "_ = plt.ylabel(\"Count\")\n",
    "\n",
    "\n",
    "test_mae = abs(error).mean()\n",
    "\n",
    "test_mae"
   ]
  },
  {
   "cell_type": "code",
   "execution_count": null,
   "metadata": {},
   "outputs": [],
   "source": []
  }
 ],
 "metadata": {
  "colab": {
   "collapsed_sections": [],
   "name": "Rev1.0-Regression_using_TensorflowKeras.ipynb",
   "provenance": []
  },
  "environment": {
   "kernel": "python3",
   "name": "tf2-gpu.2-3.m86",
   "type": "gcloud",
   "uri": "gcr.io/deeplearning-platform-release/tf2-gpu.2-3:m86"
  },
  "kernelspec": {
   "display_name": "Python 3",
   "language": "python",
   "name": "python3"
  },
  "language_info": {
   "codemirror_mode": {
    "name": "ipython",
    "version": 3
   },
   "file_extension": ".py",
   "mimetype": "text/x-python",
   "name": "python",
   "nbconvert_exporter": "python",
   "pygments_lexer": "ipython3",
   "version": "3.7.12"
  }
 },
 "nbformat": 4,
 "nbformat_minor": 4
}
